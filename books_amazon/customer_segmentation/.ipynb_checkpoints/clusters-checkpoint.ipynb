{
 "cells": [
  {
   "cell_type": "code",
   "execution_count": null,
   "metadata": {},
   "outputs": [],
   "source": []
  },
  {
   "cell_type": "code",
   "execution_count": 1,
   "metadata": {},
   "outputs": [],
   "source": [
    "import pandas as pd\n",
    "import numpy as np\n",
    "import matplotlib.pyplot as plt\n",
    "import seaborn as sns"
   ]
  },
  {
   "cell_type": "code",
   "execution_count": null,
   "metadata": {},
   "outputs": [],
   "source": []
  },
  {
   "cell_type": "code",
   "execution_count": 2,
   "metadata": {},
   "outputs": [
    {
     "data": {
      "text/html": [
       "<div>\n",
       "<style scoped>\n",
       "    .dataframe tbody tr th:only-of-type {\n",
       "        vertical-align: middle;\n",
       "    }\n",
       "\n",
       "    .dataframe tbody tr th {\n",
       "        vertical-align: top;\n",
       "    }\n",
       "\n",
       "    .dataframe thead th {\n",
       "        text-align: right;\n",
       "    }\n",
       "</style>\n",
       "<table border=\"1\" class=\"dataframe\">\n",
       "  <thead>\n",
       "    <tr style=\"text-align: right;\">\n",
       "      <th></th>\n",
       "      <th>year</th>\n",
       "      <th>rating</th>\n",
       "      <th>age</th>\n",
       "      <th>rating_avg</th>\n",
       "      <th>pages</th>\n",
       "      <th>ratings_count</th>\n",
       "      <th>reviews_count</th>\n",
       "      <th>lang_en-CA</th>\n",
       "      <th>lang_en-GB</th>\n",
       "      <th>lang_en-US</th>\n",
       "      <th>...</th>\n",
       "      <th>lang_rus</th>\n",
       "      <th>lang_spa</th>\n",
       "      <th>region_africa</th>\n",
       "      <th>region_central_south_america</th>\n",
       "      <th>region_east_asia</th>\n",
       "      <th>region_europe</th>\n",
       "      <th>region_middle_east</th>\n",
       "      <th>region_north_america_british</th>\n",
       "      <th>region_south_asia</th>\n",
       "      <th>predict_cluster_kmeans</th>\n",
       "    </tr>\n",
       "  </thead>\n",
       "  <tbody>\n",
       "    <tr>\n",
       "      <th>0</th>\n",
       "      <td>1998</td>\n",
       "      <td>0.0</td>\n",
       "      <td>49</td>\n",
       "      <td>3.88</td>\n",
       "      <td>465</td>\n",
       "      <td>294348</td>\n",
       "      <td>9096</td>\n",
       "      <td>0</td>\n",
       "      <td>0</td>\n",
       "      <td>0</td>\n",
       "      <td>...</td>\n",
       "      <td>0</td>\n",
       "      <td>0</td>\n",
       "      <td>0</td>\n",
       "      <td>0</td>\n",
       "      <td>0</td>\n",
       "      <td>0</td>\n",
       "      <td>0</td>\n",
       "      <td>1</td>\n",
       "      <td>0</td>\n",
       "      <td>0</td>\n",
       "    </tr>\n",
       "    <tr>\n",
       "      <th>1</th>\n",
       "      <td>1998</td>\n",
       "      <td>0.0</td>\n",
       "      <td>29</td>\n",
       "      <td>3.88</td>\n",
       "      <td>465</td>\n",
       "      <td>294348</td>\n",
       "      <td>9096</td>\n",
       "      <td>0</td>\n",
       "      <td>0</td>\n",
       "      <td>0</td>\n",
       "      <td>...</td>\n",
       "      <td>0</td>\n",
       "      <td>0</td>\n",
       "      <td>0</td>\n",
       "      <td>0</td>\n",
       "      <td>0</td>\n",
       "      <td>0</td>\n",
       "      <td>0</td>\n",
       "      <td>1</td>\n",
       "      <td>0</td>\n",
       "      <td>0</td>\n",
       "    </tr>\n",
       "    <tr>\n",
       "      <th>2</th>\n",
       "      <td>1998</td>\n",
       "      <td>0.0</td>\n",
       "      <td>36</td>\n",
       "      <td>3.88</td>\n",
       "      <td>465</td>\n",
       "      <td>294348</td>\n",
       "      <td>9096</td>\n",
       "      <td>0</td>\n",
       "      <td>0</td>\n",
       "      <td>0</td>\n",
       "      <td>...</td>\n",
       "      <td>0</td>\n",
       "      <td>0</td>\n",
       "      <td>0</td>\n",
       "      <td>0</td>\n",
       "      <td>0</td>\n",
       "      <td>0</td>\n",
       "      <td>0</td>\n",
       "      <td>1</td>\n",
       "      <td>0</td>\n",
       "      <td>0</td>\n",
       "    </tr>\n",
       "  </tbody>\n",
       "</table>\n",
       "<p>3 rows × 26 columns</p>\n",
       "</div>"
      ],
      "text/plain": [
       "   year  rating  age  rating_avg  pages  ratings_count  reviews_count  \\\n",
       "0  1998     0.0   49        3.88    465         294348           9096   \n",
       "1  1998     0.0   29        3.88    465         294348           9096   \n",
       "2  1998     0.0   36        3.88    465         294348           9096   \n",
       "\n",
       "   lang_en-CA  lang_en-GB  lang_en-US  ...  lang_rus  lang_spa  region_africa  \\\n",
       "0           0           0           0  ...         0         0              0   \n",
       "1           0           0           0  ...         0         0              0   \n",
       "2           0           0           0  ...         0         0              0   \n",
       "\n",
       "   region_central_south_america  region_east_asia  region_europe  \\\n",
       "0                             0                 0              0   \n",
       "1                             0                 0              0   \n",
       "2                             0                 0              0   \n",
       "\n",
       "   region_middle_east  region_north_america_british  region_south_asia  \\\n",
       "0                   0                             1                  0   \n",
       "1                   0                             1                  0   \n",
       "2                   0                             1                  0   \n",
       "\n",
       "   predict_cluster_kmeans  \n",
       "0                       0  \n",
       "1                       0  \n",
       "2                       0  \n",
       "\n",
       "[3 rows x 26 columns]"
      ]
     },
     "execution_count": 2,
     "metadata": {},
     "output_type": "execute_result"
    }
   ],
   "source": [
    "df = pd.read_csv('clustering_output.csv', index_col=0)\n",
    "df.head(3)"
   ]
  },
  {
   "cell_type": "code",
   "execution_count": 3,
   "metadata": {},
   "outputs": [
    {
     "data": {
      "text/plain": [
       "(38348, 26)"
      ]
     },
     "execution_count": 3,
     "metadata": {},
     "output_type": "execute_result"
    }
   ],
   "source": [
    "df.shape"
   ]
  },
  {
   "cell_type": "code",
   "execution_count": 4,
   "metadata": {},
   "outputs": [
    {
     "data": {
      "text/plain": [
       "Index(['year', 'rating', 'age', 'rating_avg', 'pages', 'ratings_count',\n",
       "       'reviews_count', 'lang_en-CA', 'lang_en-GB', 'lang_en-US', 'lang_eng',\n",
       "       'lang_enm', 'lang_fre', 'lang_ger', 'lang_lat', 'lang_mul', 'lang_rus',\n",
       "       'lang_spa', 'region_africa', 'region_central_south_america',\n",
       "       'region_east_asia', 'region_europe', 'region_middle_east',\n",
       "       'region_north_america_british', 'region_south_asia',\n",
       "       'predict_cluster_kmeans'],\n",
       "      dtype='object')"
      ]
     },
     "execution_count": 4,
     "metadata": {},
     "output_type": "execute_result"
    }
   ],
   "source": [
    "df.columns"
   ]
  },
  {
   "cell_type": "code",
   "execution_count": null,
   "metadata": {},
   "outputs": [],
   "source": []
  },
  {
   "cell_type": "code",
   "execution_count": 5,
   "metadata": {},
   "outputs": [
    {
     "data": {
      "text/plain": [
       "0    37086\n",
       "1     1079\n",
       "2      183\n",
       "Name: predict_cluster_kmeans, dtype: int64"
      ]
     },
     "execution_count": 5,
     "metadata": {},
     "output_type": "execute_result"
    }
   ],
   "source": [
    "df['predict_cluster_kmeans'].value_counts()"
   ]
  },
  {
   "cell_type": "code",
   "execution_count": null,
   "metadata": {},
   "outputs": [],
   "source": []
  },
  {
   "cell_type": "code",
   "execution_count": 6,
   "metadata": {},
   "outputs": [
    {
     "data": {
      "text/plain": [
       "Text(0.5, 0, 'Clusters')"
      ]
     },
     "execution_count": 6,
     "metadata": {},
     "output_type": "execute_result"
    },
    {
     "data": {
      "image/png": "[encoded data removed]",
      "text/plain": [
       "<Figure size 720x720 with 1 Axes>"
      ]
     },
     "metadata": {
      "needs_background": "light"
     },
     "output_type": "display_data"
    }
   ],
   "source": [
    "plt.figure(figsize = (10,10))\n",
    "ax = sns.barplot(x = 'predict_cluster_kmeans', y = 'year', data = df,\n",
    "                 palette = ['lightsteelblue', 'lightsteelblue', 'lightsteelblue'], \n",
    "                 linewidth = 1.5, edgecolor = 'black')\n",
    "#plt.axhline(y=0.5, c='r')\n",
    "plt.xticks(fontsize=20)\n",
    "#plt.yticks(fontsize=20)\n",
    "plt.ylabel('Book Publication Year', fontsize=20)\n",
    "plt.xlabel('Clusters')"
   ]
  },
  {
   "cell_type": "code",
   "execution_count": null,
   "metadata": {},
   "outputs": [],
   "source": []
  },
  {
   "cell_type": "code",
   "execution_count": null,
   "metadata": {},
   "outputs": [],
   "source": []
  }
 ],
 "metadata": {
  "kernelspec": {
   "display_name": "Python 3",
   "language": "python",
   "name": "python3"
  },
  "language_info": {
   "codemirror_mode": {
    "name": "ipython",
    "version": 3
   },
   "file_extension": ".py",
   "mimetype": "text/x-python",
   "name": "python",
   "nbconvert_exporter": "python",
   "pygments_lexer": "ipython3",
   "version": "3.7.6"
  }
 },
 "nbformat": 4,
 "nbformat_minor": 4
}
