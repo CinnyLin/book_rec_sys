{
 "cells": [
  {
   "cell_type": "code",
   "execution_count": null,
   "metadata": {},
   "outputs": [],
   "source": []
  },
  {
   "cell_type": "markdown",
   "metadata": {},
   "source": [
    "# Tags"
   ]
  },
  {
   "cell_type": "code",
   "execution_count": null,
   "metadata": {},
   "outputs": [],
   "source": []
  },
  {
   "cell_type": "code",
   "execution_count": 1,
   "metadata": {},
   "outputs": [
    {
     "name": "stderr",
     "output_type": "stream",
     "text": [
      "[nltk_data] Downloading package stopwords to /Users/cinny/nltk_data...\n",
      "[nltk_data]   Package stopwords is already up-to-date!\n"
     ]
    },
    {
     "data": {
      "text/plain": [
       "True"
      ]
     },
     "execution_count": 1,
     "metadata": {},
     "output_type": "execute_result"
    }
   ],
   "source": [
    "import pandas as pd\n",
    "import numpy as np\n",
    "import collections\n",
    "\n",
    "import seaborn as sns\n",
    "import matplotlib.pyplot as plt\n",
    "%matplotlib inline\n",
    "\n",
    "import scipy\n",
    "import math\n",
    "import random\n",
    "import sklearn\n",
    "import string\n",
    "from nltk.corpus import stopwords\n",
    "from sklearn.model_selection import train_test_split\n",
    "\n",
    "import nltk\n",
    "nltk.download('stopwords')"
   ]
  },
  {
   "cell_type": "code",
   "execution_count": null,
   "metadata": {},
   "outputs": [],
   "source": []
  },
  {
   "cell_type": "code",
   "execution_count": 2,
   "metadata": {},
   "outputs": [],
   "source": [
    "def rmse(y,h):\n",
    "    \"\"\"RMSE\n",
    "    Args:\n",
    "        y: real y\n",
    "        h: predicted y\n",
    "    Returns:\n",
    "        RMSE\n",
    "    \"\"\"\n",
    "    a = y-h\n",
    "\n",
    "    return np.sqrt(sum(a**2)/len(a))"
   ]
  },
  {
   "cell_type": "code",
   "execution_count": null,
   "metadata": {},
   "outputs": [],
   "source": []
  },
  {
   "cell_type": "code",
   "execution_count": 3,
   "metadata": {},
   "outputs": [
    {
     "data": {
      "text/html": [
       "<div>\n",
       "<style scoped>\n",
       "    .dataframe tbody tr th:only-of-type {\n",
       "        vertical-align: middle;\n",
       "    }\n",
       "\n",
       "    .dataframe tbody tr th {\n",
       "        vertical-align: top;\n",
       "    }\n",
       "\n",
       "    .dataframe thead th {\n",
       "        text-align: right;\n",
       "    }\n",
       "</style>\n",
       "<table border=\"1\" class=\"dataframe\">\n",
       "  <thead>\n",
       "    <tr style=\"text-align: right;\">\n",
       "      <th></th>\n",
       "      <th>uid</th>\n",
       "      <th>isbn</th>\n",
       "      <th>rating</th>\n",
       "    </tr>\n",
       "  </thead>\n",
       "  <tbody>\n",
       "    <tr>\n",
       "      <th>0</th>\n",
       "      <td>276725</td>\n",
       "      <td>034545104X</td>\n",
       "      <td>0</td>\n",
       "    </tr>\n",
       "    <tr>\n",
       "      <th>1</th>\n",
       "      <td>276726</td>\n",
       "      <td>0155061224</td>\n",
       "      <td>5</td>\n",
       "    </tr>\n",
       "    <tr>\n",
       "      <th>2</th>\n",
       "      <td>276727</td>\n",
       "      <td>0446520802</td>\n",
       "      <td>0</td>\n",
       "    </tr>\n",
       "  </tbody>\n",
       "</table>\n",
       "</div>"
      ],
      "text/plain": [
       "      uid        isbn  rating\n",
       "0  276725  034545104X       0\n",
       "1  276726  0155061224       5\n",
       "2  276727  0446520802       0"
      ]
     },
     "execution_count": 3,
     "metadata": {},
     "output_type": "execute_result"
    }
   ],
   "source": [
    "df1 = pd.read_csv('books/Ratings.csv')\n",
    "df1.columns = ['uid', 'isbn', 'rating']\n",
    "df1.head(3)"
   ]
  },
  {
   "cell_type": "code",
   "execution_count": 4,
   "metadata": {},
   "outputs": [
    {
     "data": {
      "text/html": [
       "<div>\n",
       "<style scoped>\n",
       "    .dataframe tbody tr th:only-of-type {\n",
       "        vertical-align: middle;\n",
       "    }\n",
       "\n",
       "    .dataframe tbody tr th {\n",
       "        vertical-align: top;\n",
       "    }\n",
       "\n",
       "    .dataframe thead th {\n",
       "        text-align: right;\n",
       "    }\n",
       "</style>\n",
       "<table border=\"1\" class=\"dataframe\">\n",
       "  <thead>\n",
       "    <tr style=\"text-align: right;\">\n",
       "      <th></th>\n",
       "      <th>isbn</th>\n",
       "      <th>title</th>\n",
       "      <th>author</th>\n",
       "      <th>year</th>\n",
       "      <th>publisher</th>\n",
       "      <th>tag_name</th>\n",
       "    </tr>\n",
       "  </thead>\n",
       "  <tbody>\n",
       "    <tr>\n",
       "      <th>0</th>\n",
       "      <td>067976397X</td>\n",
       "      <td>Corelli's Mandolin : A Novel</td>\n",
       "      <td>LOUIS DE BERNIERES</td>\n",
       "      <td>1995</td>\n",
       "      <td>Vintage</td>\n",
       "      <td>to-read</td>\n",
       "    </tr>\n",
       "    <tr>\n",
       "      <th>1</th>\n",
       "      <td>067976397X</td>\n",
       "      <td>Corelli's Mandolin : A Novel</td>\n",
       "      <td>LOUIS DE BERNIERES</td>\n",
       "      <td>1995</td>\n",
       "      <td>Vintage</td>\n",
       "      <td>favorites</td>\n",
       "    </tr>\n",
       "    <tr>\n",
       "      <th>2</th>\n",
       "      <td>067976397X</td>\n",
       "      <td>Corelli's Mandolin : A Novel</td>\n",
       "      <td>LOUIS DE BERNIERES</td>\n",
       "      <td>1995</td>\n",
       "      <td>Vintage</td>\n",
       "      <td>currently-reading</td>\n",
       "    </tr>\n",
       "  </tbody>\n",
       "</table>\n",
       "</div>"
      ],
      "text/plain": [
       "         isbn                         title              author  year  \\\n",
       "0  067976397X  Corelli's Mandolin : A Novel  LOUIS DE BERNIERES  1995   \n",
       "1  067976397X  Corelli's Mandolin : A Novel  LOUIS DE BERNIERES  1995   \n",
       "2  067976397X  Corelli's Mandolin : A Novel  LOUIS DE BERNIERES  1995   \n",
       "\n",
       "  publisher           tag_name  \n",
       "0   Vintage            to-read  \n",
       "1   Vintage          favorites  \n",
       "2   Vintage  currently-reading  "
      ]
     },
     "execution_count": 4,
     "metadata": {},
     "output_type": "execute_result"
    }
   ],
   "source": [
    "df2 = pd.read_csv('books/Books_tags.csv', index_col=0)\n",
    "df2.head(3)"
   ]
  },
  {
   "cell_type": "code",
   "execution_count": 5,
   "metadata": {},
   "outputs": [
    {
     "data": {
      "text/html": [
       "<div>\n",
       "<style scoped>\n",
       "    .dataframe tbody tr th:only-of-type {\n",
       "        vertical-align: middle;\n",
       "    }\n",
       "\n",
       "    .dataframe tbody tr th {\n",
       "        vertical-align: top;\n",
       "    }\n",
       "\n",
       "    .dataframe thead th {\n",
       "        text-align: right;\n",
       "    }\n",
       "</style>\n",
       "<table border=\"1\" class=\"dataframe\">\n",
       "  <thead>\n",
       "    <tr style=\"text-align: right;\">\n",
       "      <th></th>\n",
       "      <th>uid</th>\n",
       "      <th>isbn</th>\n",
       "      <th>rating</th>\n",
       "      <th>title</th>\n",
       "      <th>author</th>\n",
       "      <th>year</th>\n",
       "      <th>publisher</th>\n",
       "      <th>tag_name</th>\n",
       "    </tr>\n",
       "  </thead>\n",
       "  <tbody>\n",
       "    <tr>\n",
       "      <th>0</th>\n",
       "      <td>276925</td>\n",
       "      <td>067172939X</td>\n",
       "      <td>0</td>\n",
       "      <td>Dark Angel (Casteel)</td>\n",
       "      <td>V.C. Andrews</td>\n",
       "      <td>1990</td>\n",
       "      <td>Pocket</td>\n",
       "      <td>to-read</td>\n",
       "    </tr>\n",
       "    <tr>\n",
       "      <th>1</th>\n",
       "      <td>276925</td>\n",
       "      <td>067172939X</td>\n",
       "      <td>0</td>\n",
       "      <td>Dark Angel (Casteel)</td>\n",
       "      <td>V.C. Andrews</td>\n",
       "      <td>1990</td>\n",
       "      <td>Pocket</td>\n",
       "      <td>favorites</td>\n",
       "    </tr>\n",
       "    <tr>\n",
       "      <th>2</th>\n",
       "      <td>276925</td>\n",
       "      <td>067172939X</td>\n",
       "      <td>0</td>\n",
       "      <td>Dark Angel (Casteel)</td>\n",
       "      <td>V.C. Andrews</td>\n",
       "      <td>1990</td>\n",
       "      <td>Pocket</td>\n",
       "      <td>currently-reading</td>\n",
       "    </tr>\n",
       "  </tbody>\n",
       "</table>\n",
       "</div>"
      ],
      "text/plain": [
       "      uid        isbn  rating                 title        author  year  \\\n",
       "0  276925  067172939X       0  Dark Angel (Casteel)  V.C. Andrews  1990   \n",
       "1  276925  067172939X       0  Dark Angel (Casteel)  V.C. Andrews  1990   \n",
       "2  276925  067172939X       0  Dark Angel (Casteel)  V.C. Andrews  1990   \n",
       "\n",
       "  publisher           tag_name  \n",
       "0    Pocket            to-read  \n",
       "1    Pocket          favorites  \n",
       "2    Pocket  currently-reading  "
      ]
     },
     "execution_count": 5,
     "metadata": {},
     "output_type": "execute_result"
    }
   ],
   "source": [
    "df = df1.merge(df2, on='isbn')\n",
    "df.head(3)"
   ]
  },
  {
   "cell_type": "code",
   "execution_count": null,
   "metadata": {},
   "outputs": [],
   "source": []
  },
  {
   "cell_type": "code",
   "execution_count": 6,
   "metadata": {},
   "outputs": [],
   "source": [
    "train, test = train_test_split(df, test_size=0.20, random_state=42)"
   ]
  },
  {
   "cell_type": "code",
   "execution_count": null,
   "metadata": {},
   "outputs": [],
   "source": []
  },
  {
   "cell_type": "code",
   "execution_count": 7,
   "metadata": {},
   "outputs": [
    {
     "data": {
      "text/html": [
       "<div>\n",
       "<style scoped>\n",
       "    .dataframe tbody tr th:only-of-type {\n",
       "        vertical-align: middle;\n",
       "    }\n",
       "\n",
       "    .dataframe tbody tr th {\n",
       "        vertical-align: top;\n",
       "    }\n",
       "\n",
       "    .dataframe thead th {\n",
       "        text-align: right;\n",
       "    }\n",
       "</style>\n",
       "<table border=\"1\" class=\"dataframe\">\n",
       "  <thead>\n",
       "    <tr style=\"text-align: right;\">\n",
       "      <th></th>\n",
       "      <th>isbn</th>\n",
       "      <th>rating</th>\n",
       "      <th>popshare</th>\n",
       "      <th>category</th>\n",
       "    </tr>\n",
       "  </thead>\n",
       "  <tbody>\n",
       "    <tr>\n",
       "      <th>113</th>\n",
       "      <td>044022750X</td>\n",
       "      <td>700</td>\n",
       "      <td>0.950005</td>\n",
       "      <td>Tail</td>\n",
       "    </tr>\n",
       "    <tr>\n",
       "      <th>366</th>\n",
       "      <td>1931514585</td>\n",
       "      <td>700</td>\n",
       "      <td>0.950649</td>\n",
       "      <td>Tail</td>\n",
       "    </tr>\n",
       "    <tr>\n",
       "      <th>265</th>\n",
       "      <td>156389405X</td>\n",
       "      <td>700</td>\n",
       "      <td>0.951294</td>\n",
       "      <td>Tail</td>\n",
       "    </tr>\n",
       "    <tr>\n",
       "      <th>370</th>\n",
       "      <td>1931514941</td>\n",
       "      <td>700</td>\n",
       "      <td>0.951938</td>\n",
       "      <td>Tail</td>\n",
       "    </tr>\n",
       "    <tr>\n",
       "      <th>162</th>\n",
       "      <td>067973452X</td>\n",
       "      <td>700</td>\n",
       "      <td>0.952583</td>\n",
       "      <td>Tail</td>\n",
       "    </tr>\n",
       "    <tr>\n",
       "      <th>...</th>\n",
       "      <td>...</td>\n",
       "      <td>...</td>\n",
       "      <td>...</td>\n",
       "      <td>...</td>\n",
       "    </tr>\n",
       "    <tr>\n",
       "      <th>323</th>\n",
       "      <td>1578562589</td>\n",
       "      <td>100</td>\n",
       "      <td>0.999632</td>\n",
       "      <td>Tail</td>\n",
       "    </tr>\n",
       "    <tr>\n",
       "      <th>221</th>\n",
       "      <td>1400041988</td>\n",
       "      <td>100</td>\n",
       "      <td>0.999724</td>\n",
       "      <td>Tail</td>\n",
       "    </tr>\n",
       "    <tr>\n",
       "      <th>320</th>\n",
       "      <td>1576751740</td>\n",
       "      <td>100</td>\n",
       "      <td>0.999816</td>\n",
       "      <td>Tail</td>\n",
       "    </tr>\n",
       "    <tr>\n",
       "      <th>222</th>\n",
       "      <td>1400045371</td>\n",
       "      <td>100</td>\n",
       "      <td>0.999908</td>\n",
       "      <td>Tail</td>\n",
       "    </tr>\n",
       "    <tr>\n",
       "      <th>396</th>\n",
       "      <td>9725681363</td>\n",
       "      <td>100</td>\n",
       "      <td>1.000000</td>\n",
       "      <td>Tail</td>\n",
       "    </tr>\n",
       "  </tbody>\n",
       "</table>\n",
       "<p>209 rows × 4 columns</p>\n",
       "</div>"
      ],
      "text/plain": [
       "           isbn  rating  popshare category\n",
       "113  044022750X     700  0.950005     Tail\n",
       "366  1931514585     700  0.950649     Tail\n",
       "265  156389405X     700  0.951294     Tail\n",
       "370  1931514941     700  0.951938     Tail\n",
       "162  067973452X     700  0.952583     Tail\n",
       "..          ...     ...       ...      ...\n",
       "323  1578562589     100  0.999632     Tail\n",
       "221  1400041988     100  0.999724     Tail\n",
       "320  1576751740     100  0.999816     Tail\n",
       "222  1400045371     100  0.999908     Tail\n",
       "396  9725681363     100  1.000000     Tail\n",
       "\n",
       "[209 rows x 4 columns]"
      ]
     },
     "execution_count": 7,
     "metadata": {},
     "output_type": "execute_result"
    }
   ],
   "source": [
    "## DEFINING THE TAIL\n",
    "tailcomp = df.groupby(by='isbn', as_index=False).agg({'rating':pd.Series.count}).sort_values(by = 'rating', ascending = False)\n",
    "tot = sum(tailcomp['rating'])\n",
    "tailcomp['popshare']= [x/tot for x in tailcomp['rating']]\n",
    "tailcomp['popshare']= tailcomp['popshare'].cumsum()\n",
    "tailcomp['category']= ['Head' if x<0.95 else \"Tail\" for x in tailcomp['popshare']]\n",
    "\n",
    "tail = tailcomp.loc[tailcomp.popshare >= 0.95]\n",
    "tail"
   ]
  },
  {
   "cell_type": "code",
   "execution_count": 8,
   "metadata": {},
   "outputs": [],
   "source": [
    "def get_words(message):\n",
    "    \"\"\"Get the normalized list of words from a message string.\n",
    "\n",
    "    This function should split a message into words, normalize them, and return\n",
    "    the resulting list. For splitting, you should split on spaces. For normalization,\n",
    "    you should convert everything to lowercase.\n",
    "\n",
    "    Args:\n",
    "        message: A string containing an SMS message\n",
    "\n",
    "    Returns:\n",
    "       The list of normalized words from the message.\n",
    "    \"\"\"\n",
    "\n",
    "\n",
    "    words = message\n",
    "    words = words.split(\" \")\n",
    "    words = [x.lower() for x in words]\n",
    "\n",
    "    return words"
   ]
  },
  {
   "cell_type": "code",
   "execution_count": 9,
   "metadata": {},
   "outputs": [],
   "source": [
    "def create_dictionary(messages):\n",
    "    \"\"\"Create a dictionary mapping words to integer indices.\n",
    "\n",
    "    Args:\n",
    "        messages: A list of strings containing SMS messages\n",
    "\n",
    "    Returns:\n",
    "        A python dict mapping words to integers.\n",
    "    \"\"\"\n",
    "\n",
    "    word_counts = collections.defaultdict(int)\n",
    "\n",
    "    for message in messages:\n",
    "        for word in set(get_words(message)):\n",
    "            word_counts[word] += 1\n",
    "\n",
    "    resulting_dictionary = {}\n",
    "\n",
    "    for word, count in word_counts.items():\n",
    "        if count >= 10 and word not in stopwords.words('english') and len(word) > 1:\n",
    "            next_index = len(resulting_dictionary)\n",
    "            resulting_dictionary[word] = next_index\n",
    "\n",
    "    return resulting_dictionary"
   ]
  },
  {
   "cell_type": "code",
   "execution_count": 10,
   "metadata": {},
   "outputs": [],
   "source": [
    "def transform_text(messages, word_dictionary):\n",
    "    \"\"\"Transform a list of text messages into a numpy array for further processing.\n",
    "\n",
    "    Args:\n",
    "        messages: A list of strings where each string is an SMS message.\n",
    "        word_dictionary: A python dict mapping words to integers.\n",
    "\n",
    "    Returns:\n",
    "        A numpy array marking the words present in each message.\n",
    "        Where the component (i,j) is the number of occurrences of the\n",
    "        j-th vocabulary word in the i-th message.\n",
    "    \"\"\"\n",
    "\n",
    "    A = np.zeros((len(messages), len(word_dictionary)))\n",
    "\n",
    "    for i, message in enumerate(messages):\n",
    "        for word in get_words(message):\n",
    "            if word in word_dictionary:\n",
    "                A[i, word_dictionary[word]] += 1\n",
    "\n",
    "    return A"
   ]
  },
  {
   "cell_type": "code",
   "execution_count": null,
   "metadata": {},
   "outputs": [],
   "source": []
  },
  {
   "cell_type": "code",
   "execution_count": 11,
   "metadata": {},
   "outputs": [],
   "source": [
    "df['tag_name'] = df['tag_name'].str.replace(r'[^\\w\\s]','')\n",
    "df['tag_name'] = df['tag_name'].str.replace('-',' ')\n",
    "df['words'] = df['tag_name'] +' '+df['author']\n",
    "word_dict = create_dictionary(df['words'])\n",
    "#word_dict"
   ]
  },
  {
   "cell_type": "code",
   "execution_count": 12,
   "metadata": {},
   "outputs": [
    {
     "data": {
      "text/plain": [
       "4038"
      ]
     },
     "execution_count": 12,
     "metadata": {},
     "output_type": "execute_result"
    }
   ],
   "source": [
    "len(word_dict)"
   ]
  },
  {
   "cell_type": "code",
   "execution_count": 13,
   "metadata": {},
   "outputs": [],
   "source": [
    "A = transform_text(df['words'], word_dict)"
   ]
  },
  {
   "cell_type": "code",
   "execution_count": 14,
   "metadata": {},
   "outputs": [
    {
     "data": {
      "text/plain": [
       "1086100"
      ]
     },
     "execution_count": 14,
     "metadata": {},
     "output_type": "execute_result"
    }
   ],
   "source": [
    "np.size(A, 0)"
   ]
  },
  {
   "cell_type": "code",
   "execution_count": 15,
   "metadata": {},
   "outputs": [
    {
     "data": {
      "text/plain": [
       "1.0"
      ]
     },
     "execution_count": 15,
     "metadata": {},
     "output_type": "execute_result"
    }
   ],
   "source": [
    "np.sum(A, axis=1).min()"
   ]
  },
  {
   "cell_type": "code",
   "execution_count": 16,
   "metadata": {},
   "outputs": [
    {
     "data": {
      "text/plain": [
       "4038"
      ]
     },
     "execution_count": 16,
     "metadata": {},
     "output_type": "execute_result"
    }
   ],
   "source": [
    "A1 = np.sum((A>0), axis= 0)\n",
    "\n",
    "IDF = np.log(np.size(A, 0)/A1)\n",
    "IDF\n",
    "len(IDF)"
   ]
  },
  {
   "cell_type": "code",
   "execution_count": 17,
   "metadata": {},
   "outputs": [
    {
     "data": {
      "text/plain": [
       "(1086100, 4038)"
      ]
     },
     "execution_count": 17,
     "metadata": {},
     "output_type": "execute_result"
    }
   ],
   "source": [
    "TF = A / (np.sum(A, axis=1, keepdims=True))\n",
    "np.shape(TF)"
   ]
  },
  {
   "cell_type": "code",
   "execution_count": 18,
   "metadata": {},
   "outputs": [
    {
     "data": {
      "text/plain": [
       "(1086100, 4038)"
      ]
     },
     "execution_count": 18,
     "metadata": {},
     "output_type": "execute_result"
    }
   ],
   "source": [
    "TFiDF = TF*IDF\n",
    "np.shape(TFiDF)"
   ]
  },
  {
   "cell_type": "code",
   "execution_count": 19,
   "metadata": {},
   "outputs": [],
   "source": [
    "# ids = np.argsort(TFiDF.mean(axis=1))[:5]\n",
    "# reverse_dictionary = {i: word for word, i in word_dict.items()}\n",
    "# [reverse_dictionary[i] for i in ids]"
   ]
  },
  {
   "cell_type": "code",
   "execution_count": null,
   "metadata": {},
   "outputs": [],
   "source": []
  },
  {
   "cell_type": "code",
   "execution_count": 20,
   "metadata": {},
   "outputs": [
    {
     "data": {
      "text/plain": [
       "numpy.ndarray"
      ]
     },
     "execution_count": 20,
     "metadata": {},
     "output_type": "execute_result"
    }
   ],
   "source": [
    "type(TFiDF)"
   ]
  },
  {
   "cell_type": "code",
   "execution_count": 21,
   "metadata": {},
   "outputs": [
    {
     "data": {
      "text/plain": [
       "array([[1.78056332, 1.78056332, 1.53478063, ..., 0.        , 0.        ,\n",
       "        0.        ],\n",
       "       [1.78056332, 1.78056332, 0.        , ..., 0.        , 0.        ,\n",
       "        0.        ],\n",
       "       [1.78056332, 1.78056332, 0.        , ..., 0.        , 0.        ,\n",
       "        0.        ],\n",
       "       ...,\n",
       "       [0.        , 0.        , 0.        , ..., 0.        , 4.64646684,\n",
       "        4.64646684],\n",
       "       [0.        , 0.        , 0.        , ..., 0.        , 4.64646684,\n",
       "        4.64646684],\n",
       "       [0.        , 0.        , 0.        , ..., 0.        , 4.64646684,\n",
       "        4.64646684]])"
      ]
     },
     "execution_count": 21,
     "metadata": {},
     "output_type": "execute_result"
    }
   ],
   "source": [
    "TFiDF"
   ]
  },
  {
   "cell_type": "code",
   "execution_count": null,
   "metadata": {},
   "outputs": [],
   "source": []
  },
  {
   "cell_type": "code",
   "execution_count": null,
   "metadata": {},
   "outputs": [],
   "source": []
  },
  {
   "cell_type": "code",
   "execution_count": null,
   "metadata": {},
   "outputs": [],
   "source": [
    "TFiDF = TFiDF / np.sqrt((np.sum(TFiDF**2, axis = 1, keepdims=True)+0.01))"
   ]
  },
  {
   "cell_type": "code",
   "execution_count": null,
   "metadata": {},
   "outputs": [],
   "source": [
    "SimC = np.dot(TFiDF, TFiDF.T)\n",
    "SimC"
   ]
  },
  {
   "cell_type": "code",
   "execution_count": null,
   "metadata": {},
   "outputs": [],
   "source": [
    "np.sum(SimC, axis = 1).max()"
   ]
  },
  {
   "cell_type": "code",
   "execution_count": null,
   "metadata": {},
   "outputs": [],
   "source": [
    "np.fill_diagonal(SimC, 1)"
   ]
  },
  {
   "cell_type": "code",
   "execution_count": null,
   "metadata": {},
   "outputs": [],
   "source": [
    "BookSim =pd.DataFrame(SimC, columns=df['title'], index=df['title'])\n",
    "BookSim.head(3)"
   ]
  },
  {
   "cell_type": "code",
   "execution_count": null,
   "metadata": {},
   "outputs": [],
   "source": [
    "#np.argsort(SimC[53, :])[-5:]\n",
    "df.title[np.argsort(SimC[15, :])[-6:]]\n",
    "#Sim20 = pd.DataFrame(Sim20, columns=finalbooks.title[101:200], index=finalbooks.title[50:60])"
   ]
  },
  {
   "cell_type": "code",
   "execution_count": null,
   "metadata": {},
   "outputs": [],
   "source": [
    "SimC[15, [15, 2252, 6977, 4642, 2796, 1700 ]]"
   ]
  },
  {
   "cell_type": "code",
   "execution_count": null,
   "metadata": {},
   "outputs": [],
   "source": [
    "df[df['isbn'].isin(np.argsort(SimC[15, :])[-6:]+1)]"
   ]
  },
  {
   "cell_type": "code",
   "execution_count": null,
   "metadata": {},
   "outputs": [],
   "source": [
    "# Set up the matplotlib figure\n",
    "f, ax = plt.subplots(figsize=(27.5, 22.5))\n",
    "\n",
    "# Generate a custom diverging colormap followed by the correlation heatmap\n",
    "cmap =sns.diverging_palette(20, 220, n=20000)\n",
    "\n",
    "sns.heatmap(BookSim, cmap=cmap,center = 0,\n",
    "            square=True, linewidths=.5, cbar_kws={\"shrink\": .5})"
   ]
  },
  {
   "cell_type": "code",
   "execution_count": null,
   "metadata": {},
   "outputs": [],
   "source": [
    "train"
   ]
  },
  {
   "cell_type": "code",
   "execution_count": null,
   "metadata": {},
   "outputs": [],
   "source": [
    "allpreds = []\n",
    "train = train.sort_values(by=['isbn'])\n",
    "for i in range(15000):\n",
    "  bi = train['isbn'][train['uid'] == i+1]-1\n",
    "  Simi = SimC[:, bi]\n",
    "  ri = np.array(train[train['uid'] == i+1].sort_values(by=['isbn']).rating)\n",
    "  predi = finalbooks.filter(['isbn'])\n",
    "  predi['pred'] = np.sum(Simi*ri, axis=1)/(np.sum(Simi, axis=1)+0.01)\n",
    "  predi['uid'] = i+1\n",
    "  allpreds.append(predi)\n",
    "  if (i+1)%1000 == 0: print(\"done: \", i+1)"
   ]
  },
  {
   "cell_type": "code",
   "execution_count": null,
   "metadata": {},
   "outputs": [],
   "source": [
    "predictions = np.concatenate(allpreds, axis=0 )"
   ]
  },
  {
   "cell_type": "code",
   "execution_count": null,
   "metadata": {},
   "outputs": [],
   "source": [
    "final = pd.DataFrame(predictions, columns=['isbn', 'pred', 'uid'])\n",
    "final.head(3)"
   ]
  },
  {
   "cell_type": "code",
   "execution_count": null,
   "metadata": {},
   "outputs": [],
   "source": [
    "train['conc']=train['uid'].map(str)+train['isbn'].map(str)\n",
    "final['conc']=final['uid'].map(str)+final['isbn'].map(str)\n",
    "finalfin = final[~final.conc.isin(train.conc)]\n",
    "finalfin.describe()"
   ]
  },
  {
   "cell_type": "code",
   "execution_count": null,
   "metadata": {},
   "outputs": [],
   "source": [
    "finalrank = test.merge(final, on=['isbn', 'uid'])\n",
    "finalrank = finalrank.sort_values(by=['uid', 'pred'], ascending=False)\n",
    "finalrank.head(5)"
   ]
  },
  {
   "cell_type": "code",
   "execution_count": null,
   "metadata": {},
   "outputs": [],
   "source": [
    "finallist = []\n",
    "for i in range(15000):\n",
    "    a = finalrank.loc[finalrank['uid'] == i+1]['rating'].tolist()\n",
    "    finallist.append(a)\n",
    "    if (i+1)%1000 == 0: print(\"done: \", i+1)"
   ]
  },
  {
   "cell_type": "code",
   "execution_count": null,
   "metadata": {},
   "outputs": [],
   "source": [
    "b = np.array([rmse(r, len(r)) for r in finallist])\n",
    "\n",
    "facet, axes = plt.subplots(1, 1, figsize=(10, 3))\n",
    "n, bins, patches = plt.hist(b, 200, facecolor='blue', alpha=0.5) #, log = True)   \n",
    "plt.title('Distribution of NDGC among Users for the TFiDF model')\n",
    "plt.show()"
   ]
  },
  {
   "cell_type": "code",
   "execution_count": null,
   "metadata": {},
   "outputs": [],
   "source": [
    "d = b[b == 1]\n",
    "sum(d)/15000"
   ]
  },
  {
   "cell_type": "code",
   "execution_count": null,
   "metadata": {},
   "outputs": [],
   "source": [
    "top10 = finalfin.sort_values('pred',ascending = False).groupby('uid').head(10)\n",
    "top50 = finalfin.sort_values('pred',ascending = False).groupby('uid').head(50)\n",
    "\n",
    "print('RMSE: ', np.round(rmse(finalrank['pred'],finalrank['rating']), decimals=3))"
   ]
  },
  {
   "cell_type": "code",
   "execution_count": null,
   "metadata": {},
   "outputs": [],
   "source": []
  },
  {
   "cell_type": "code",
   "execution_count": null,
   "metadata": {},
   "outputs": [],
   "source": []
  }
 ],
 "metadata": {
  "kernelspec": {
   "display_name": "Python 3.8.1 64-bit",
   "language": "python",
   "name": "python38164bit0209044da7c742dab8314e0953beb93b"
  },
  "language_info": {
   "codemirror_mode": {
    "name": "ipython",
    "version": 3
   },
   "file_extension": ".py",
   "mimetype": "text/x-python",
   "name": "python",
   "nbconvert_exporter": "python",
   "pygments_lexer": "ipython3",
   "version": "3.8.1"
  }
 },
 "nbformat": 4,
 "nbformat_minor": 4
}
