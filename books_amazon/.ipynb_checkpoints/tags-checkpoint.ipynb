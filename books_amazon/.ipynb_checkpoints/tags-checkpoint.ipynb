{
 "cells": [
  {
   "cell_type": "code",
   "execution_count": null,
   "metadata": {},
   "outputs": [],
   "source": []
  },
  {
   "cell_type": "markdown",
   "metadata": {},
   "source": [
    "# TF-IDF for Book Tags\n",
    "Term Frequency - Inverse Document Frequency (TF-IDF) is a numerical statistic that is intended to reflect how important a word is to a document in a collection or corpus."
   ]
  },
  {
   "cell_type": "code",
   "execution_count": null,
   "metadata": {},
   "outputs": [],
   "source": []
  },
  {
   "cell_type": "markdown",
   "metadata": {},
   "source": [
    "### import requirements"
   ]
  },
  {
   "cell_type": "code",
   "execution_count": 1,
   "metadata": {},
   "outputs": [],
   "source": [
    "import os\n",
    "import sys\n",
    "import warnings\n",
    "warnings.filterwarnings('ignore')\n",
    "from io import BytesIO\n",
    "\n",
    "import numpy as np\n",
    "import pandas as pd\n",
    "from scipy import stats\n",
    "from scipy.stats import pearsonr\n",
    "\n",
    "import matplotlib.pyplot as plt\n",
    "import seaborn as sns\n",
    "\n",
    "import datetime\n",
    "import re\n",
    "import string\n",
    "import random\n",
    "import requests\n",
    "from collections import Counter\n",
    "from PIL import Image"
   ]
  },
  {
   "cell_type": "code",
   "execution_count": 2,
   "metadata": {},
   "outputs": [],
   "source": [
    "import sklearn\n",
    "from sklearn.metrics.pairwise import linear_kernel\n",
    "from sklearn.model_selection import train_test_split\n",
    "from sklearn.feature_extraction.text import CountVectorizer\n",
    "from sklearn.feature_extraction.text import TfidfVectorizer\n",
    "\n",
    "from nltk.corpus import stopwords\n",
    "from nltk.tokenize import RegexpTokenizer\n",
    "\n",
    "import keras\n",
    "from keras.models import Sequential, Model\n",
    "from keras.layers import Dense, Input\n",
    "from keras.utils import plot_model\n",
    "from keras.layers import Flatten, Embedding\n",
    "from keras.layers.convolutional import Conv2D\n",
    "from keras.layers.pooling import MaxPooling2D\n",
    "from keras.layers.recurrent import LSTM\n",
    "from keras.layers import Concatenate, Dot\n",
    "from keras.optimizers import Adam"
   ]
  },
  {
   "cell_type": "code",
   "execution_count": null,
   "metadata": {},
   "outputs": [],
   "source": []
  },
  {
   "cell_type": "markdown",
   "metadata": {},
   "source": [
    "### load dataset"
   ]
  },
  {
   "cell_type": "markdown",
   "metadata": {},
   "source": [
    "my original dataset"
   ]
  },
  {
   "cell_type": "code",
   "execution_count": 3,
   "metadata": {},
   "outputs": [
    {
     "data": {
      "text/html": [
       "<div>\n",
       "<style scoped>\n",
       "    .dataframe tbody tr th:only-of-type {\n",
       "        vertical-align: middle;\n",
       "    }\n",
       "\n",
       "    .dataframe tbody tr th {\n",
       "        vertical-align: top;\n",
       "    }\n",
       "\n",
       "    .dataframe thead th {\n",
       "        text-align: right;\n",
       "    }\n",
       "</style>\n",
       "<table border=\"1\" class=\"dataframe\">\n",
       "  <thead>\n",
       "    <tr style=\"text-align: right;\">\n",
       "      <th></th>\n",
       "      <th>uid</th>\n",
       "      <th>isbn</th>\n",
       "      <th>rating</th>\n",
       "    </tr>\n",
       "  </thead>\n",
       "  <tbody>\n",
       "    <tr>\n",
       "      <th>0</th>\n",
       "      <td>276725</td>\n",
       "      <td>034545104X</td>\n",
       "      <td>0</td>\n",
       "    </tr>\n",
       "    <tr>\n",
       "      <th>1</th>\n",
       "      <td>276726</td>\n",
       "      <td>0155061224</td>\n",
       "      <td>5</td>\n",
       "    </tr>\n",
       "    <tr>\n",
       "      <th>2</th>\n",
       "      <td>276727</td>\n",
       "      <td>0446520802</td>\n",
       "      <td>0</td>\n",
       "    </tr>\n",
       "  </tbody>\n",
       "</table>\n",
       "</div>"
      ],
      "text/plain": [
       "      uid        isbn  rating\n",
       "0  276725  034545104X       0\n",
       "1  276726  0155061224       5\n",
       "2  276727  0446520802       0"
      ]
     },
     "execution_count": 3,
     "metadata": {},
     "output_type": "execute_result"
    }
   ],
   "source": [
    "df_ratings = pd.read_csv('books/Ratings.csv')\n",
    "df_ratings.columns = ['uid', 'isbn', 'rating']\n",
    "df_ratings.head(3)"
   ]
  },
  {
   "cell_type": "code",
   "execution_count": 4,
   "metadata": {},
   "outputs": [],
   "source": [
    "# df_books = pd.read_csv('books/Books.csv')\n",
    "# df_books.head(3)"
   ]
  },
  {
   "cell_type": "code",
   "execution_count": 5,
   "metadata": {},
   "outputs": [],
   "source": [
    "# df_books.shape"
   ]
  },
  {
   "cell_type": "code",
   "execution_count": null,
   "metadata": {},
   "outputs": [],
   "source": []
  },
  {
   "cell_type": "markdown",
   "metadata": {},
   "source": [
    "the dataset with book tags i want to merge with\n",
    "\n",
    "source: [Good Reads dataset](https://www.kaggle.com/zygmunt/goodbooks-10k?select=book_tags.csv) obtained from Kaggle"
   ]
  },
  {
   "cell_type": "code",
   "execution_count": 6,
   "metadata": {},
   "outputs": [],
   "source": [
    "# books_df = pd.read_csv('books/books_10k.csv')\n",
    "# books_df.head(3)"
   ]
  },
  {
   "cell_type": "code",
   "execution_count": 7,
   "metadata": {},
   "outputs": [],
   "source": [
    "# booktags_df = pd.read_csv('books/book_tags.csv')\n",
    "# booktags_df.head(3)"
   ]
  },
  {
   "cell_type": "code",
   "execution_count": 8,
   "metadata": {},
   "outputs": [],
   "source": [
    "# tags_df = pd.read_csv('books/tags.csv')\n",
    "# tags_df.head(3)"
   ]
  },
  {
   "cell_type": "code",
   "execution_count": 9,
   "metadata": {},
   "outputs": [],
   "source": [
    "# booktags_df = booktags_df.merge(tags_df, how='outer', on='tag_id')\n",
    "# booktags_df.head(3)"
   ]
  },
  {
   "cell_type": "code",
   "execution_count": 10,
   "metadata": {},
   "outputs": [],
   "source": [
    "# booktags_df = booktags_df.merge(books_df, how='outer', \n",
    "#                                 left_on='goodreads_book_id',\n",
    "#                                 right_on='book_id')\n",
    "# booktags_df.head(3)"
   ]
  },
  {
   "cell_type": "code",
   "execution_count": 11,
   "metadata": {},
   "outputs": [],
   "source": [
    "# booktags_df = booktags_df[['tag_id', 'tag_name', 'isbn']]"
   ]
  },
  {
   "cell_type": "code",
   "execution_count": 12,
   "metadata": {},
   "outputs": [],
   "source": [
    "# booktags_df.shape"
   ]
  },
  {
   "cell_type": "code",
   "execution_count": null,
   "metadata": {},
   "outputs": [],
   "source": []
  },
  {
   "cell_type": "markdown",
   "metadata": {},
   "source": [
    "merge the two datasets!"
   ]
  },
  {
   "cell_type": "code",
   "execution_count": 13,
   "metadata": {},
   "outputs": [],
   "source": [
    "# df_books = df_books.merge(booktags_df, left_on='ISBN', right_on='isbn')\n",
    "# df_books.head(3)"
   ]
  },
  {
   "cell_type": "code",
   "execution_count": 14,
   "metadata": {},
   "outputs": [],
   "source": [
    "# df_books.shape"
   ]
  },
  {
   "cell_type": "code",
   "execution_count": 15,
   "metadata": {},
   "outputs": [],
   "source": [
    "# df_books = df_books[['ISBN', 'Book-Title', 'Book-Author', 'Year-Of-Publication', 'Publisher', 'tag_name']]\n",
    "# df_books.columns = ['isbn', 'title', 'author', 'year', 'publisher', 'tag_name']\n",
    "# df_books.head(3)"
   ]
  },
  {
   "cell_type": "code",
   "execution_count": 16,
   "metadata": {},
   "outputs": [],
   "source": [
    "#df_books.to_csv('books/Books_tags.csv')"
   ]
  },
  {
   "cell_type": "code",
   "execution_count": null,
   "metadata": {},
   "outputs": [],
   "source": []
  },
  {
   "cell_type": "code",
   "execution_count": 17,
   "metadata": {},
   "outputs": [
    {
     "data": {
      "text/plain": [
       "(39800, 6)"
      ]
     },
     "execution_count": 17,
     "metadata": {},
     "output_type": "execute_result"
    }
   ],
   "source": [
    "booktags_df = pd.read_csv('books/Books_tags.csv', index_col=0)\n",
    "booktags_df.shape"
   ]
  },
  {
   "cell_type": "code",
   "execution_count": 18,
   "metadata": {},
   "outputs": [
    {
     "data": {
      "text/plain": [
       "(398, 6)"
      ]
     },
     "execution_count": 18,
     "metadata": {},
     "output_type": "execute_result"
    }
   ],
   "source": [
    "df_books = booktags_df.drop_duplicates(subset=['isbn'])\n",
    "df_books.shape"
   ]
  },
  {
   "cell_type": "code",
   "execution_count": 19,
   "metadata": {},
   "outputs": [
    {
     "name": "stdout",
     "output_type": "stream",
     "text": [
      "There are 398 books from 346 authors labelled with 6096 tags in the dataset.\n"
     ]
    }
   ],
   "source": [
    "num_tags = len(set(booktags_df['tag_name']))\n",
    "num_books = len(set(booktags_df['isbn']))\n",
    "num_auths = len(set(booktags_df['author']))\n",
    "print(f'There are {num_books} books from {num_auths} authors \\\n",
    "labelled with {num_tags} tags in the dataset.')"
   ]
  },
  {
   "cell_type": "code",
   "execution_count": 20,
   "metadata": {},
   "outputs": [
    {
     "data": {
      "text/html": [
       "<div>\n",
       "<style scoped>\n",
       "    .dataframe tbody tr th:only-of-type {\n",
       "        vertical-align: middle;\n",
       "    }\n",
       "\n",
       "    .dataframe tbody tr th {\n",
       "        vertical-align: top;\n",
       "    }\n",
       "\n",
       "    .dataframe thead th {\n",
       "        text-align: right;\n",
       "    }\n",
       "</style>\n",
       "<table border=\"1\" class=\"dataframe\">\n",
       "  <thead>\n",
       "    <tr style=\"text-align: right;\">\n",
       "      <th></th>\n",
       "      <th>isbn</th>\n",
       "      <th>title</th>\n",
       "      <th>author</th>\n",
       "      <th>year</th>\n",
       "      <th>publisher</th>\n",
       "      <th>tag_name</th>\n",
       "    </tr>\n",
       "  </thead>\n",
       "  <tbody>\n",
       "    <tr>\n",
       "      <th>0</th>\n",
       "      <td>067976397X</td>\n",
       "      <td>Corelli's Mandolin : A Novel</td>\n",
       "      <td>LOUIS DE BERNIERES</td>\n",
       "      <td>1995</td>\n",
       "      <td>Vintage</td>\n",
       "      <td>to-read</td>\n",
       "    </tr>\n",
       "    <tr>\n",
       "      <th>1</th>\n",
       "      <td>067976397X</td>\n",
       "      <td>Corelli's Mandolin : A Novel</td>\n",
       "      <td>LOUIS DE BERNIERES</td>\n",
       "      <td>1995</td>\n",
       "      <td>Vintage</td>\n",
       "      <td>favorites</td>\n",
       "    </tr>\n",
       "    <tr>\n",
       "      <th>2</th>\n",
       "      <td>067976397X</td>\n",
       "      <td>Corelli's Mandolin : A Novel</td>\n",
       "      <td>LOUIS DE BERNIERES</td>\n",
       "      <td>1995</td>\n",
       "      <td>Vintage</td>\n",
       "      <td>currently-reading</td>\n",
       "    </tr>\n",
       "    <tr>\n",
       "      <th>3</th>\n",
       "      <td>067976397X</td>\n",
       "      <td>Corelli's Mandolin : A Novel</td>\n",
       "      <td>LOUIS DE BERNIERES</td>\n",
       "      <td>1995</td>\n",
       "      <td>Vintage</td>\n",
       "      <td>fiction</td>\n",
       "    </tr>\n",
       "    <tr>\n",
       "      <th>4</th>\n",
       "      <td>067976397X</td>\n",
       "      <td>Corelli's Mandolin : A Novel</td>\n",
       "      <td>LOUIS DE BERNIERES</td>\n",
       "      <td>1995</td>\n",
       "      <td>Vintage</td>\n",
       "      <td>books-i-own</td>\n",
       "    </tr>\n",
       "    <tr>\n",
       "      <th>...</th>\n",
       "      <td>...</td>\n",
       "      <td>...</td>\n",
       "      <td>...</td>\n",
       "      <td>...</td>\n",
       "      <td>...</td>\n",
       "      <td>...</td>\n",
       "    </tr>\n",
       "    <tr>\n",
       "      <th>39795</th>\n",
       "      <td>1573226068</td>\n",
       "      <td>Drown</td>\n",
       "      <td>Junot Diaz</td>\n",
       "      <td>1997</td>\n",
       "      <td>Riverhead Books</td>\n",
       "      <td>dominican-republic</td>\n",
       "    </tr>\n",
       "    <tr>\n",
       "      <th>39796</th>\n",
       "      <td>1573226068</td>\n",
       "      <td>Drown</td>\n",
       "      <td>Junot Diaz</td>\n",
       "      <td>1997</td>\n",
       "      <td>Riverhead Books</td>\n",
       "      <td>latinx</td>\n",
       "    </tr>\n",
       "    <tr>\n",
       "      <th>39797</th>\n",
       "      <td>1573226068</td>\n",
       "      <td>Drown</td>\n",
       "      <td>Junot Diaz</td>\n",
       "      <td>1997</td>\n",
       "      <td>Riverhead Books</td>\n",
       "      <td>hispanic</td>\n",
       "    </tr>\n",
       "    <tr>\n",
       "      <th>39798</th>\n",
       "      <td>1573226068</td>\n",
       "      <td>Drown</td>\n",
       "      <td>Junot Diaz</td>\n",
       "      <td>1997</td>\n",
       "      <td>Riverhead Books</td>\n",
       "      <td>dominican</td>\n",
       "    </tr>\n",
       "    <tr>\n",
       "      <th>39799</th>\n",
       "      <td>1573226068</td>\n",
       "      <td>Drown</td>\n",
       "      <td>Junot Diaz</td>\n",
       "      <td>1997</td>\n",
       "      <td>Riverhead Books</td>\n",
       "      <td>latino-lit</td>\n",
       "    </tr>\n",
       "  </tbody>\n",
       "</table>\n",
       "<p>39800 rows × 6 columns</p>\n",
       "</div>"
      ],
      "text/plain": [
       "             isbn                         title              author  year  \\\n",
       "0      067976397X  Corelli's Mandolin : A Novel  LOUIS DE BERNIERES  1995   \n",
       "1      067976397X  Corelli's Mandolin : A Novel  LOUIS DE BERNIERES  1995   \n",
       "2      067976397X  Corelli's Mandolin : A Novel  LOUIS DE BERNIERES  1995   \n",
       "3      067976397X  Corelli's Mandolin : A Novel  LOUIS DE BERNIERES  1995   \n",
       "4      067976397X  Corelli's Mandolin : A Novel  LOUIS DE BERNIERES  1995   \n",
       "...           ...                           ...                 ...   ...   \n",
       "39795  1573226068                         Drown          Junot Diaz  1997   \n",
       "39796  1573226068                         Drown          Junot Diaz  1997   \n",
       "39797  1573226068                         Drown          Junot Diaz  1997   \n",
       "39798  1573226068                         Drown          Junot Diaz  1997   \n",
       "39799  1573226068                         Drown          Junot Diaz  1997   \n",
       "\n",
       "             publisher            tag_name  \n",
       "0              Vintage             to-read  \n",
       "1              Vintage           favorites  \n",
       "2              Vintage   currently-reading  \n",
       "3              Vintage             fiction  \n",
       "4              Vintage         books-i-own  \n",
       "...                ...                 ...  \n",
       "39795  Riverhead Books  dominican-republic  \n",
       "39796  Riverhead Books              latinx  \n",
       "39797  Riverhead Books            hispanic  \n",
       "39798  Riverhead Books           dominican  \n",
       "39799  Riverhead Books          latino-lit  \n",
       "\n",
       "[39800 rows x 6 columns]"
      ]
     },
     "execution_count": 20,
     "metadata": {},
     "output_type": "execute_result"
    }
   ],
   "source": [
    "booktags_df"
   ]
  },
  {
   "cell_type": "code",
   "execution_count": null,
   "metadata": {},
   "outputs": [],
   "source": []
  },
  {
   "cell_type": "markdown",
   "metadata": {},
   "source": [
    "## calculate similarity"
   ]
  },
  {
   "cell_type": "code",
   "execution_count": 21,
   "metadata": {},
   "outputs": [
    {
     "name": "stdout",
     "output_type": "stream",
     "text": [
      "15700    Howl's Moving Castle\n",
      "Name: title, dtype: object\n"
     ]
    }
   ],
   "source": [
    "isbn1 = df_books.loc[df_books['isbn']=='006441034X']\n",
    "print(isbn1['title'])"
   ]
  },
  {
   "cell_type": "code",
   "execution_count": 22,
   "metadata": {},
   "outputs": [],
   "source": [
    "indices = pd.Series(df_books.index, index=df_books['title'])"
   ]
  },
  {
   "cell_type": "code",
   "execution_count": null,
   "metadata": {},
   "outputs": [],
   "source": []
  },
  {
   "cell_type": "markdown",
   "metadata": {},
   "source": [
    "calculate similarities between title"
   ]
  },
  {
   "cell_type": "code",
   "execution_count": 23,
   "metadata": {},
   "outputs": [],
   "source": [
    "tf_title = TfidfVectorizer(analyzer='word',ngram_range=(1, 2),\n",
    "                          min_df=0, stop_words='english')\n",
    "\n",
    "tfidf_matrix_title = tf_title.fit_transform(booktags_df['title'])\n",
    "\n",
    "cosine_sim_title = linear_kernel(tfidf_matrix_title, tfidf_matrix_title)"
   ]
  },
  {
   "cell_type": "code",
   "execution_count": 24,
   "metadata": {},
   "outputs": [],
   "source": [
    "#cosine_sim_title"
   ]
  },
  {
   "cell_type": "code",
   "execution_count": 25,
   "metadata": {},
   "outputs": [],
   "source": [
    "def titles_recom(title, n):\n",
    "    idx = indices[title]\n",
    "    sim_scores = list(enumerate(cosine_sim_title[idx]))\n",
    "    sim_scores = sorted(sim_scores, key=lambda x: x[1], reverse=True)\n",
    "    book_indices = [i[0] for i in sim_scores]\n",
    "    return booktags_df.loc[book_indices]['title'].drop_duplicates()[1:n+1]"
   ]
  },
  {
   "cell_type": "code",
   "execution_count": 26,
   "metadata": {},
   "outputs": [
    {
     "data": {
      "text/plain": [
       "0                           Corelli's Mandolin : A Novel\n",
       "100                                  Atonement : A Novel\n",
       "200             Preludes and Nocturnes (Sandman, Book 1)\n",
       "300        The League of Extraordinary Gentlemen, Vol. 1\n",
       "400                                             Affinity\n",
       "500    Prozac Nation: Young and Depressed in America ...\n",
       "600                                             The Firm\n",
       "700                                 The Tortilla Curtain\n",
       "800                                         Four Blondes\n",
       "900                                     Chasing the Dime\n",
       "Name: title, dtype: object"
      ]
     },
     "execution_count": 26,
     "metadata": {},
     "output_type": "execute_result"
    }
   ],
   "source": [
    "titles_recom('Howl\\'s Moving Castle', 10)"
   ]
  },
  {
   "cell_type": "code",
   "execution_count": null,
   "metadata": {},
   "outputs": [],
   "source": []
  },
  {
   "cell_type": "markdown",
   "metadata": {},
   "source": [
    "calculate similarities between authors"
   ]
  },
  {
   "cell_type": "code",
   "execution_count": 27,
   "metadata": {},
   "outputs": [],
   "source": [
    "tf_auth = TfidfVectorizer(analyzer='word',ngram_range=(1, 2),\n",
    "                          min_df=0, stop_words='english')\n",
    "\n",
    "tfidf_matrix_auth = tf_auth.fit_transform(booktags_df['author'])\n",
    "\n",
    "cosine_sim_auth = linear_kernel(tfidf_matrix_auth, tfidf_matrix_auth)"
   ]
  },
  {
   "cell_type": "code",
   "execution_count": 28,
   "metadata": {},
   "outputs": [],
   "source": [
    "#cosine_sim_auth"
   ]
  },
  {
   "cell_type": "code",
   "execution_count": 29,
   "metadata": {},
   "outputs": [],
   "source": [
    "def authors_recom(title, n):\n",
    "    idx = indices[title]\n",
    "    sim_scores = list(enumerate(cosine_sim_auth[idx]))\n",
    "    sim_scores = sorted(sim_scores, key=lambda x: x[1], reverse=True)\n",
    "    book_indices = [i[0] for i in sim_scores]\n",
    "    return booktags_df.loc[book_indices]['title'].drop_duplicates()[1:n+1]"
   ]
  },
  {
   "cell_type": "code",
   "execution_count": 30,
   "metadata": {},
   "outputs": [
    {
     "data": {
      "text/plain": [
       "0                           Corelli's Mandolin : A Novel\n",
       "100                                  Atonement : A Novel\n",
       "200             Preludes and Nocturnes (Sandman, Book 1)\n",
       "300        The League of Extraordinary Gentlemen, Vol. 1\n",
       "400                                             Affinity\n",
       "500    Prozac Nation: Young and Depressed in America ...\n",
       "600                                             The Firm\n",
       "700                                 The Tortilla Curtain\n",
       "800                                         Four Blondes\n",
       "900                                     Chasing the Dime\n",
       "Name: title, dtype: object"
      ]
     },
     "execution_count": 30,
     "metadata": {},
     "output_type": "execute_result"
    }
   ],
   "source": [
    "authors_recom('Howl\\'s Moving Castle', 10)"
   ]
  },
  {
   "cell_type": "code",
   "execution_count": null,
   "metadata": {},
   "outputs": [],
   "source": []
  },
  {
   "cell_type": "markdown",
   "metadata": {},
   "source": [
    "calculate similarities between publishers"
   ]
  },
  {
   "cell_type": "code",
   "execution_count": 31,
   "metadata": {},
   "outputs": [],
   "source": [
    "tf_pub = TfidfVectorizer(analyzer='word',ngram_range=(1, 2),\n",
    "                          min_df=0, stop_words='english')\n",
    "\n",
    "tfidf_matrix_pub = tf_pub.fit_transform(booktags_df['publisher'])\n",
    "\n",
    "cosine_sim_pub = linear_kernel(tfidf_matrix_pub, tfidf_matrix_pub)"
   ]
  },
  {
   "cell_type": "code",
   "execution_count": 32,
   "metadata": {},
   "outputs": [],
   "source": [
    "#cosine_sim_pub"
   ]
  },
  {
   "cell_type": "code",
   "execution_count": 33,
   "metadata": {},
   "outputs": [],
   "source": [
    "def pubs_recom(title, n):\n",
    "    idx = indices[title]\n",
    "    sim_scores = list(enumerate(cosine_sim_pub[idx]))\n",
    "    sim_scores = sorted(sim_scores, key=lambda x: x[1], reverse=True)\n",
    "    book_indices = [i[0] for i in sim_scores]\n",
    "    return booktags_df.loc[book_indices]['title'].drop_duplicates()[:n+1]"
   ]
  },
  {
   "cell_type": "code",
   "execution_count": 34,
   "metadata": {},
   "outputs": [
    {
     "data": {
      "text/plain": [
       "7200     Ramona and Her Mother (Ramona Quimby (Paperback))\n",
       "10300            The Midwife's Apprentice (Trophy Newbery)\n",
       "11200                                  Good Night, Mr. Tom\n",
       "15700                                 Howl's Moving Castle\n",
       "28100            A Bargain for Frances (I Can Read Book 2)\n",
       "30000             Chicken Soup with Rice: A Book of Months\n",
       "0                             Corelli's Mandolin : A Novel\n",
       "100                                    Atonement : A Novel\n",
       "200               Preludes and Nocturnes (Sandman, Book 1)\n",
       "300          The League of Extraordinary Gentlemen, Vol. 1\n",
       "400                                               Affinity\n",
       "Name: title, dtype: object"
      ]
     },
     "execution_count": 34,
     "metadata": {},
     "output_type": "execute_result"
    }
   ],
   "source": [
    "pubs_recom('Howl\\'s Moving Castle', 10)"
   ]
  },
  {
   "cell_type": "code",
   "execution_count": null,
   "metadata": {},
   "outputs": [],
   "source": []
  },
  {
   "cell_type": "markdown",
   "metadata": {},
   "source": [
    "calculate similarities between book tags"
   ]
  },
  {
   "cell_type": "code",
   "execution_count": 35,
   "metadata": {},
   "outputs": [],
   "source": [
    "tf_tag = TfidfVectorizer(analyzer='word',ngram_range=(1, 2),\n",
    "                         min_df=0, stop_words='english')\n",
    "\n",
    "tfidf_matrix_tag = tf_tag.fit_transform(booktags_df['tag_name'])\n",
    "\n",
    "cosine_sim_tag = linear_kernel(tfidf_matrix_tag, tfidf_matrix_tag)"
   ]
  },
  {
   "cell_type": "code",
   "execution_count": 36,
   "metadata": {},
   "outputs": [],
   "source": [
    "#cosine_sim_tag"
   ]
  },
  {
   "cell_type": "code",
   "execution_count": 37,
   "metadata": {},
   "outputs": [],
   "source": [
    "def tags_recom(title, n):\n",
    "    idx = indices[title]\n",
    "    sim_scores = list(enumerate(cosine_sim_tag[idx]))\n",
    "    sim_scores = sorted(sim_scores, key=lambda x: x[1], reverse=True)\n",
    "    book_indices = [i[0] for i in sim_scores]\n",
    "    return booktags_df.loc[book_indices]['title'].drop_duplicates()[:n]"
   ]
  },
  {
   "cell_type": "code",
   "execution_count": 38,
   "metadata": {},
   "outputs": [
    {
     "data": {
      "text/plain": [
       "0                           Corelli's Mandolin : A Novel\n",
       "100                                  Atonement : A Novel\n",
       "200             Preludes and Nocturnes (Sandman, Book 1)\n",
       "300        The League of Extraordinary Gentlemen, Vol. 1\n",
       "400                                             Affinity\n",
       "500    Prozac Nation: Young and Depressed in America ...\n",
       "600                                             The Firm\n",
       "700                                 The Tortilla Curtain\n",
       "800                                         Four Blondes\n",
       "900                                     Chasing the Dime\n",
       "Name: title, dtype: object"
      ]
     },
     "execution_count": 38,
     "metadata": {},
     "output_type": "execute_result"
    }
   ],
   "source": [
    "tags_recom('Howl\\'s Moving Castle', 10)"
   ]
  },
  {
   "cell_type": "code",
   "execution_count": null,
   "metadata": {},
   "outputs": [],
   "source": []
  },
  {
   "cell_type": "code",
   "execution_count": null,
   "metadata": {},
   "outputs": [],
   "source": []
  },
  {
   "cell_type": "markdown",
   "metadata": {},
   "source": [
    "try title and tags together similarity"
   ]
  },
  {
   "cell_type": "code",
   "execution_count": 39,
   "metadata": {},
   "outputs": [],
   "source": [
    "booktags_df['combined_title_tag'] = pd.Series(\n",
    "    booktags_df[['title','tag_name']].fillna('').values.tolist()).str.join(' ')"
   ]
  },
  {
   "cell_type": "code",
   "execution_count": 40,
   "metadata": {},
   "outputs": [],
   "source": [
    "tf_combined_title_tag = TfidfVectorizer(analyzer='word',ngram_range=(1, 2)\n",
    "                                       ,min_df=0, stop_words='english')\n",
    "\n",
    "tfidf_matrix_combined_title_tag = tf_combined_title_tag.fit_transform(booktags_df['combined_title_tag'])\n",
    "\n",
    "cosine_sim_combined_title_tag = linear_kernel(tfidf_matrix_combined_title_tag, tfidf_matrix_combined_title_tag)"
   ]
  },
  {
   "cell_type": "code",
   "execution_count": 41,
   "metadata": {},
   "outputs": [],
   "source": [
    "def combined_title_tag_recom(title, n):    \n",
    "    idx = indices[title]\n",
    "    sim_scores = list(enumerate(cosine_sim_combined_title_tag[idx]))\n",
    "    sim_scores = sorted(sim_scores, key=lambda x: x[1], reverse=True)\n",
    "    book_indices = [i[0] for i in sim_scores]\n",
    "    return booktags_df.loc[book_indices]['title'].drop_duplicates()[1:n+1]"
   ]
  },
  {
   "cell_type": "code",
   "execution_count": 42,
   "metadata": {},
   "outputs": [
    {
     "data": {
      "text/plain": [
       "28100    A Bargain for Frances (I Can Read Book 2)\n",
       "33300                           The Fire Next Time\n",
       "1600                                         Speak\n",
       "10400                             The Power of One\n",
       "4500                                     The Beach\n",
       "34400                                 On the Beach\n",
       "8500                               How to be good.\n",
       "28200                                    The River\n",
       "30200                           Something Borrowed\n",
       "16900                                 Just for You\n",
       "Name: title, dtype: object"
      ]
     },
     "execution_count": 42,
     "metadata": {},
     "output_type": "execute_result"
    }
   ],
   "source": [
    "combined_title_tag_recom('Howl\\'s Moving Castle', 10)"
   ]
  },
  {
   "cell_type": "code",
   "execution_count": null,
   "metadata": {},
   "outputs": [],
   "source": []
  },
  {
   "cell_type": "markdown",
   "metadata": {},
   "source": [
    "try author and tags together similarity"
   ]
  },
  {
   "cell_type": "code",
   "execution_count": 43,
   "metadata": {},
   "outputs": [],
   "source": [
    "booktags_df['combined_auth_tag'] = pd.Series(\n",
    "    booktags_df[['author','tag_name']].fillna('').values.tolist()).str.join(' ')"
   ]
  },
  {
   "cell_type": "code",
   "execution_count": 44,
   "metadata": {},
   "outputs": [],
   "source": [
    "tf_combined_auth_tag = TfidfVectorizer(analyzer='word',ngram_range=(1, 2)\n",
    "                                       ,min_df=0, stop_words='english')\n",
    "\n",
    "tfidf_matrix_combined_auth_tag = tf_combined_auth_tag.fit_transform(booktags_df['combined_auth_tag'])\n",
    "\n",
    "cosine_sim_combined_auth_tag = linear_kernel(tfidf_matrix_combined_auth_tag, tfidf_matrix_combined_auth_tag)"
   ]
  },
  {
   "cell_type": "code",
   "execution_count": 45,
   "metadata": {},
   "outputs": [],
   "source": [
    "def combined_auth_tag_recom(title, n):    \n",
    "    idx = indices[title]\n",
    "    sim_scores = list(enumerate(cosine_sim_combined_auth_tag[idx]))\n",
    "    sim_scores = sorted(sim_scores, key=lambda x: x[1], reverse=True)\n",
    "    book_indices = [i[0] for i in sim_scores]\n",
    "    return booktags_df.loc[book_indices]['title'].drop_duplicates()[1:n+1]"
   ]
  },
  {
   "cell_type": "code",
   "execution_count": 46,
   "metadata": {},
   "outputs": [
    {
     "data": {
      "text/plain": [
       "18400    Alive : The Story of the Andes Survivors (Avon...\n",
       "26500    Vampire Diaries #2: The Struggle (The Vampire ...\n",
       "5800     Sojourn (Forgotten Realms Novel: Dark Elf Tril...\n",
       "14200    Streams of Silver (Forgotten Realms: The Icewi...\n",
       "20200    The Icewind Dale Trilogy Collector's Edition (...\n",
       "23700    Starless Night (Forgotten Realms:  Legacy of t...\n",
       "8600                                         Chobits Vol.1\n",
       "14900            Cardcaptor Sakura, Master of the Clow (1)\n",
       "38400    Cardcaptor Sakura (Cardcaptor Sakura Authentic...\n",
       "25600                       The Waste Land and Other Poems\n",
       "Name: title, dtype: object"
      ]
     },
     "execution_count": 46,
     "metadata": {},
     "output_type": "execute_result"
    }
   ],
   "source": [
    "combined_auth_tag_recom('Howl\\'s Moving Castle', 10)"
   ]
  },
  {
   "cell_type": "code",
   "execution_count": null,
   "metadata": {},
   "outputs": [],
   "source": []
  },
  {
   "cell_type": "markdown",
   "metadata": {},
   "source": [
    "try publisher and tags together similarity"
   ]
  },
  {
   "cell_type": "code",
   "execution_count": 47,
   "metadata": {},
   "outputs": [],
   "source": [
    "booktags_df['combined_pub_tag'] = pd.Series(\n",
    "    booktags_df[['publisher','tag_name']].fillna('').values.tolist()).str.join(' ')"
   ]
  },
  {
   "cell_type": "code",
   "execution_count": 48,
   "metadata": {},
   "outputs": [],
   "source": [
    "tf_combined_pub_tag = TfidfVectorizer(analyzer='word',ngram_range=(1, 2)\n",
    "                                       ,min_df=0, stop_words='english')\n",
    "\n",
    "tfidf_matrix_combined_pub_tag = tf_combined_pub_tag.fit_transform(booktags_df['combined_pub_tag'])\n",
    "\n",
    "cosine_sim_combined_pub_tag = linear_kernel(tfidf_matrix_combined_pub_tag, tfidf_matrix_combined_pub_tag)"
   ]
  },
  {
   "cell_type": "code",
   "execution_count": 49,
   "metadata": {},
   "outputs": [],
   "source": [
    "def combined_pub_tag_recom(title, n):    \n",
    "    idx = indices[title]\n",
    "    sim_scores = list(enumerate(cosine_sim_combined_pub_tag[idx]))\n",
    "    sim_scores = sorted(sim_scores, key=lambda x: x[1], reverse=True)\n",
    "    book_indices = [i[0] for i in sim_scores]\n",
    "    return booktags_df.loc[book_indices]['title'].drop_duplicates()[1:n+1]"
   ]
  },
  {
   "cell_type": "code",
   "execution_count": 50,
   "metadata": {},
   "outputs": [
    {
     "data": {
      "text/plain": [
       "10300            The Midwife's Apprentice (Trophy Newbery)\n",
       "11200                                  Good Night, Mr. Tom\n",
       "15700                                 Howl's Moving Castle\n",
       "28100            A Bargain for Frances (I Can Read Book 2)\n",
       "30000             Chicken Soup with Rice: A Book of Months\n",
       "27600        The Dogs of Riga (Vintage Crime/Black Lizard)\n",
       "29000         The Fifth Woman (Vintage Crime/Black Lizard)\n",
       "700                                   The Tortilla Curtain\n",
       "3400     The Women of Brewster Place (Penguin Contempor...\n",
       "5000                                 Bridget Jones's Diary\n",
       "Name: title, dtype: object"
      ]
     },
     "execution_count": 50,
     "metadata": {},
     "output_type": "execute_result"
    }
   ],
   "source": [
    "combined_pub_tag_recom('Howl\\'s Moving Castle', 10)"
   ]
  },
  {
   "cell_type": "code",
   "execution_count": null,
   "metadata": {},
   "outputs": [],
   "source": []
  },
  {
   "cell_type": "code",
   "execution_count": null,
   "metadata": {},
   "outputs": [],
   "source": []
  },
  {
   "cell_type": "markdown",
   "metadata": {},
   "source": [
    "try everything together"
   ]
  },
  {
   "cell_type": "code",
   "execution_count": 51,
   "metadata": {},
   "outputs": [],
   "source": [
    "booktags_df['combined_title_auth_pub_tag'] = pd.Series(\n",
    "    booktags_df[['title', 'author', 'publisher', 'tag_name']].fillna('').values.tolist()).str.join(' ')"
   ]
  },
  {
   "cell_type": "code",
   "execution_count": 52,
   "metadata": {},
   "outputs": [],
   "source": [
    "tf_combined_title_auth_pub_tag = TfidfVectorizer(analyzer='word',ngram_range=(1, 2)\n",
    "                                       ,min_df=0, stop_words='english')\n",
    "\n",
    "tfidf_matrix_combined_title_auth_pub_tag = tf_combined_title_auth_pub_tag.fit_transform(\n",
    "    booktags_df['combined_title_auth_pub_tag'])\n",
    "\n",
    "cosine_sim_combined_title_auth_pub_tag = linear_kernel(\n",
    "    tfidf_matrix_combined_title_auth_pub_tag, tfidf_matrix_combined_title_auth_pub_tag)"
   ]
  },
  {
   "cell_type": "code",
   "execution_count": 53,
   "metadata": {},
   "outputs": [],
   "source": [
    "def combined_title_auth_pub_tag_recom(title, n):    \n",
    "    idx = indices[title]\n",
    "    sim_scores = list(enumerate(cosine_sim_combined_title_auth_pub_tag[idx]))\n",
    "    sim_scores = sorted(sim_scores, key=lambda x: x[1], reverse=True)\n",
    "    book_indices = [i[0] for i in sim_scores]\n",
    "    return booktags_df.loc[book_indices]['title'].drop_duplicates()[1:n+1]"
   ]
  },
  {
   "cell_type": "code",
   "execution_count": 54,
   "metadata": {},
   "outputs": [
    {
     "data": {
      "text/plain": [
       "28100            A Bargain for Frances (I Can Read Book 2)\n",
       "11200                                  Good Night, Mr. Tom\n",
       "10300            The Midwife's Apprentice (Trophy Newbery)\n",
       "30000             Chicken Soup with Rice: A Book of Months\n",
       "7200     Ramona and Her Mother (Ramona Quimby (Paperback))\n",
       "5000                                 Bridget Jones's Diary\n",
       "18400    Alive : The Story of the Andes Survivors (Avon...\n",
       "22900    How to Read Literature Like a Professor : A Li...\n",
       "19700                                             Songbook\n",
       "9800                                           Fingersmith\n",
       "Name: title, dtype: object"
      ]
     },
     "execution_count": 54,
     "metadata": {},
     "output_type": "execute_result"
    }
   ],
   "source": [
    "combined_title_auth_pub_tag_recom('Howl\\'s Moving Castle', 10)"
   ]
  },
  {
   "cell_type": "code",
   "execution_count": null,
   "metadata": {},
   "outputs": [],
   "source": []
  },
  {
   "cell_type": "markdown",
   "metadata": {},
   "source": [
    "## check recommended results with dataset"
   ]
  },
  {
   "cell_type": "code",
   "execution_count": 55,
   "metadata": {},
   "outputs": [],
   "source": [
    "df_ratings = df_ratings.merge(df_books, on='isbn')[['uid', 'isbn', 'rating', 'title']]"
   ]
  },
  {
   "cell_type": "code",
   "execution_count": 56,
   "metadata": {},
   "outputs": [
    {
     "data": {
      "text/html": [
       "<div>\n",
       "<style scoped>\n",
       "    .dataframe tbody tr th:only-of-type {\n",
       "        vertical-align: middle;\n",
       "    }\n",
       "\n",
       "    .dataframe tbody tr th {\n",
       "        vertical-align: top;\n",
       "    }\n",
       "\n",
       "    .dataframe thead th {\n",
       "        text-align: right;\n",
       "    }\n",
       "</style>\n",
       "<table border=\"1\" class=\"dataframe\">\n",
       "  <thead>\n",
       "    <tr style=\"text-align: right;\">\n",
       "      <th></th>\n",
       "      <th>uid</th>\n",
       "      <th>isbn</th>\n",
       "      <th>rating</th>\n",
       "      <th>title</th>\n",
       "    </tr>\n",
       "  </thead>\n",
       "  <tbody>\n",
       "    <tr>\n",
       "      <th>9842</th>\n",
       "      <td>15670</td>\n",
       "      <td>006441034X</td>\n",
       "      <td>8</td>\n",
       "      <td>Howl's Moving Castle</td>\n",
       "    </tr>\n",
       "    <tr>\n",
       "      <th>9843</th>\n",
       "      <td>26621</td>\n",
       "      <td>006441034X</td>\n",
       "      <td>8</td>\n",
       "      <td>Howl's Moving Castle</td>\n",
       "    </tr>\n",
       "    <tr>\n",
       "      <th>9844</th>\n",
       "      <td>49889</td>\n",
       "      <td>006441034X</td>\n",
       "      <td>9</td>\n",
       "      <td>Howl's Moving Castle</td>\n",
       "    </tr>\n",
       "    <tr>\n",
       "      <th>9845</th>\n",
       "      <td>87938</td>\n",
       "      <td>006441034X</td>\n",
       "      <td>8</td>\n",
       "      <td>Howl's Moving Castle</td>\n",
       "    </tr>\n",
       "    <tr>\n",
       "      <th>9846</th>\n",
       "      <td>102642</td>\n",
       "      <td>006441034X</td>\n",
       "      <td>4</td>\n",
       "      <td>Howl's Moving Castle</td>\n",
       "    </tr>\n",
       "    <tr>\n",
       "      <th>9847</th>\n",
       "      <td>111174</td>\n",
       "      <td>006441034X</td>\n",
       "      <td>0</td>\n",
       "      <td>Howl's Moving Castle</td>\n",
       "    </tr>\n",
       "    <tr>\n",
       "      <th>9848</th>\n",
       "      <td>203910</td>\n",
       "      <td>006441034X</td>\n",
       "      <td>10</td>\n",
       "      <td>Howl's Moving Castle</td>\n",
       "    </tr>\n",
       "    <tr>\n",
       "      <th>9849</th>\n",
       "      <td>252953</td>\n",
       "      <td>006441034X</td>\n",
       "      <td>9</td>\n",
       "      <td>Howl's Moving Castle</td>\n",
       "    </tr>\n",
       "    <tr>\n",
       "      <th>9850</th>\n",
       "      <td>264312</td>\n",
       "      <td>006441034X</td>\n",
       "      <td>10</td>\n",
       "      <td>Howl's Moving Castle</td>\n",
       "    </tr>\n",
       "  </tbody>\n",
       "</table>\n",
       "</div>"
      ],
      "text/plain": [
       "         uid        isbn  rating                 title\n",
       "9842   15670  006441034X       8  Howl's Moving Castle\n",
       "9843   26621  006441034X       8  Howl's Moving Castle\n",
       "9844   49889  006441034X       9  Howl's Moving Castle\n",
       "9845   87938  006441034X       8  Howl's Moving Castle\n",
       "9846  102642  006441034X       4  Howl's Moving Castle\n",
       "9847  111174  006441034X       0  Howl's Moving Castle\n",
       "9848  203910  006441034X      10  Howl's Moving Castle\n",
       "9849  252953  006441034X       9  Howl's Moving Castle\n",
       "9850  264312  006441034X      10  Howl's Moving Castle"
      ]
     },
     "execution_count": 56,
     "metadata": {},
     "output_type": "execute_result"
    }
   ],
   "source": [
    "df_ratings[df_ratings['isbn']=='006441034X']"
   ]
  },
  {
   "cell_type": "code",
   "execution_count": 57,
   "metadata": {},
   "outputs": [
    {
     "data": {
      "text/html": [
       "<div>\n",
       "<style scoped>\n",
       "    .dataframe tbody tr th:only-of-type {\n",
       "        vertical-align: middle;\n",
       "    }\n",
       "\n",
       "    .dataframe tbody tr th {\n",
       "        vertical-align: top;\n",
       "    }\n",
       "\n",
       "    .dataframe thead th {\n",
       "        text-align: right;\n",
       "    }\n",
       "</style>\n",
       "<table border=\"1\" class=\"dataframe\">\n",
       "  <thead>\n",
       "    <tr style=\"text-align: right;\">\n",
       "      <th></th>\n",
       "      <th>uid</th>\n",
       "      <th>isbn</th>\n",
       "      <th>rating</th>\n",
       "      <th>title</th>\n",
       "    </tr>\n",
       "  </thead>\n",
       "  <tbody>\n",
       "    <tr>\n",
       "      <th>753</th>\n",
       "      <td>111174</td>\n",
       "      <td>014023313X</td>\n",
       "      <td>0</td>\n",
       "      <td>The Stone Diaries</td>\n",
       "    </tr>\n",
       "    <tr>\n",
       "      <th>2663</th>\n",
       "      <td>111174</td>\n",
       "      <td>067976402X</td>\n",
       "      <td>0</td>\n",
       "      <td>Snow Falling on Cedars</td>\n",
       "    </tr>\n",
       "    <tr>\n",
       "      <th>4876</th>\n",
       "      <td>111174</td>\n",
       "      <td>1576737330</td>\n",
       "      <td>0</td>\n",
       "      <td>The Prayer of Jabez: Breaking Through to the B...</td>\n",
       "    </tr>\n",
       "    <tr>\n",
       "      <th>6123</th>\n",
       "      <td>111174</td>\n",
       "      <td>038531258X</td>\n",
       "      <td>0</td>\n",
       "      <td>Cold Sassy Tree</td>\n",
       "    </tr>\n",
       "    <tr>\n",
       "      <th>6246</th>\n",
       "      <td>111174</td>\n",
       "      <td>037570504X</td>\n",
       "      <td>0</td>\n",
       "      <td>Breath, Eyes, Memory</td>\n",
       "    </tr>\n",
       "    <tr>\n",
       "      <th>7803</th>\n",
       "      <td>111174</td>\n",
       "      <td>031242227X</td>\n",
       "      <td>0</td>\n",
       "      <td>Running with Scissors: A Memoir</td>\n",
       "    </tr>\n",
       "    <tr>\n",
       "      <th>8666</th>\n",
       "      <td>111174</td>\n",
       "      <td>038070952X</td>\n",
       "      <td>0</td>\n",
       "      <td>Ramona and Her Mother (Ramona Quimby (Paperback))</td>\n",
       "    </tr>\n",
       "    <tr>\n",
       "      <th>9246</th>\n",
       "      <td>111174</td>\n",
       "      <td>038000321X</td>\n",
       "      <td>0</td>\n",
       "      <td>Alive : The Story of the Andes Survivors (Avon...</td>\n",
       "    </tr>\n",
       "    <tr>\n",
       "      <th>9677</th>\n",
       "      <td>111174</td>\n",
       "      <td>1878424114</td>\n",
       "      <td>0</td>\n",
       "      <td>The Seven Spiritual Laws of Success: A Practic...</td>\n",
       "    </tr>\n",
       "    <tr>\n",
       "      <th>9847</th>\n",
       "      <td>111174</td>\n",
       "      <td>006441034X</td>\n",
       "      <td>0</td>\n",
       "      <td>Howl's Moving Castle</td>\n",
       "    </tr>\n",
       "  </tbody>\n",
       "</table>\n",
       "</div>"
      ],
      "text/plain": [
       "         uid        isbn  rating  \\\n",
       "753   111174  014023313X       0   \n",
       "2663  111174  067976402X       0   \n",
       "4876  111174  1576737330       0   \n",
       "6123  111174  038531258X       0   \n",
       "6246  111174  037570504X       0   \n",
       "7803  111174  031242227X       0   \n",
       "8666  111174  038070952X       0   \n",
       "9246  111174  038000321X       0   \n",
       "9677  111174  1878424114       0   \n",
       "9847  111174  006441034X       0   \n",
       "\n",
       "                                                  title  \n",
       "753                                   The Stone Diaries  \n",
       "2663                             Snow Falling on Cedars  \n",
       "4876  The Prayer of Jabez: Breaking Through to the B...  \n",
       "6123                                    Cold Sassy Tree  \n",
       "6246                               Breath, Eyes, Memory  \n",
       "7803                    Running with Scissors: A Memoir  \n",
       "8666  Ramona and Her Mother (Ramona Quimby (Paperback))  \n",
       "9246  Alive : The Story of the Andes Survivors (Avon...  \n",
       "9677  The Seven Spiritual Laws of Success: A Practic...  \n",
       "9847                               Howl's Moving Castle  "
      ]
     },
     "execution_count": 57,
     "metadata": {},
     "output_type": "execute_result"
    }
   ],
   "source": [
    "df_ratings[df_ratings['uid']==111174]"
   ]
  },
  {
   "cell_type": "code",
   "execution_count": null,
   "metadata": {},
   "outputs": [],
   "source": [
    " "
   ]
  },
  {
   "cell_type": "code",
   "execution_count": 58,
   "metadata": {},
   "outputs": [],
   "source": [
    "bought = list(df_ratings[df_ratings['uid']==111174]['title'])"
   ]
  },
  {
   "cell_type": "code",
   "execution_count": 59,
   "metadata": {},
   "outputs": [],
   "source": [
    "titles = list(titles_recom('Howl\\'s Moving Castle', 10))\n",
    "authors = list(authors_recom('Howl\\'s Moving Castle', 10))\n",
    "pubs = list(pubs_recom('Howl\\'s Moving Castle', 10))\n",
    "tags = list(tags_recom('Howl\\'s Moving Castle', 10))"
   ]
  },
  {
   "cell_type": "code",
   "execution_count": 60,
   "metadata": {},
   "outputs": [],
   "source": [
    "combined_title_tag = list(combined_title_tag_recom('Howl\\'s Moving Castle', 10))\n",
    "combined_auth_tag = list(combined_auth_tag_recom('Howl\\'s Moving Castle', 10))\n",
    "combined_pub_tag = list(combined_pub_tag_recom('Howl\\'s Moving Castle', 10))\n",
    "combined_title_auth_pub_tag = list(combined_title_auth_pub_tag_recom('Howl\\'s Moving Castle', 10))"
   ]
  },
  {
   "cell_type": "code",
   "execution_count": null,
   "metadata": {},
   "outputs": [],
   "source": []
  },
  {
   "cell_type": "code",
   "execution_count": 61,
   "metadata": {},
   "outputs": [
    {
     "data": {
      "text/plain": [
       "set()"
      ]
     },
     "execution_count": 61,
     "metadata": {},
     "output_type": "execute_result"
    }
   ],
   "source": [
    "set(bought).intersection(set(titles))"
   ]
  },
  {
   "cell_type": "code",
   "execution_count": 62,
   "metadata": {},
   "outputs": [
    {
     "data": {
      "text/plain": [
       "set()"
      ]
     },
     "execution_count": 62,
     "metadata": {},
     "output_type": "execute_result"
    }
   ],
   "source": [
    "set(bought).intersection(set(authors))"
   ]
  },
  {
   "cell_type": "code",
   "execution_count": 63,
   "metadata": {},
   "outputs": [
    {
     "data": {
      "text/plain": [
       "{\"Howl's Moving Castle\", 'Ramona and Her Mother (Ramona Quimby (Paperback))'}"
      ]
     },
     "execution_count": 63,
     "metadata": {},
     "output_type": "execute_result"
    }
   ],
   "source": [
    "set(bought).intersection(set(pubs))"
   ]
  },
  {
   "cell_type": "code",
   "execution_count": 64,
   "metadata": {},
   "outputs": [
    {
     "data": {
      "text/plain": [
       "set()"
      ]
     },
     "execution_count": 64,
     "metadata": {},
     "output_type": "execute_result"
    }
   ],
   "source": [
    "set(bought).intersection(set(combined_title_tag))"
   ]
  },
  {
   "cell_type": "code",
   "execution_count": 65,
   "metadata": {},
   "outputs": [
    {
     "data": {
      "text/plain": [
       "{'Alive : The Story of the Andes Survivors (Avon Nonfiction)'}"
      ]
     },
     "execution_count": 65,
     "metadata": {},
     "output_type": "execute_result"
    }
   ],
   "source": [
    "set(bought).intersection(set(combined_auth_tag))"
   ]
  },
  {
   "cell_type": "code",
   "execution_count": 66,
   "metadata": {},
   "outputs": [
    {
     "data": {
      "text/plain": [
       "{\"Howl's Moving Castle\"}"
      ]
     },
     "execution_count": 66,
     "metadata": {},
     "output_type": "execute_result"
    }
   ],
   "source": [
    "set(bought).intersection(set(combined_pub_tag))"
   ]
  },
  {
   "cell_type": "code",
   "execution_count": 67,
   "metadata": {},
   "outputs": [
    {
     "data": {
      "text/plain": [
       "{'Alive : The Story of the Andes Survivors (Avon Nonfiction)',\n",
       " 'Ramona and Her Mother (Ramona Quimby (Paperback))'}"
      ]
     },
     "execution_count": 67,
     "metadata": {},
     "output_type": "execute_result"
    }
   ],
   "source": [
    "set(bought).intersection(set(combined_title_auth_pub_tag))"
   ]
  },
  {
   "cell_type": "code",
   "execution_count": null,
   "metadata": {},
   "outputs": [],
   "source": []
  },
  {
   "cell_type": "code",
   "execution_count": null,
   "metadata": {},
   "outputs": [],
   "source": []
  },
  {
   "cell_type": "code",
   "execution_count": null,
   "metadata": {},
   "outputs": [],
   "source": []
  },
  {
   "cell_type": "markdown",
   "metadata": {},
   "source": [
    "Becuase the dataset with book tags didn't have that much overlap with our dataset, our dataset became really small and calculating recommendation accuracy became really difficult.\n",
    "\n",
    "However, from a quick glance checking with a user who bought a lot of books, we see that there are some overlaps between what the user actually bought and our recommendation based on similarity of different book features. There are more combinations and possibilities that we can try with text data of book features. \n",
    "\n",
    "It is important to note that book features such as title, publisher, and author name are from the book itself, as well as other features that were not available in our dataset, such as book genre, book description etc. While other features, such as book tags or book reviews, are user input.\n",
    "\n",
    "It is also interesting to see how book features and features from users can interact together and affect the similarity between books and further affect the recommendation accuracy. "
   ]
  },
  {
   "cell_type": "code",
   "execution_count": null,
   "metadata": {},
   "outputs": [],
   "source": []
  }
 ],
 "metadata": {
  "kernelspec": {
   "display_name": "Python 3.8.1 64-bit",
   "language": "python",
   "name": "python38164bit0209044da7c742dab8314e0953beb93b"
  },
  "language_info": {
   "codemirror_mode": {
    "name": "ipython",
    "version": 3
   },
   "file_extension": ".py",
   "mimetype": "text/x-python",
   "name": "python",
   "nbconvert_exporter": "python",
   "pygments_lexer": "ipython3",
   "version": "3.8.1"
  }
 },
 "nbformat": 4,
 "nbformat_minor": 4
}
