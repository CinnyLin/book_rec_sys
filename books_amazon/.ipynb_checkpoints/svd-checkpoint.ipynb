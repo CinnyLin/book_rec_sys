{
 "cells": [
  {
   "cell_type": "code",
   "execution_count": null,
   "metadata": {},
   "outputs": [],
   "source": []
  },
  {
   "cell_type": "markdown",
   "metadata": {},
   "source": [
    "# Matrix Factorization Collaborative Filtering"
   ]
  },
  {
   "cell_type": "markdown",
   "metadata": {},
   "source": [
    "Collaborative filtering considers users’ opinion on different products and recommends the best products based on the products’ previous rankings and the opinion of other similar types of users. \n",
    "\n",
    "Here we focus on non-probablistic collaborative filtering algorithms, which can be divided to two categories: **memory-based** and **model-based**. \n",
    "\n",
    "In the last notebook, we showed how item-based algorithm is not good for sparseness and scaling. Model-based algorithm involves **matrix factorization** and **dimensionality reduction**.\n",
    "\n",
    "Matrix factorization means decomposing the user-item matrix into two lower smaller matrices: user matrix and item matrix. Users and products will then be described by the **latent factors**.\n",
    "\n",
    "This notebook implements matrix factorization using **Singular Vector Decomposition (SVD)**. "
   ]
  },
  {
   "cell_type": "code",
   "execution_count": null,
   "metadata": {},
   "outputs": [],
   "source": []
  },
  {
   "cell_type": "markdown",
   "metadata": {},
   "source": [
    "### import requirements"
   ]
  },
  {
   "cell_type": "code",
   "execution_count": 1,
   "metadata": {},
   "outputs": [],
   "source": [
    "# import library\n",
    "import pandas as pd\n",
    "import numpy as np\n",
    "import scipy as sp\n",
    "\n",
    "import matplotlib.pyplot as plt\n",
    "import seaborn as sns\n",
    "\n",
    "from collections import defaultdict\n",
    "from collections import Counter"
   ]
  },
  {
   "cell_type": "markdown",
   "metadata": {},
   "source": [
    "Source: [surprise documentation](https://surprise.readthedocs.io/en/stable/getting_started.html)"
   ]
  },
  {
   "cell_type": "code",
   "execution_count": 53,
   "metadata": {},
   "outputs": [],
   "source": [
    "from surprise import Dataset\n",
    "from surprise import Reader\n",
    "from surprise import SVD\n",
    "from surprise.model_selection import GridSearchCV\n",
    "from surprise.model_selection import train_test_split"
   ]
  },
  {
   "cell_type": "code",
   "execution_count": null,
   "metadata": {},
   "outputs": [],
   "source": []
  },
  {
   "cell_type": "code",
   "execution_count": 4,
   "metadata": {},
   "outputs": [
    {
     "data": {
      "text/html": [
       "<div>\n",
       "<style scoped>\n",
       "    .dataframe tbody tr th:only-of-type {\n",
       "        vertical-align: middle;\n",
       "    }\n",
       "\n",
       "    .dataframe tbody tr th {\n",
       "        vertical-align: top;\n",
       "    }\n",
       "\n",
       "    .dataframe thead th {\n",
       "        text-align: right;\n",
       "    }\n",
       "</style>\n",
       "<table border=\"1\" class=\"dataframe\">\n",
       "  <thead>\n",
       "    <tr style=\"text-align: right;\">\n",
       "      <th></th>\n",
       "      <th>uid</th>\n",
       "      <th>bid</th>\n",
       "      <th>rating</th>\n",
       "    </tr>\n",
       "  </thead>\n",
       "  <tbody>\n",
       "    <tr>\n",
       "      <th>10</th>\n",
       "      <td>276746</td>\n",
       "      <td>0425115801</td>\n",
       "      <td>0</td>\n",
       "    </tr>\n",
       "    <tr>\n",
       "      <th>11</th>\n",
       "      <td>276746</td>\n",
       "      <td>0449006522</td>\n",
       "      <td>0</td>\n",
       "    </tr>\n",
       "    <tr>\n",
       "      <th>12</th>\n",
       "      <td>276746</td>\n",
       "      <td>0553561618</td>\n",
       "      <td>0</td>\n",
       "    </tr>\n",
       "  </tbody>\n",
       "</table>\n",
       "</div>"
      ],
      "text/plain": [
       "       uid         bid  rating\n",
       "10  276746  0425115801       0\n",
       "11  276746  0449006522       0\n",
       "12  276746  0553561618       0"
      ]
     },
     "execution_count": 4,
     "metadata": {},
     "output_type": "execute_result"
    }
   ],
   "source": [
    "# load data\n",
    "df = pd.read_csv('../ratings_item0.csv', index_col=0)\n",
    "df.head(3)"
   ]
  },
  {
   "cell_type": "code",
   "execution_count": 5,
   "metadata": {},
   "outputs": [
    {
     "data": {
      "text/plain": [
       "(456182, 3)"
      ]
     },
     "execution_count": 5,
     "metadata": {},
     "output_type": "execute_result"
    }
   ],
   "source": [
    "df.shape"
   ]
  },
  {
   "cell_type": "code",
   "execution_count": 6,
   "metadata": {},
   "outputs": [
    {
     "name": "stdout",
     "output_type": "stream",
     "text": [
      "There are 13808 users and 18318 books in this dataset.\n"
     ]
    }
   ],
   "source": [
    "num_users = len(set(df['uid']))\n",
    "num_books = len(set(df['bid']))\n",
    "print(f'There are {num_users} users and {num_books} books in this dataset.')"
   ]
  },
  {
   "cell_type": "code",
   "execution_count": null,
   "metadata": {},
   "outputs": [],
   "source": []
  },
  {
   "cell_type": "markdown",
   "metadata": {},
   "source": [
    "### data loading"
   ]
  },
  {
   "cell_type": "code",
   "execution_count": 7,
   "metadata": {},
   "outputs": [],
   "source": [
    "reader = Reader(rating_scale=(1,10))"
   ]
  },
  {
   "cell_type": "code",
   "execution_count": 9,
   "metadata": {},
   "outputs": [],
   "source": [
    "data = Dataset.load_from_df(df[['uid', 'bid', 'rating']], reader)"
   ]
  },
  {
   "cell_type": "code",
   "execution_count": null,
   "metadata": {},
   "outputs": [],
   "source": []
  },
  {
   "cell_type": "markdown",
   "metadata": {},
   "source": [
    "## Parameter Search\n",
    "`GridSearchCV(algo_class, param_grid, measures=[u'rmse', u'mae'], cv=None, refit=False, return_train_measures=False)`\n",
    "\n",
    "`RandomizedSearchCV`\n",
    "\n",
    "Parameters\n",
    "- `param_grid`\n",
    "\n",
    "        param_grid = {'bsl_options': {'method': ['als', 'sgd'],\n",
    "                              'reg': [1, 2]},\n",
    "              'k': [2, 3],\n",
    "              'sim_options': {'name': ['msd', 'cosine'],\n",
    "                              'min_support': [1, 5],\n",
    "                              'user_based': [False]}\n",
    "              }\n",
    "\n",
    "Attributes\n",
    "- `best_estimmator`\n",
    "- `best_score`\n",
    "- `best_params`\n",
    "- `cv_results`\n",
    "        results_df = pd.DataFrame.from_dict(gs.cv_results)\n",
    "- ..."
   ]
  },
  {
   "cell_type": "code",
   "execution_count": 27,
   "metadata": {},
   "outputs": [],
   "source": [
    "# param_grid = {\n",
    "#     #'n_factors': [3, 5, 10, 50],\n",
    "#     #'n_epochs': [5, 10, 20], \n",
    "#     'lr_all': [0.002, 0.005, 0.01],\n",
    "#     'reg_all': [0.2, 0.4, 0.6]\n",
    "# }"
   ]
  },
  {
   "cell_type": "code",
   "execution_count": 28,
   "metadata": {},
   "outputs": [],
   "source": [
    "# gs = GridSearchCV(SVD, \n",
    "#                   param_grid, \n",
    "#                   measures=['rmse', 'mae'], \n",
    "#                   cv=3)"
   ]
  },
  {
   "cell_type": "code",
   "execution_count": 29,
   "metadata": {},
   "outputs": [],
   "source": [
    "# gs.fit(data)"
   ]
  },
  {
   "cell_type": "code",
   "execution_count": 30,
   "metadata": {},
   "outputs": [
    {
     "name": "stdout",
     "output_type": "stream",
     "text": [
      "{'rmse': 3.4388163231541147, 'mae': 2.937120732531161}\n"
     ]
    }
   ],
   "source": [
    "# # best RMSE score\n",
    "# print(gs.best_score)"
   ]
  },
  {
   "cell_type": "code",
   "execution_count": null,
   "metadata": {},
   "outputs": [],
   "source": [
    "best_score = {'rmse': 3.4388163231541147, 'mae': 2.937120732531161}\n",
    "print(best_score)"
   ]
  },
  {
   "cell_type": "code",
   "execution_count": 31,
   "metadata": {},
   "outputs": [
    {
     "name": "stdout",
     "output_type": "stream",
     "text": [
      "{'lr_all': 0.005, 'reg_all': 0.4}\n"
     ]
    }
   ],
   "source": [
    "# # combination of parameters that gave the best RMSE score\n",
    "# print(gs.best_params['rmse'])"
   ]
  },
  {
   "cell_type": "code",
   "execution_count": null,
   "metadata": {},
   "outputs": [],
   "source": [
    "best_params = {'lr_all': 0.005, 'reg_all': 0.4}\n",
    "print(best_params)"
   ]
  },
  {
   "cell_type": "code",
   "execution_count": null,
   "metadata": {},
   "outputs": [],
   "source": []
  },
  {
   "cell_type": "code",
   "execution_count": 32,
   "metadata": {},
   "outputs": [
    {
     "data": {
      "text/html": [
       "<div>\n",
       "<style scoped>\n",
       "    .dataframe tbody tr th:only-of-type {\n",
       "        vertical-align: middle;\n",
       "    }\n",
       "\n",
       "    .dataframe tbody tr th {\n",
       "        vertical-align: top;\n",
       "    }\n",
       "\n",
       "    .dataframe thead th {\n",
       "        text-align: right;\n",
       "    }\n",
       "</style>\n",
       "<table border=\"1\" class=\"dataframe\">\n",
       "  <thead>\n",
       "    <tr style=\"text-align: right;\">\n",
       "      <th></th>\n",
       "      <th>split0_test_rmse</th>\n",
       "      <th>split1_test_rmse</th>\n",
       "      <th>split2_test_rmse</th>\n",
       "      <th>mean_test_rmse</th>\n",
       "      <th>std_test_rmse</th>\n",
       "      <th>rank_test_rmse</th>\n",
       "      <th>split0_test_mae</th>\n",
       "      <th>split1_test_mae</th>\n",
       "      <th>split2_test_mae</th>\n",
       "      <th>mean_test_mae</th>\n",
       "      <th>std_test_mae</th>\n",
       "      <th>rank_test_mae</th>\n",
       "      <th>mean_fit_time</th>\n",
       "      <th>std_fit_time</th>\n",
       "      <th>mean_test_time</th>\n",
       "      <th>std_test_time</th>\n",
       "      <th>params</th>\n",
       "      <th>param_lr_all</th>\n",
       "      <th>param_reg_all</th>\n",
       "    </tr>\n",
       "  </thead>\n",
       "  <tbody>\n",
       "    <tr>\n",
       "      <th>0</th>\n",
       "      <td>3.449544</td>\n",
       "      <td>3.445166</td>\n",
       "      <td>3.460304</td>\n",
       "      <td>3.451671</td>\n",
       "      <td>0.006360</td>\n",
       "      <td>3</td>\n",
       "      <td>2.964630</td>\n",
       "      <td>2.959523</td>\n",
       "      <td>2.970564</td>\n",
       "      <td>2.964906</td>\n",
       "      <td>0.004512</td>\n",
       "      <td>5</td>\n",
       "      <td>15.742027</td>\n",
       "      <td>0.898789</td>\n",
       "      <td>1.648243</td>\n",
       "      <td>0.186719</td>\n",
       "      <td>{'lr_all': 0.002, 'reg_all': 0.2}</td>\n",
       "      <td>0.002</td>\n",
       "      <td>0.2</td>\n",
       "    </tr>\n",
       "    <tr>\n",
       "      <th>1</th>\n",
       "      <td>3.462866</td>\n",
       "      <td>3.458584</td>\n",
       "      <td>3.474064</td>\n",
       "      <td>3.465172</td>\n",
       "      <td>0.006527</td>\n",
       "      <td>7</td>\n",
       "      <td>3.008066</td>\n",
       "      <td>3.003575</td>\n",
       "      <td>3.014400</td>\n",
       "      <td>3.008680</td>\n",
       "      <td>0.004440</td>\n",
       "      <td>7</td>\n",
       "      <td>16.430812</td>\n",
       "      <td>0.773005</td>\n",
       "      <td>1.545927</td>\n",
       "      <td>0.154833</td>\n",
       "      <td>{'lr_all': 0.002, 'reg_all': 0.4}</td>\n",
       "      <td>0.002</td>\n",
       "      <td>0.4</td>\n",
       "    </tr>\n",
       "    <tr>\n",
       "      <th>2</th>\n",
       "      <td>3.479977</td>\n",
       "      <td>3.476111</td>\n",
       "      <td>3.490878</td>\n",
       "      <td>3.482322</td>\n",
       "      <td>0.006252</td>\n",
       "      <td>8</td>\n",
       "      <td>3.049625</td>\n",
       "      <td>3.045708</td>\n",
       "      <td>3.055712</td>\n",
       "      <td>3.050349</td>\n",
       "      <td>0.004116</td>\n",
       "      <td>9</td>\n",
       "      <td>17.091811</td>\n",
       "      <td>0.918627</td>\n",
       "      <td>1.628739</td>\n",
       "      <td>0.160953</td>\n",
       "      <td>{'lr_all': 0.002, 'reg_all': 0.6}</td>\n",
       "      <td>0.002</td>\n",
       "      <td>0.6</td>\n",
       "    </tr>\n",
       "    <tr>\n",
       "      <th>3</th>\n",
       "      <td>3.464426</td>\n",
       "      <td>3.452924</td>\n",
       "      <td>3.471229</td>\n",
       "      <td>3.462860</td>\n",
       "      <td>0.007555</td>\n",
       "      <td>6</td>\n",
       "      <td>2.939687</td>\n",
       "      <td>2.929576</td>\n",
       "      <td>2.942098</td>\n",
       "      <td>2.937121</td>\n",
       "      <td>0.005425</td>\n",
       "      <td>1</td>\n",
       "      <td>16.516340</td>\n",
       "      <td>0.974430</td>\n",
       "      <td>1.563397</td>\n",
       "      <td>0.245768</td>\n",
       "      <td>{'lr_all': 0.005, 'reg_all': 0.2}</td>\n",
       "      <td>0.005</td>\n",
       "      <td>0.2</td>\n",
       "    </tr>\n",
       "    <tr>\n",
       "      <th>4</th>\n",
       "      <td>3.435843</td>\n",
       "      <td>3.431274</td>\n",
       "      <td>3.449331</td>\n",
       "      <td>3.438816</td>\n",
       "      <td>0.007666</td>\n",
       "      <td>1</td>\n",
       "      <td>2.962210</td>\n",
       "      <td>2.956392</td>\n",
       "      <td>2.968997</td>\n",
       "      <td>2.962533</td>\n",
       "      <td>0.005151</td>\n",
       "      <td>4</td>\n",
       "      <td>14.456968</td>\n",
       "      <td>0.038758</td>\n",
       "      <td>1.572687</td>\n",
       "      <td>0.172307</td>\n",
       "      <td>{'lr_all': 0.005, 'reg_all': 0.4}</td>\n",
       "      <td>0.005</td>\n",
       "      <td>0.4</td>\n",
       "    </tr>\n",
       "  </tbody>\n",
       "</table>\n",
       "</div>"
      ],
      "text/plain": [
       "   split0_test_rmse  split1_test_rmse  split2_test_rmse  mean_test_rmse  \\\n",
       "0          3.449544          3.445166          3.460304        3.451671   \n",
       "1          3.462866          3.458584          3.474064        3.465172   \n",
       "2          3.479977          3.476111          3.490878        3.482322   \n",
       "3          3.464426          3.452924          3.471229        3.462860   \n",
       "4          3.435843          3.431274          3.449331        3.438816   \n",
       "\n",
       "   std_test_rmse  rank_test_rmse  split0_test_mae  split1_test_mae  \\\n",
       "0       0.006360               3         2.964630         2.959523   \n",
       "1       0.006527               7         3.008066         3.003575   \n",
       "2       0.006252               8         3.049625         3.045708   \n",
       "3       0.007555               6         2.939687         2.929576   \n",
       "4       0.007666               1         2.962210         2.956392   \n",
       "\n",
       "   split2_test_mae  mean_test_mae  std_test_mae  rank_test_mae  mean_fit_time  \\\n",
       "0         2.970564       2.964906      0.004512              5      15.742027   \n",
       "1         3.014400       3.008680      0.004440              7      16.430812   \n",
       "2         3.055712       3.050349      0.004116              9      17.091811   \n",
       "3         2.942098       2.937121      0.005425              1      16.516340   \n",
       "4         2.968997       2.962533      0.005151              4      14.456968   \n",
       "\n",
       "   std_fit_time  mean_test_time  std_test_time  \\\n",
       "0      0.898789        1.648243       0.186719   \n",
       "1      0.773005        1.545927       0.154833   \n",
       "2      0.918627        1.628739       0.160953   \n",
       "3      0.974430        1.563397       0.245768   \n",
       "4      0.038758        1.572687       0.172307   \n",
       "\n",
       "                              params  param_lr_all  param_reg_all  \n",
       "0  {'lr_all': 0.002, 'reg_all': 0.2}         0.002            0.2  \n",
       "1  {'lr_all': 0.002, 'reg_all': 0.4}         0.002            0.4  \n",
       "2  {'lr_all': 0.002, 'reg_all': 0.6}         0.002            0.6  \n",
       "3  {'lr_all': 0.005, 'reg_all': 0.2}         0.005            0.2  \n",
       "4  {'lr_all': 0.005, 'reg_all': 0.4}         0.005            0.4  "
      ]
     },
     "execution_count": 32,
     "metadata": {},
     "output_type": "execute_result"
    }
   ],
   "source": [
    "# results_df = pd.DataFrame.from_dict(gs.cv_results)\n",
    "# results_df.sort_values(by='rank_test_rmse')[:3]"
   ]
  },
  {
   "cell_type": "code",
   "execution_count": 23,
   "metadata": {},
   "outputs": [],
   "source": [
    "#results_df.to_csv('svd_results.csv')"
   ]
  },
  {
   "cell_type": "code",
   "execution_count": null,
   "metadata": {},
   "outputs": [],
   "source": []
  },
  {
   "cell_type": "markdown",
   "metadata": {},
   "source": [
    "## evaluation"
   ]
  },
  {
   "cell_type": "code",
   "execution_count": 35,
   "metadata": {},
   "outputs": [],
   "source": [
    "# results_df = results_df[\n",
    "#     ['split0_test_rmse', 'rank_test_rmse', \n",
    "#      'params', 'param_lr_all', 'param_reg_all']]"
   ]
  },
  {
   "cell_type": "code",
   "execution_count": 36,
   "metadata": {},
   "outputs": [],
   "source": [
    "# results_df = pd.concat([\n",
    "#     results_df.drop(['param_lr_all'], axis=1), \n",
    "#     results_df['param_lr_all'].apply(pd.Series)\n",
    "#     ], axis=1)"
   ]
  },
  {
   "cell_type": "code",
   "execution_count": 37,
   "metadata": {},
   "outputs": [],
   "source": [
    "# results_df = pd.concat([\n",
    "#     results_df.drop(['param_reg_all'], axis=1), \n",
    "#     results_df['param_reg_all'].apply(pd.Series)\n",
    "#     ], axis=1)"
   ]
  },
  {
   "cell_type": "code",
   "execution_count": 38,
   "metadata": {},
   "outputs": [],
   "source": [
    "# results_df.to_csv('svd_results_cleaned.csv')"
   ]
  },
  {
   "cell_type": "code",
   "execution_count": 42,
   "metadata": {},
   "outputs": [],
   "source": [
    "results_df = pd.read_csv('svd_results_cleaned.csv', index_col=0)\n",
    "results_df.columns = ['split0_test_rmse', 'rank_test_rmse', 'params', 'lr_all', 'reg_all']"
   ]
  },
  {
   "cell_type": "code",
   "execution_count": 43,
   "metadata": {},
   "outputs": [
    {
     "data": {
      "text/html": [
       "<div>\n",
       "<style scoped>\n",
       "    .dataframe tbody tr th:only-of-type {\n",
       "        vertical-align: middle;\n",
       "    }\n",
       "\n",
       "    .dataframe tbody tr th {\n",
       "        vertical-align: top;\n",
       "    }\n",
       "\n",
       "    .dataframe thead th {\n",
       "        text-align: right;\n",
       "    }\n",
       "</style>\n",
       "<table border=\"1\" class=\"dataframe\">\n",
       "  <thead>\n",
       "    <tr style=\"text-align: right;\">\n",
       "      <th></th>\n",
       "      <th>split0_test_rmse</th>\n",
       "      <th>rank_test_rmse</th>\n",
       "      <th>params</th>\n",
       "      <th>lr_all</th>\n",
       "      <th>reg_all</th>\n",
       "    </tr>\n",
       "  </thead>\n",
       "  <tbody>\n",
       "    <tr>\n",
       "      <th>4</th>\n",
       "      <td>3.435843</td>\n",
       "      <td>1</td>\n",
       "      <td>{'lr_all': 0.005, 'reg_all': 0.4}</td>\n",
       "      <td>0.005</td>\n",
       "      <td>0.4</td>\n",
       "    </tr>\n",
       "    <tr>\n",
       "      <th>8</th>\n",
       "      <td>3.448499</td>\n",
       "      <td>2</td>\n",
       "      <td>{'lr_all': 0.01, 'reg_all': 0.6}</td>\n",
       "      <td>0.010</td>\n",
       "      <td>0.6</td>\n",
       "    </tr>\n",
       "    <tr>\n",
       "      <th>0</th>\n",
       "      <td>3.449544</td>\n",
       "      <td>3</td>\n",
       "      <td>{'lr_all': 0.002, 'reg_all': 0.2}</td>\n",
       "      <td>0.002</td>\n",
       "      <td>0.2</td>\n",
       "    </tr>\n",
       "    <tr>\n",
       "      <th>5</th>\n",
       "      <td>3.451672</td>\n",
       "      <td>4</td>\n",
       "      <td>{'lr_all': 0.005, 'reg_all': 0.6}</td>\n",
       "      <td>0.005</td>\n",
       "      <td>0.6</td>\n",
       "    </tr>\n",
       "    <tr>\n",
       "      <th>7</th>\n",
       "      <td>3.458560</td>\n",
       "      <td>5</td>\n",
       "      <td>{'lr_all': 0.01, 'reg_all': 0.4}</td>\n",
       "      <td>0.010</td>\n",
       "      <td>0.4</td>\n",
       "    </tr>\n",
       "  </tbody>\n",
       "</table>\n",
       "</div>"
      ],
      "text/plain": [
       "   split0_test_rmse  rank_test_rmse                             params  \\\n",
       "4          3.435843               1  {'lr_all': 0.005, 'reg_all': 0.4}   \n",
       "8          3.448499               2   {'lr_all': 0.01, 'reg_all': 0.6}   \n",
       "0          3.449544               3  {'lr_all': 0.002, 'reg_all': 0.2}   \n",
       "5          3.451672               4  {'lr_all': 0.005, 'reg_all': 0.6}   \n",
       "7          3.458560               5   {'lr_all': 0.01, 'reg_all': 0.4}   \n",
       "\n",
       "   lr_all  reg_all  \n",
       "4   0.005      0.4  \n",
       "8   0.010      0.6  \n",
       "0   0.002      0.2  \n",
       "5   0.005      0.6  \n",
       "7   0.010      0.4  "
      ]
     },
     "execution_count": 43,
     "metadata": {},
     "output_type": "execute_result"
    }
   ],
   "source": [
    "results_df.sort_values(by='rank_test_rmse')[:5]"
   ]
  },
  {
   "cell_type": "code",
   "execution_count": 44,
   "metadata": {},
   "outputs": [
    {
     "data": {
      "text/plain": [
       "<matplotlib.axes._subplots.AxesSubplot at 0x135f77940>"
      ]
     },
     "execution_count": 44,
     "metadata": {},
     "output_type": "execute_result"
    },
    {
     "data": {
      "image/png": "[encoded data removed]",
      "text/plain": [
       "<Figure size 432x288 with 1 Axes>"
      ]
     },
     "metadata": {
      "needs_background": "light"
     },
     "output_type": "display_data"
    }
   ],
   "source": [
    "sns.barplot(x=results_df['lr_all'], y=results_df['split0_test_rmse'], palette='Blues')"
   ]
  },
  {
   "cell_type": "code",
   "execution_count": 45,
   "metadata": {},
   "outputs": [
    {
     "data": {
      "text/plain": [
       "<matplotlib.axes._subplots.AxesSubplot at 0x1098d3610>"
      ]
     },
     "execution_count": 45,
     "metadata": {},
     "output_type": "execute_result"
    },
    {
     "data": {
      "image/png": "[encoded data removed]",
      "text/plain": [
       "<Figure size 432x288 with 1 Axes>"
      ]
     },
     "metadata": {
      "needs_background": "light"
     },
     "output_type": "display_data"
    }
   ],
   "source": [
    "sns.barplot(x=results_df['reg_all'], y=results_df['split0_test_rmse'], palette='Blues')"
   ]
  },
  {
   "cell_type": "code",
   "execution_count": 49,
   "metadata": {},
   "outputs": [
    {
     "data": {
      "text/plain": [
       "<matplotlib.colorbar.Colorbar at 0x1375065b0>"
      ]
     },
     "execution_count": 49,
     "metadata": {},
     "output_type": "execute_result"
    },
    {
     "data": {
      "image/png": "[encoded data removed]",
      "text/plain": [
       "<Figure size 432x288 with 2 Axes>"
      ]
     },
     "metadata": {
      "needs_background": "light"
     },
     "output_type": "display_data"
    }
   ],
   "source": [
    "plt.scatter(x=results_df['lr_all'], \n",
    "            y=results_df['reg_all'],\n",
    "            c=results_df['split0_test_rmse'])\n",
    "\n",
    "plt.xticks([0.002, 0.005, 0.01])\n",
    "plt.yticks([0.2, 0.4, 0.6])\n",
    "plt.xlabel('lr_all')\n",
    "plt.ylabel('reg_all')\n",
    "plt.colorbar()"
   ]
  },
  {
   "cell_type": "code",
   "execution_count": null,
   "metadata": {},
   "outputs": [],
   "source": []
  },
  {
   "cell_type": "markdown",
   "metadata": {},
   "source": [
    "## How to get top-N recommendations for each user\n",
    "Source: [documentation](https://surprise.readthedocs.io/en/stable/FAQ.html)"
   ]
  },
  {
   "cell_type": "markdown",
   "metadata": {},
   "source": [
    "We first train an SVD algorithm on the whole dataset, and then predict all the ratings for the pairs (user, item) that are not in the training set. We then retrieve the top-10 prediction for each user."
   ]
  },
  {
   "cell_type": "code",
   "execution_count": 51,
   "metadata": {},
   "outputs": [],
   "source": [
    "def get_top_n(predictions, n=10):\n",
    "    \"\"\"\n",
    "    Return the top-N recommendation for each user from a set of predictions.\n",
    "\n",
    "    Args:\n",
    "        predictions(list of Prediction objects): The list of predictions, as\n",
    "            returned by the test method of an algorithm.\n",
    "        n(int): The number of recommendation to output for each user. Default is 10.\n",
    "\n",
    "    Returns:\n",
    "    A dict where keys are user (raw) ids and values are lists of tuples:\n",
    "        [(raw item id, rating estimation), ...] of size n.\n",
    "    \"\"\"\n",
    "\n",
    "    # First map the predictions to each user.\n",
    "    top_n = defaultdict(list)\n",
    "    for uid, iid, true_r, est, _ in predictions:\n",
    "        top_n[uid].append((iid, est))\n",
    "\n",
    "    # Then sort the predictions for each user and retrieve the k highest ones.\n",
    "    for uid, user_ratings in top_n.items():\n",
    "        user_ratings.sort(key=lambda x: x[1], reverse=True)\n",
    "        top_n[uid] = user_ratings[:n]\n",
    "\n",
    "    return top_n"
   ]
  },
  {
   "cell_type": "code",
   "execution_count": null,
   "metadata": {},
   "outputs": [],
   "source": []
  },
  {
   "cell_type": "code",
   "execution_count": 54,
   "metadata": {},
   "outputs": [],
   "source": [
    "trainset, testset = train_test_split(data, test_size=.25)"
   ]
  },
  {
   "cell_type": "code",
   "execution_count": 58,
   "metadata": {},
   "outputs": [],
   "source": [
    "algo = SVD(lr_all=0.005, reg_all=0.4)"
   ]
  },
  {
   "cell_type": "code",
   "execution_count": 59,
   "metadata": {},
   "outputs": [],
   "source": [
    "predictions = algo.fit(trainset).test(testset)"
   ]
  },
  {
   "cell_type": "code",
   "execution_count": null,
   "metadata": {},
   "outputs": [],
   "source": []
  },
  {
   "cell_type": "code",
   "execution_count": 61,
   "metadata": {},
   "outputs": [
    {
     "data": {
      "text/html": [
       "<div>\n",
       "<style scoped>\n",
       "    .dataframe tbody tr th:only-of-type {\n",
       "        vertical-align: middle;\n",
       "    }\n",
       "\n",
       "    .dataframe tbody tr th {\n",
       "        vertical-align: top;\n",
       "    }\n",
       "\n",
       "    .dataframe thead th {\n",
       "        text-align: right;\n",
       "    }\n",
       "</style>\n",
       "<table border=\"1\" class=\"dataframe\">\n",
       "  <thead>\n",
       "    <tr style=\"text-align: right;\">\n",
       "      <th></th>\n",
       "      <th>uid</th>\n",
       "      <th>bid</th>\n",
       "      <th>rating</th>\n",
       "    </tr>\n",
       "  </thead>\n",
       "  <tbody>\n",
       "    <tr>\n",
       "      <th>0</th>\n",
       "      <td>60392</td>\n",
       "      <td>0449216527</td>\n",
       "      <td>7.0</td>\n",
       "    </tr>\n",
       "    <tr>\n",
       "      <th>1</th>\n",
       "      <td>265508</td>\n",
       "      <td>0140280464</td>\n",
       "      <td>0.0</td>\n",
       "    </tr>\n",
       "    <tr>\n",
       "      <th>2</th>\n",
       "      <td>651</td>\n",
       "      <td>0345395379</td>\n",
       "      <td>0.0</td>\n",
       "    </tr>\n",
       "  </tbody>\n",
       "</table>\n",
       "</div>"
      ],
      "text/plain": [
       "      uid         bid  rating\n",
       "0   60392  0449216527     7.0\n",
       "1  265508  0140280464     0.0\n",
       "2     651  0345395379     0.0"
      ]
     },
     "execution_count": 61,
     "metadata": {},
     "output_type": "execute_result"
    }
   ],
   "source": [
    "test_df = pd.DataFrame(testset, columns=['uid', 'bid', 'rating'])\n",
    "test_df.head(3)"
   ]
  },
  {
   "cell_type": "code",
   "execution_count": null,
   "metadata": {},
   "outputs": [],
   "source": []
  },
  {
   "cell_type": "code",
   "execution_count": 62,
   "metadata": {},
   "outputs": [
    {
     "name": "stdout",
     "output_type": "stream",
     "text": [
      "1.0\n"
     ]
    }
   ],
   "source": [
    "top_10 = get_top_n(predictions, n=10)\n",
    "accuracy = []\n",
    "\n",
    "# Print the recommended items for each user\n",
    "for uid, user_ratings in top_10.items():\n",
    "    bought = set(test_df[test_df['uid']==uid]['bid'])\n",
    "    predicted = set([bid for bid, rating in user_ratings])\n",
    "    rate = len(bought.intersection(predicted)) / len(predicted)\n",
    "    accuracy.append(rate)\n",
    "print(sum(accuracy)/len(accuracy))"
   ]
  },
  {
   "cell_type": "code",
   "execution_count": null,
   "metadata": {},
   "outputs": [],
   "source": []
  },
  {
   "cell_type": "code",
   "execution_count": 64,
   "metadata": {},
   "outputs": [],
   "source": [
    "n = np.arange(1,21,1)\n",
    "avg_accuracy = []\n",
    "\n",
    "for i in n:\n",
    "    top_n = get_top_n(predictions, n=i)\n",
    "    accuracy = []\n",
    "    \n",
    "    for uid, user_ratings in top_n.items():\n",
    "        bought = set(test_df[test_df['uid']==uid]['bid'])\n",
    "        predicted = set([bid for bid, rating in user_ratings])\n",
    "        rate = len(bought.intersection(predicted)) / len(predicted)\n",
    "        accuracy.append(rate)\n",
    "    \n",
    "    avg_accuracy.append(sum(accuracy)/len(accuracy))"
   ]
  },
  {
   "cell_type": "code",
   "execution_count": 65,
   "metadata": {},
   "outputs": [
    {
     "data": {
      "image/png": "[encoded data removed]",
      "text/plain": [
       "<Figure size 432x288 with 1 Axes>"
      ]
     },
     "metadata": {
      "needs_background": "light"
     },
     "output_type": "display_data"
    }
   ],
   "source": [
    "plt.plot(avg_accuracy)\n",
    "plt.xticks(np.arange(0,20,1),n)\n",
    "plt.show()"
   ]
  },
  {
   "cell_type": "code",
   "execution_count": null,
   "metadata": {},
   "outputs": [],
   "source": []
  },
  {
   "cell_type": "code",
   "execution_count": null,
   "metadata": {},
   "outputs": [],
   "source": []
  },
  {
   "cell_type": "code",
   "execution_count": null,
   "metadata": {},
   "outputs": [],
   "source": []
  }
 ],
 "metadata": {
  "kernelspec": {
   "display_name": "Python 3.8.1 64-bit",
   "language": "python",
   "name": "python38164bit0209044da7c742dab8314e0953beb93b"
  },
  "language_info": {
   "codemirror_mode": {
    "name": "ipython",
    "version": 3
   },
   "file_extension": ".py",
   "mimetype": "text/x-python",
   "name": "python",
   "nbconvert_exporter": "python",
   "pygments_lexer": "ipython3",
   "version": "3.8.1"
  }
 },
 "nbformat": 4,
 "nbformat_minor": 4
}
