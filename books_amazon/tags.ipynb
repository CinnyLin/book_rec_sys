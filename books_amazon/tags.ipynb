{
 "cells": [
  {
   "cell_type": "code",
   "execution_count": null,
   "metadata": {},
   "outputs": [],
   "source": []
  },
  {
   "cell_type": "markdown",
   "metadata": {},
   "source": [
    "# TF-IDF for Book Tags\n",
    "Term Frequency - Inverse Document Frequency (TF-IDF) is a numerical statistic that is intended to reflect how important a word is to a document in a collection or corpus."
   ]
  },
  {
   "cell_type": "code",
   "execution_count": null,
   "metadata": {},
   "outputs": [],
   "source": []
  },
  {
   "cell_type": "markdown",
   "metadata": {},
   "source": [
    "### import requirements"
   ]
  },
  {
   "cell_type": "code",
   "execution_count": 1,
   "metadata": {},
   "outputs": [],
   "source": [
    "import os\n",
    "import sys\n",
    "import warnings\n",
    "warnings.filterwarnings('ignore')\n",
    "from io import BytesIO\n",
    "\n",
    "import numpy as np\n",
    "import pandas as pd\n",
    "from scipy import stats\n",
    "from scipy.stats import pearsonr\n",
    "\n",
    "import matplotlib.pyplot as plt\n",
    "import seaborn as sns\n",
    "\n",
    "import datetime\n",
    "import re\n",
    "import string\n",
    "import random\n",
    "import requests\n",
    "from collections import Counter\n",
    "from PIL import Image"
   ]
  },
  {
   "cell_type": "code",
   "execution_count": 2,
   "metadata": {},
   "outputs": [],
   "source": [
    "import sklearn\n",
    "from sklearn.metrics.pairwise import linear_kernel\n",
    "from sklearn.model_selection import train_test_split\n",
    "from sklearn.feature_extraction.text import CountVectorizer\n",
    "from sklearn.feature_extraction.text import TfidfVectorizer\n",
    "\n",
    "from nltk.corpus import stopwords\n",
    "from nltk.tokenize import RegexpTokenizer\n",
    "\n",
    "import keras\n",
    "from keras.models import Sequential, Model\n",
    "from keras.layers import Dense, Input\n",
    "from keras.utils import plot_model\n",
    "from keras.layers import Flatten, Embedding\n",
    "from keras.layers.convolutional import Conv2D\n",
    "from keras.layers.pooling import MaxPooling2D\n",
    "from keras.layers.recurrent import LSTM\n",
    "from keras.layers import Concatenate, Dot\n",
    "from keras.optimizers import Adam"
   ]
  },
  {
   "cell_type": "code",
   "execution_count": null,
   "metadata": {},
   "outputs": [],
   "source": []
  },
  {
   "cell_type": "markdown",
   "metadata": {},
   "source": [
    "### load dataset"
   ]
  },
  {
   "cell_type": "markdown",
   "metadata": {},
   "source": [
    "my original dataset"
   ]
  },
  {
   "cell_type": "code",
   "execution_count": 3,
   "metadata": {},
   "outputs": [
    {
     "data": {
      "text/html": [
       "<div>\n",
       "<style scoped>\n",
       "    .dataframe tbody tr th:only-of-type {\n",
       "        vertical-align: middle;\n",
       "    }\n",
       "\n",
       "    .dataframe tbody tr th {\n",
       "        vertical-align: top;\n",
       "    }\n",
       "\n",
       "    .dataframe thead th {\n",
       "        text-align: right;\n",
       "    }\n",
       "</style>\n",
       "<table border=\"1\" class=\"dataframe\">\n",
       "  <thead>\n",
       "    <tr style=\"text-align: right;\">\n",
       "      <th></th>\n",
       "      <th>uid</th>\n",
       "      <th>isbn</th>\n",
       "      <th>rating</th>\n",
       "    </tr>\n",
       "  </thead>\n",
       "  <tbody>\n",
       "    <tr>\n",
       "      <th>0</th>\n",
       "      <td>276725</td>\n",
       "      <td>034545104X</td>\n",
       "      <td>0</td>\n",
       "    </tr>\n",
       "    <tr>\n",
       "      <th>1</th>\n",
       "      <td>276726</td>\n",
       "      <td>0155061224</td>\n",
       "      <td>5</td>\n",
       "    </tr>\n",
       "    <tr>\n",
       "      <th>2</th>\n",
       "      <td>276727</td>\n",
       "      <td>0446520802</td>\n",
       "      <td>0</td>\n",
       "    </tr>\n",
       "  </tbody>\n",
       "</table>\n",
       "</div>"
      ],
      "text/plain": [
       "      uid        isbn  rating\n",
       "0  276725  034545104X       0\n",
       "1  276726  0155061224       5\n",
       "2  276727  0446520802       0"
      ]
     },
     "execution_count": 3,
     "metadata": {},
     "output_type": "execute_result"
    }
   ],
   "source": [
    "df_ratings = pd.read_csv('books/Ratings.csv')\n",
    "df_ratings.columns = ['uid', 'isbn', 'rating']\n",
    "df_ratings.head(3)"
   ]
  },
  {
   "cell_type": "code",
   "execution_count": 4,
   "metadata": {},
   "outputs": [],
   "source": [
    "# df_books = pd.read_csv('books/Books.csv')\n",
    "# df_books.head(3)"
   ]
  },
  {
   "cell_type": "code",
   "execution_count": 5,
   "metadata": {},
   "outputs": [],
   "source": [
    "# df_books.shape"
   ]
  },
  {
   "cell_type": "code",
   "execution_count": null,
   "metadata": {},
   "outputs": [],
   "source": []
  },
  {
   "cell_type": "markdown",
   "metadata": {},
   "source": [
    "the dataset with book tags i want to merge with\n",
    "\n",
    "source: [Good Reads dataset](https://www.kaggle.com/zygmunt/goodbooks-10k?select=book_tags.csv) obtained from Kaggle"
   ]
  },
  {
   "cell_type": "code",
   "execution_count": 6,
   "metadata": {},
   "outputs": [],
   "source": [
    "# books_df = pd.read_csv('books/books_10k.csv')\n",
    "# books_df.head(3)"
   ]
  },
  {
   "cell_type": "code",
   "execution_count": 7,
   "metadata": {},
   "outputs": [],
   "source": [
    "# booktags_df = pd.read_csv('books/book_tags.csv')\n",
    "# booktags_df.head(3)"
   ]
  },
  {
   "cell_type": "code",
   "execution_count": 8,
   "metadata": {},
   "outputs": [],
   "source": [
    "# tags_df = pd.read_csv('books/tags.csv')\n",
    "# tags_df.head(3)"
   ]
  },
  {
   "cell_type": "code",
   "execution_count": 9,
   "metadata": {},
   "outputs": [],
   "source": [
    "# booktags_df = booktags_df.merge(tags_df, how='outer', on='tag_id')\n",
    "# booktags_df.head(3)"
   ]
  },
  {
   "cell_type": "code",
   "execution_count": 10,
   "metadata": {},
   "outputs": [],
   "source": [
    "# booktags_df = booktags_df.merge(books_df, how='outer', \n",
    "#                                 left_on='goodreads_book_id',\n",
    "#                                 right_on='book_id')\n",
    "# booktags_df.head(3)"
   ]
  },
  {
   "cell_type": "code",
   "execution_count": 11,
   "metadata": {},
   "outputs": [],
   "source": [
    "# booktags_df = booktags_df[['tag_id', 'tag_name', 'isbn']]"
   ]
  },
  {
   "cell_type": "code",
   "execution_count": 12,
   "metadata": {},
   "outputs": [],
   "source": [
    "# booktags_df.shape"
   ]
  },
  {
   "cell_type": "code",
   "execution_count": null,
   "metadata": {},
   "outputs": [],
   "source": []
  },
  {
   "cell_type": "markdown",
   "metadata": {},
   "source": [
    "merge the two datasets!"
   ]
  },
  {
   "cell_type": "code",
   "execution_count": 13,
   "metadata": {},
   "outputs": [],
   "source": [
    "# df_books = df_books.merge(booktags_df, left_on='ISBN', right_on='isbn')\n",
    "# df_books.head(3)"
   ]
  },
  {
   "cell_type": "code",
   "execution_count": 14,
   "metadata": {},
   "outputs": [],
   "source": [
    "# df_books.shape"
   ]
  },
  {
   "cell_type": "code",
   "execution_count": 15,
   "metadata": {},
   "outputs": [],
   "source": [
    "# df_books = df_books[['ISBN', 'Book-Title', 'Book-Author', 'Year-Of-Publication', 'Publisher', 'tag_name']]\n",
    "# df_books.columns = ['isbn', 'title', 'author', 'year', 'publisher', 'tag_name']\n",
    "# df_books.head(3)"
   ]
  },
  {
   "cell_type": "code",
   "execution_count": 16,
   "metadata": {},
   "outputs": [],
   "source": [
    "#df_books.to_csv('books/Books_tags.csv')"
   ]
  },
  {
   "cell_type": "code",
   "execution_count": null,
   "metadata": {},
   "outputs": [],
   "source": []
  },
  {
   "cell_type": "code",
   "execution_count": 17,
   "metadata": {},
   "outputs": [
    {
     "data": {
      "text/plain": [
       "(39800, 6)"
      ]
     },
     "execution_count": 17,
     "metadata": {},
     "output_type": "execute_result"
    }
   ],
   "source": [
    "booktags_df = pd.read_csv('books/Books_tags.csv', index_col=0)\n",
    "booktags_df.shape"
   ]
  },
  {
   "cell_type": "code",
   "execution_count": 18,
   "metadata": {},
   "outputs": [
    {
     "data": {
      "text/plain": [
       "(398, 6)"
      ]
     },
     "execution_count": 18,
     "metadata": {},
     "output_type": "execute_result"
    }
   ],
   "source": [
    "df_books = booktags_df.drop_duplicates(subset=['isbn'])\n",
    "df_books.shape"
   ]
  },
  {
   "cell_type": "code",
   "execution_count": 19,
   "metadata": {},
   "outputs": [
    {
     "name": "stdout",
     "output_type": "stream",
     "text": [
      "There are 398 books from 346 authors labelled with 6096 tags in the dataset.\n"
     ]
    }
   ],
   "source": [
    "num_tags = len(set(booktags_df['tag_name']))\n",
    "num_books = len(set(booktags_df['isbn']))\n",
    "num_auths = len(set(booktags_df['author']))\n",
    "print(f'There are {num_books} books from {num_auths} authors \\\n",
    "labelled with {num_tags} tags in the dataset.')"
   ]
  },
  {
   "cell_type": "code",
   "execution_count": null,
   "metadata": {},
   "outputs": [],
   "source": []
  },
  {
   "cell_type": "markdown",
   "metadata": {},
   "source": [
    "## calculate similarity"
   ]
  },
  {
   "cell_type": "markdown",
   "metadata": {},
   "source": [
    "calculate similarities between authors"
   ]
  },
  {
   "cell_type": "code",
   "execution_count": 20,
   "metadata": {},
   "outputs": [],
   "source": [
    "tf_auth = TfidfVectorizer(analyzer='word',ngram_range=(1, 2),\n",
    "                     min_df=0, stop_words='english')\n",
    "\n",
    "tfidf_matrix_auth = tf_auth.fit_transform(df_books['author'])\n",
    "\n",
    "cosine_sim_auth = linear_kernel(tfidf_matrix_auth, tfidf_matrix_auth)"
   ]
  },
  {
   "cell_type": "code",
   "execution_count": 21,
   "metadata": {},
   "outputs": [],
   "source": [
    "#cosine_sim_auth"
   ]
  },
  {
   "cell_type": "code",
   "execution_count": 22,
   "metadata": {},
   "outputs": [],
   "source": [
    "titles = df_books['title']\n",
    "indices = pd.Series(df_books.index, index=df_books['title'])\n",
    "\n",
    "\n",
    "def authors_recom(title, n):\n",
    "    '''\n",
    "    get book recommendations based on author similarities\n",
    "    '''\n",
    "    \n",
    "    idx = indices[title]\n",
    "    sim_scores = list(enumerate(cosine_sim_auth[idx]))\n",
    "    sim_scores = sorted(sim_scores, key=lambda x: x[1], reverse=True)\n",
    "    sim_scores = sim_scores[1:n+1]\n",
    "    book_indices = [i[0] for i in sim_scores]\n",
    "    \n",
    "    return titles.iloc[book_indices]"
   ]
  },
  {
   "cell_type": "code",
   "execution_count": 23,
   "metadata": {},
   "outputs": [
    {
     "name": "stdout",
     "output_type": "stream",
     "text": [
      "15700    Howl's Moving Castle\n",
      "Name: title, dtype: object\n"
     ]
    }
   ],
   "source": [
    "# authors_recom('Howl's Moving Castle', 10)\n",
    "isbn1 = df_books.loc[df_books['isbn']=='006441034X']\n",
    "print(isbn1['title'])"
   ]
  },
  {
   "cell_type": "code",
   "execution_count": null,
   "metadata": {},
   "outputs": [],
   "source": []
  },
  {
   "cell_type": "markdown",
   "metadata": {},
   "source": [
    "calculate similarities between book tags"
   ]
  },
  {
   "cell_type": "code",
   "execution_count": 24,
   "metadata": {},
   "outputs": [],
   "source": [
    "tf_tag = TfidfVectorizer(analyzer='word',ngram_range=(1, 2),\n",
    "                         min_df=0, stop_words='english')\n",
    "\n",
    "tfidf_matrix_tag = tf_tag.fit_transform(booktags_df['tag_name'])\n",
    "\n",
    "cosine_sim_tag = linear_kernel(tfidf_matrix_tag, tfidf_matrix_tag)"
   ]
  },
  {
   "cell_type": "code",
   "execution_count": 25,
   "metadata": {},
   "outputs": [],
   "source": [
    "#cosine_sim_tag"
   ]
  },
  {
   "cell_type": "code",
   "execution_count": 26,
   "metadata": {},
   "outputs": [],
   "source": [
    "def tags_recom(title, n):\n",
    "    '''\n",
    "    get book recommendations based on books tags similarities\n",
    "    '''\n",
    "    \n",
    "    idx = indices[title]\n",
    "    sim_scores = list(enumerate(cosine_sim_tag[idx]))\n",
    "    sim_scores = sorted(sim_scores, key=lambda x: x[1], reverse=True)\n",
    "    book_indices = [i[0] for i in sim_scores]\n",
    "    \n",
    "    return booktags_df.loc[book_indices]['title'].drop_duplicates()[:n]"
   ]
  },
  {
   "cell_type": "code",
   "execution_count": 27,
   "metadata": {},
   "outputs": [
    {
     "data": {
      "text/plain": [
       "0                           Corelli's Mandolin : A Novel\n",
       "100                                  Atonement : A Novel\n",
       "200             Preludes and Nocturnes (Sandman, Book 1)\n",
       "300        The League of Extraordinary Gentlemen, Vol. 1\n",
       "400                                             Affinity\n",
       "500    Prozac Nation: Young and Depressed in America ...\n",
       "600                                             The Firm\n",
       "700                                 The Tortilla Curtain\n",
       "800                                         Four Blondes\n",
       "900                                     Chasing the Dime\n",
       "Name: title, dtype: object"
      ]
     },
     "execution_count": 27,
     "metadata": {},
     "output_type": "execute_result"
    }
   ],
   "source": [
    "tags_recom('Howl\\'s Moving Castle', 10)"
   ]
  },
  {
   "cell_type": "code",
   "execution_count": null,
   "metadata": {},
   "outputs": [],
   "source": []
  },
  {
   "cell_type": "markdown",
   "metadata": {},
   "source": [
    "try author and tags together similarity"
   ]
  },
  {
   "cell_type": "code",
   "execution_count": 33,
   "metadata": {},
   "outputs": [],
   "source": [
    "booktags_df['combined'] = pd.Series(booktags_df[['author','tag_name']]\n",
    "                                .fillna('').values.tolist()).str.join(' ')"
   ]
  },
  {
   "cell_type": "code",
   "execution_count": 34,
   "metadata": {},
   "outputs": [],
   "source": [
    "tf_combined = TfidfVectorizer(analyzer='word',ngram_range=(1, 2)\n",
    "                              ,min_df=0, stop_words='english')\n",
    "\n",
    "tfidf_matrix_combined = tf_combined.fit_transform(booktags_df['combined'])\n",
    "\n",
    "cosine_sim_combined = linear_kernel(tfidf_matrix_combined,\n",
    "                                    tfidf_matrix_combined)"
   ]
  },
  {
   "cell_type": "code",
   "execution_count": 35,
   "metadata": {},
   "outputs": [],
   "source": [
    "def combined_recom(title, n):\n",
    "    \n",
    "    idx = indices[title]\n",
    "    sim_scores = list(enumerate(cosine_sim_combined[idx]))\n",
    "    sim_scores = sorted(sim_scores, key=lambda x: x[1], reverse=True)\n",
    "    sim_scores = sim_scores[1:n+1]\n",
    "    book_indices = [i[0] for i in sim_scores]\n",
    "    \n",
    "    return titles.iloc[book_indices]"
   ]
  },
  {
   "cell_type": "code",
   "execution_count": 36,
   "metadata": {},
   "outputs": [
    {
     "data": {
      "text/plain": [
       "0                            Corelli's Mandolin : A Novel\n",
       "500     Prozac Nation: Young and Depressed in America ...\n",
       "2000                               Snow Falling on Cedars\n",
       "4000                                             The Reef\n",
       "4300             What Looks Like Crazy On An Ordinary Day\n",
       "5100                                          I Am Legend\n",
       "7000                                  TENDER IS THE NIGHT\n",
       "1000    Demian. Die Geschichte von Emil Sinclairs Jugend.\n",
       "2900    Chicken Soup for the Teenage Soul (Chicken Sou...\n",
       "9400            Endurance: Shackleton's Incredible Voyage\n",
       "Name: title, dtype: object"
      ]
     },
     "execution_count": 36,
     "metadata": {},
     "output_type": "execute_result"
    }
   ],
   "source": [
    "combined_recom('Howl\\'s Moving Castle', 10)"
   ]
  },
  {
   "cell_type": "code",
   "execution_count": null,
   "metadata": {},
   "outputs": [],
   "source": []
  },
  {
   "cell_type": "code",
   "execution_count": null,
   "metadata": {},
   "outputs": [],
   "source": []
  },
  {
   "cell_type": "code",
   "execution_count": null,
   "metadata": {},
   "outputs": [],
   "source": []
  },
  {
   "cell_type": "markdown",
   "metadata": {},
   "source": [
    "## check recommended results with dataset"
   ]
  },
  {
   "cell_type": "code",
   "execution_count": 37,
   "metadata": {},
   "outputs": [],
   "source": [
    "df_ratings = df_ratings.merge(df_books, on='isbn')[['uid', 'isbn', 'rating', 'title']]"
   ]
  },
  {
   "cell_type": "code",
   "execution_count": 38,
   "metadata": {},
   "outputs": [
    {
     "data": {
      "text/html": [
       "<div>\n",
       "<style scoped>\n",
       "    .dataframe tbody tr th:only-of-type {\n",
       "        vertical-align: middle;\n",
       "    }\n",
       "\n",
       "    .dataframe tbody tr th {\n",
       "        vertical-align: top;\n",
       "    }\n",
       "\n",
       "    .dataframe thead th {\n",
       "        text-align: right;\n",
       "    }\n",
       "</style>\n",
       "<table border=\"1\" class=\"dataframe\">\n",
       "  <thead>\n",
       "    <tr style=\"text-align: right;\">\n",
       "      <th></th>\n",
       "      <th>uid</th>\n",
       "      <th>isbn</th>\n",
       "      <th>rating</th>\n",
       "      <th>title</th>\n",
       "    </tr>\n",
       "  </thead>\n",
       "  <tbody>\n",
       "    <tr>\n",
       "      <th>9842</th>\n",
       "      <td>15670</td>\n",
       "      <td>006441034X</td>\n",
       "      <td>8</td>\n",
       "      <td>Howl's Moving Castle</td>\n",
       "    </tr>\n",
       "    <tr>\n",
       "      <th>9843</th>\n",
       "      <td>26621</td>\n",
       "      <td>006441034X</td>\n",
       "      <td>8</td>\n",
       "      <td>Howl's Moving Castle</td>\n",
       "    </tr>\n",
       "    <tr>\n",
       "      <th>9844</th>\n",
       "      <td>49889</td>\n",
       "      <td>006441034X</td>\n",
       "      <td>9</td>\n",
       "      <td>Howl's Moving Castle</td>\n",
       "    </tr>\n",
       "    <tr>\n",
       "      <th>9845</th>\n",
       "      <td>87938</td>\n",
       "      <td>006441034X</td>\n",
       "      <td>8</td>\n",
       "      <td>Howl's Moving Castle</td>\n",
       "    </tr>\n",
       "    <tr>\n",
       "      <th>9846</th>\n",
       "      <td>102642</td>\n",
       "      <td>006441034X</td>\n",
       "      <td>4</td>\n",
       "      <td>Howl's Moving Castle</td>\n",
       "    </tr>\n",
       "    <tr>\n",
       "      <th>9847</th>\n",
       "      <td>111174</td>\n",
       "      <td>006441034X</td>\n",
       "      <td>0</td>\n",
       "      <td>Howl's Moving Castle</td>\n",
       "    </tr>\n",
       "    <tr>\n",
       "      <th>9848</th>\n",
       "      <td>203910</td>\n",
       "      <td>006441034X</td>\n",
       "      <td>10</td>\n",
       "      <td>Howl's Moving Castle</td>\n",
       "    </tr>\n",
       "    <tr>\n",
       "      <th>9849</th>\n",
       "      <td>252953</td>\n",
       "      <td>006441034X</td>\n",
       "      <td>9</td>\n",
       "      <td>Howl's Moving Castle</td>\n",
       "    </tr>\n",
       "    <tr>\n",
       "      <th>9850</th>\n",
       "      <td>264312</td>\n",
       "      <td>006441034X</td>\n",
       "      <td>10</td>\n",
       "      <td>Howl's Moving Castle</td>\n",
       "    </tr>\n",
       "  </tbody>\n",
       "</table>\n",
       "</div>"
      ],
      "text/plain": [
       "         uid        isbn  rating                 title\n",
       "9842   15670  006441034X       8  Howl's Moving Castle\n",
       "9843   26621  006441034X       8  Howl's Moving Castle\n",
       "9844   49889  006441034X       9  Howl's Moving Castle\n",
       "9845   87938  006441034X       8  Howl's Moving Castle\n",
       "9846  102642  006441034X       4  Howl's Moving Castle\n",
       "9847  111174  006441034X       0  Howl's Moving Castle\n",
       "9848  203910  006441034X      10  Howl's Moving Castle\n",
       "9849  252953  006441034X       9  Howl's Moving Castle\n",
       "9850  264312  006441034X      10  Howl's Moving Castle"
      ]
     },
     "execution_count": 38,
     "metadata": {},
     "output_type": "execute_result"
    }
   ],
   "source": [
    "df_ratings[df_ratings['isbn']=='006441034X']"
   ]
  },
  {
   "cell_type": "code",
   "execution_count": 39,
   "metadata": {},
   "outputs": [
    {
     "data": {
      "text/html": [
       "<div>\n",
       "<style scoped>\n",
       "    .dataframe tbody tr th:only-of-type {\n",
       "        vertical-align: middle;\n",
       "    }\n",
       "\n",
       "    .dataframe tbody tr th {\n",
       "        vertical-align: top;\n",
       "    }\n",
       "\n",
       "    .dataframe thead th {\n",
       "        text-align: right;\n",
       "    }\n",
       "</style>\n",
       "<table border=\"1\" class=\"dataframe\">\n",
       "  <thead>\n",
       "    <tr style=\"text-align: right;\">\n",
       "      <th></th>\n",
       "      <th>uid</th>\n",
       "      <th>isbn</th>\n",
       "      <th>rating</th>\n",
       "      <th>title</th>\n",
       "    </tr>\n",
       "  </thead>\n",
       "  <tbody>\n",
       "    <tr>\n",
       "      <th>753</th>\n",
       "      <td>111174</td>\n",
       "      <td>014023313X</td>\n",
       "      <td>0</td>\n",
       "      <td>The Stone Diaries</td>\n",
       "    </tr>\n",
       "    <tr>\n",
       "      <th>2663</th>\n",
       "      <td>111174</td>\n",
       "      <td>067976402X</td>\n",
       "      <td>0</td>\n",
       "      <td>Snow Falling on Cedars</td>\n",
       "    </tr>\n",
       "    <tr>\n",
       "      <th>4876</th>\n",
       "      <td>111174</td>\n",
       "      <td>1576737330</td>\n",
       "      <td>0</td>\n",
       "      <td>The Prayer of Jabez: Breaking Through to the B...</td>\n",
       "    </tr>\n",
       "    <tr>\n",
       "      <th>6123</th>\n",
       "      <td>111174</td>\n",
       "      <td>038531258X</td>\n",
       "      <td>0</td>\n",
       "      <td>Cold Sassy Tree</td>\n",
       "    </tr>\n",
       "    <tr>\n",
       "      <th>6246</th>\n",
       "      <td>111174</td>\n",
       "      <td>037570504X</td>\n",
       "      <td>0</td>\n",
       "      <td>Breath, Eyes, Memory</td>\n",
       "    </tr>\n",
       "    <tr>\n",
       "      <th>7803</th>\n",
       "      <td>111174</td>\n",
       "      <td>031242227X</td>\n",
       "      <td>0</td>\n",
       "      <td>Running with Scissors: A Memoir</td>\n",
       "    </tr>\n",
       "    <tr>\n",
       "      <th>8666</th>\n",
       "      <td>111174</td>\n",
       "      <td>038070952X</td>\n",
       "      <td>0</td>\n",
       "      <td>Ramona and Her Mother (Ramona Quimby (Paperback))</td>\n",
       "    </tr>\n",
       "    <tr>\n",
       "      <th>9246</th>\n",
       "      <td>111174</td>\n",
       "      <td>038000321X</td>\n",
       "      <td>0</td>\n",
       "      <td>Alive : The Story of the Andes Survivors (Avon...</td>\n",
       "    </tr>\n",
       "    <tr>\n",
       "      <th>9677</th>\n",
       "      <td>111174</td>\n",
       "      <td>1878424114</td>\n",
       "      <td>0</td>\n",
       "      <td>The Seven Spiritual Laws of Success: A Practic...</td>\n",
       "    </tr>\n",
       "    <tr>\n",
       "      <th>9847</th>\n",
       "      <td>111174</td>\n",
       "      <td>006441034X</td>\n",
       "      <td>0</td>\n",
       "      <td>Howl's Moving Castle</td>\n",
       "    </tr>\n",
       "  </tbody>\n",
       "</table>\n",
       "</div>"
      ],
      "text/plain": [
       "         uid        isbn  rating  \\\n",
       "753   111174  014023313X       0   \n",
       "2663  111174  067976402X       0   \n",
       "4876  111174  1576737330       0   \n",
       "6123  111174  038531258X       0   \n",
       "6246  111174  037570504X       0   \n",
       "7803  111174  031242227X       0   \n",
       "8666  111174  038070952X       0   \n",
       "9246  111174  038000321X       0   \n",
       "9677  111174  1878424114       0   \n",
       "9847  111174  006441034X       0   \n",
       "\n",
       "                                                  title  \n",
       "753                                   The Stone Diaries  \n",
       "2663                             Snow Falling on Cedars  \n",
       "4876  The Prayer of Jabez: Breaking Through to the B...  \n",
       "6123                                    Cold Sassy Tree  \n",
       "6246                               Breath, Eyes, Memory  \n",
       "7803                    Running with Scissors: A Memoir  \n",
       "8666  Ramona and Her Mother (Ramona Quimby (Paperback))  \n",
       "9246  Alive : The Story of the Andes Survivors (Avon...  \n",
       "9677  The Seven Spiritual Laws of Success: A Practic...  \n",
       "9847                               Howl's Moving Castle  "
      ]
     },
     "execution_count": 39,
     "metadata": {},
     "output_type": "execute_result"
    }
   ],
   "source": [
    "df_ratings[df_ratings['uid']==111174]"
   ]
  },
  {
   "cell_type": "code",
   "execution_count": null,
   "metadata": {},
   "outputs": [],
   "source": [
    " "
   ]
  },
  {
   "cell_type": "code",
   "execution_count": 40,
   "metadata": {},
   "outputs": [],
   "source": [
    "bought = list(df_ratings[df_ratings['uid']==111174]['title'])"
   ]
  },
  {
   "cell_type": "code",
   "execution_count": 41,
   "metadata": {},
   "outputs": [],
   "source": [
    "combined = list(combined_recom('Howl\\'s Moving Castle', 10))"
   ]
  },
  {
   "cell_type": "code",
   "execution_count": 43,
   "metadata": {},
   "outputs": [],
   "source": [
    "tags = list(tags_recom('Howl\\'s Moving Castle', 10))"
   ]
  },
  {
   "cell_type": "code",
   "execution_count": 44,
   "metadata": {},
   "outputs": [
    {
     "data": {
      "text/plain": [
       "{'Snow Falling on Cedars'}"
      ]
     },
     "execution_count": 44,
     "metadata": {},
     "output_type": "execute_result"
    }
   ],
   "source": [
    "set(bought).intersection(set(combined))"
   ]
  },
  {
   "cell_type": "code",
   "execution_count": 46,
   "metadata": {},
   "outputs": [
    {
     "data": {
      "text/plain": [
       "{'Breath, Eyes, Memory'}"
      ]
     },
     "execution_count": 46,
     "metadata": {},
     "output_type": "execute_result"
    }
   ],
   "source": [
    "set(bought).intersection(set(tags))"
   ]
  },
  {
   "cell_type": "code",
   "execution_count": 47,
   "metadata": {},
   "outputs": [
    {
     "data": {
      "text/plain": [
       "{\"Corelli's Mandolin : A Novel\",\n",
       " 'Prozac Nation: Young and Depressed in America : A Memoir'}"
      ]
     },
     "execution_count": 47,
     "metadata": {},
     "output_type": "execute_result"
    }
   ],
   "source": [
    "set(combined).intersection(set(tags))"
   ]
  },
  {
   "cell_type": "code",
   "execution_count": null,
   "metadata": {},
   "outputs": [],
   "source": []
  },
  {
   "cell_type": "markdown",
   "metadata": {},
   "source": [
    "Becuase the dataset with book tags didn't have that much overlap with our dataset, calculating recommendation accuracy is difficult.\n",
    "\n",
    "However, from a quick glance checking with a user who bought a lot of books, we had a 1 out of 10 (`10%`) overlap for both using book tags similarity and using book tags and authors combined similarity.\n",
    "\n",
    "It is also interesting to note that combined similarity recommends quite different results than using tags alone. "
   ]
  },
  {
   "cell_type": "code",
   "execution_count": null,
   "metadata": {},
   "outputs": [],
   "source": []
  }
 ],
 "metadata": {
  "kernelspec": {
   "display_name": "Python 3.8.1 64-bit",
   "language": "python",
   "name": "python38164bit0209044da7c742dab8314e0953beb93b"
  },
  "language_info": {
   "codemirror_mode": {
    "name": "ipython",
    "version": 3
   },
   "file_extension": ".py",
   "mimetype": "text/x-python",
   "name": "python",
   "nbconvert_exporter": "python",
   "pygments_lexer": "ipython3",
   "version": "3.8.1"
  }
 },
 "nbformat": 4,
 "nbformat_minor": 4
}
