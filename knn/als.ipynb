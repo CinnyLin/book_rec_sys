{
 "cells": [
  {
   "cell_type": "code",
   "execution_count": null,
   "metadata": {},
   "outputs": [],
   "source": []
  },
  {
   "cell_type": "markdown",
   "metadata": {},
   "source": [
    "# Alternating Least Squares  Collaborative Filtering"
   ]
  },
  {
   "cell_type": "markdown",
   "metadata": {},
   "source": [
    "Collaborative filtering considers users’ opinion on different products and recommends the best products based on the products’ previous rankings and the opinion of other similar types of users. \n",
    "\n",
    "Here we focus on non-probablistic collaborative filtering algorithms, which can be divided to two categories: **memory-based** and **model-based**. \n",
    "\n",
    "Memory-based algorithm is essentially linear algebra calculation and can be implemented with **k-nearest neighbors**. Model-based algorithm involves matrix factorization, and will be detailed in the next notebook. \n",
    "\n",
    "**Item-based** collaborative filtering is the common practice in recommender systems. The intuition is to generate predictions based on similarities between items. \n",
    "\n",
    "Item-based collaborative filtering was developed by Amazon. It is faster when there are more users than items. It is also more stable because the average rating received by an item usually doesn’t change as quickly as the average rating given by a user to different items. \n",
    "\n",
    "The advantage of item-based collaborative filtering is that it does not require knowledge about the product. "
   ]
  },
  {
   "cell_type": "code",
   "execution_count": null,
   "metadata": {},
   "outputs": [],
   "source": []
  },
  {
   "cell_type": "markdown",
   "metadata": {},
   "source": [
    "### import requirements"
   ]
  },
  {
   "cell_type": "code",
   "execution_count": 26,
   "metadata": {},
   "outputs": [],
   "source": [
    "# import library\n",
    "import pandas as pd\n",
    "import numpy as np\n",
    "import scipy as sp\n",
    "\n",
    "import matplotlib.pyplot as plt\n",
    "import seaborn as sns\n",
    "\n",
    "from collections import defaultdict\n",
    "from collections import Counter"
   ]
  },
  {
   "cell_type": "markdown",
   "metadata": {},
   "source": [
    "Source: [surprise documentation](https://surprise.readthedocs.io/en/stable/getting_started.html)"
   ]
  },
  {
   "cell_type": "code",
   "execution_count": 52,
   "metadata": {},
   "outputs": [],
   "source": [
    "from surprise import Dataset\n",
    "from surprise import Reader\n",
    "from surprise import KNNWithMeans\n",
    "from surprise.model_selection import train_test_split\n",
    "from surprise.model_selection import KFold\n",
    "from surprise.model_selection import GridSearchCV"
   ]
  },
  {
   "cell_type": "code",
   "execution_count": null,
   "metadata": {},
   "outputs": [],
   "source": []
  },
  {
   "cell_type": "code",
   "execution_count": 3,
   "metadata": {},
   "outputs": [
    {
     "data": {
      "text/html": [
       "<div>\n",
       "<style scoped>\n",
       "    .dataframe tbody tr th:only-of-type {\n",
       "        vertical-align: middle;\n",
       "    }\n",
       "\n",
       "    .dataframe tbody tr th {\n",
       "        vertical-align: top;\n",
       "    }\n",
       "\n",
       "    .dataframe thead th {\n",
       "        text-align: right;\n",
       "    }\n",
       "</style>\n",
       "<table border=\"1\" class=\"dataframe\">\n",
       "  <thead>\n",
       "    <tr style=\"text-align: right;\">\n",
       "      <th></th>\n",
       "      <th>uid</th>\n",
       "      <th>bid</th>\n",
       "      <th>rating</th>\n",
       "    </tr>\n",
       "  </thead>\n",
       "  <tbody>\n",
       "    <tr>\n",
       "      <th>10</th>\n",
       "      <td>276746</td>\n",
       "      <td>0425115801</td>\n",
       "      <td>0</td>\n",
       "    </tr>\n",
       "    <tr>\n",
       "      <th>11</th>\n",
       "      <td>276746</td>\n",
       "      <td>0449006522</td>\n",
       "      <td>0</td>\n",
       "    </tr>\n",
       "    <tr>\n",
       "      <th>12</th>\n",
       "      <td>276746</td>\n",
       "      <td>0553561618</td>\n",
       "      <td>0</td>\n",
       "    </tr>\n",
       "  </tbody>\n",
       "</table>\n",
       "</div>"
      ],
      "text/plain": [
       "       uid         bid  rating\n",
       "10  276746  0425115801       0\n",
       "11  276746  0449006522       0\n",
       "12  276746  0553561618       0"
      ]
     },
     "execution_count": 3,
     "metadata": {},
     "output_type": "execute_result"
    }
   ],
   "source": [
    "# load data\n",
    "df = pd.read_csv('../ratings_item0.csv', index_col=0)\n",
    "df.head(3)"
   ]
  },
  {
   "cell_type": "code",
   "execution_count": 4,
   "metadata": {},
   "outputs": [
    {
     "data": {
      "text/plain": [
       "(456182, 3)"
      ]
     },
     "execution_count": 4,
     "metadata": {},
     "output_type": "execute_result"
    }
   ],
   "source": [
    "df.shape"
   ]
  },
  {
   "cell_type": "code",
   "execution_count": 5,
   "metadata": {},
   "outputs": [
    {
     "name": "stdout",
     "output_type": "stream",
     "text": [
      "There are 13808 users and 18318 books in this dataset.\n"
     ]
    }
   ],
   "source": [
    "num_users = len(set(df['uid']))\n",
    "num_books = len(set(df['bid']))\n",
    "print(f'There are {num_users} users and {num_books} books in this dataset.')"
   ]
  },
  {
   "cell_type": "code",
   "execution_count": null,
   "metadata": {},
   "outputs": [],
   "source": []
  },
  {
   "cell_type": "markdown",
   "metadata": {},
   "source": [
    "### data loading"
   ]
  },
  {
   "cell_type": "code",
   "execution_count": 6,
   "metadata": {},
   "outputs": [],
   "source": [
    "reader = Reader(rating_scale=(1,10))"
   ]
  },
  {
   "cell_type": "code",
   "execution_count": 7,
   "metadata": {},
   "outputs": [],
   "source": [
    "data = Dataset.load_from_df(df[['uid', 'bid', 'rating']], reader)"
   ]
  },
  {
   "cell_type": "code",
   "execution_count": null,
   "metadata": {},
   "outputs": [],
   "source": []
  },
  {
   "cell_type": "markdown",
   "metadata": {},
   "source": [
    "## Parameter Search\n",
    "`GridSearchCV(algo_class, param_grid, measures=[u'rmse', u'mae'], cv=None, refit=False, return_train_measures=False)`\n",
    "\n",
    "`RandomizedSearchCV`\n",
    "\n",
    "Parameters\n",
    "- `param_grid`\n",
    "\n",
    "        param_grid = {'bsl_options': {'method': ['als', 'sgd'],\n",
    "                              'reg': [1, 2]},\n",
    "              'k': [2, 3],\n",
    "              'sim_options': {'name': ['msd', 'cosine'],\n",
    "                              'min_support': [1, 5],\n",
    "                              'user_based': [False]}\n",
    "              }\n",
    "\n",
    "Attributes\n",
    "- `best_estimmator`\n",
    "- `best_score`\n",
    "- `best_params`\n",
    "- `cv_results`\n",
    "        results_df = pd.DataFrame.from_dict(gs.cv_results)\n",
    "- ..."
   ]
  },
  {
   "cell_type": "code",
   "execution_count": 8,
   "metadata": {},
   "outputs": [],
   "source": [
    "# param_grid = {\n",
    "#     'bsl_options': {'method': ['als', 'sgd'],\n",
    "#                     #'reg_i': [10],\n",
    "#                     #'reg_u': [15],\n",
    "#                     #'reg': [0.02],\n",
    "#                     #'learning_rate': [0.005],\n",
    "#                     'n_epochs': [10, 20]},\n",
    "#     'k': [3, 5, 10, 20],\n",
    "#     'sim_options': {'name': ['cosine', 'msd', 'pearson', 'pearson_baseline'],\n",
    "#                     'min_support': [1, 3],\n",
    "#                     'user_based': [True, False]}\n",
    "# }"
   ]
  },
  {
   "cell_type": "code",
   "execution_count": 9,
   "metadata": {},
   "outputs": [],
   "source": [
    "# gs = GridSearchCV(KNNWithMeans, \n",
    "#                   param_grid, \n",
    "#                   measures=['rmse', 'mae'], \n",
    "#                   cv=3)"
   ]
  },
  {
   "cell_type": "code",
   "execution_count": 10,
   "metadata": {},
   "outputs": [],
   "source": [
    "#gs.fit(data)"
   ]
  },
  {
   "cell_type": "code",
   "execution_count": 11,
   "metadata": {},
   "outputs": [],
   "source": [
    "# # best RMSE score\n",
    "# print(gs.best_score)"
   ]
  },
  {
   "cell_type": "code",
   "execution_count": 12,
   "metadata": {},
   "outputs": [
    {
     "name": "stdout",
     "output_type": "stream",
     "text": [
      "{'rmse': 1.6651286278605182, 'mae': 1.2377969578142525}\n"
     ]
    }
   ],
   "source": [
    "best_score = {'rmse': 1.6651286278605182, 'mae': 1.2377969578142525}\n",
    "print(best_score)"
   ]
  },
  {
   "cell_type": "code",
   "execution_count": 13,
   "metadata": {},
   "outputs": [],
   "source": [
    "# # combination of parameters that gave the best RMSE score\n",
    "# print(gs.best_params['rmse'])"
   ]
  },
  {
   "cell_type": "code",
   "execution_count": 14,
   "metadata": {},
   "outputs": [
    {
     "name": "stdout",
     "output_type": "stream",
     "text": [
      "{'bsl_options': {'method': 'als', 'n_epochs': 10}, 'k': 20, 'sim_options': {'name': 'cosine', 'min_support': 1, 'user_based': False}}\n"
     ]
    }
   ],
   "source": [
    "best_params = {'bsl_options': {'method': 'als', 'n_epochs': 10}, 'k': 20, 'sim_options': {'name': 'cosine', 'min_support': 1, 'user_based': False}}\n",
    "print(best_params)"
   ]
  },
  {
   "cell_type": "code",
   "execution_count": 15,
   "metadata": {},
   "outputs": [],
   "source": [
    "# results_df = pd.DataFrame.from_dict(gs.cv_results)\n",
    "# results_df.head()"
   ]
  },
  {
   "cell_type": "code",
   "execution_count": 16,
   "metadata": {},
   "outputs": [],
   "source": [
    "#results_df.to_csv('knn_results.csv')"
   ]
  },
  {
   "cell_type": "markdown",
   "metadata": {},
   "source": [
    "Save the hypertuning results so next time I don't have to run that again and can directly use the results. "
   ]
  },
  {
   "cell_type": "markdown",
   "metadata": {},
   "source": [
    "The lowest rmse is `1.6651286` when `{'bsl_options': {'method': 'als', 'n_epochs': 10}, 'k': 20, 'sim_options': {'name': 'cosine', 'min_support': 1, 'user_based': False}}` using `KNNWithMeans`."
   ]
  },
  {
   "cell_type": "code",
   "execution_count": null,
   "metadata": {},
   "outputs": [],
   "source": []
  },
  {
   "cell_type": "markdown",
   "metadata": {},
   "source": [
    "### evaluation"
   ]
  },
  {
   "cell_type": "code",
   "execution_count": 16,
   "metadata": {},
   "outputs": [],
   "source": [
    "results_df = pd.read_csv('knn_results.csv')"
   ]
  },
  {
   "cell_type": "code",
   "execution_count": 18,
   "metadata": {},
   "outputs": [],
   "source": [
    "results_df = results_df[\n",
    "    ['split0_test_rmse', 'rank_test_rmse', 'params', \n",
    "     'param_bsl_options', 'param_k', 'param_sim_options']]"
   ]
  },
  {
   "cell_type": "code",
   "execution_count": null,
   "metadata": {},
   "outputs": [],
   "source": [
    "# results_df = pd.concat([\n",
    "#     results_df.drop(['param_bsl_options'], axis=1), \n",
    "#     results_df['param_bsl_options'].apply(pd.Series)\n",
    "#     ], axis=1)"
   ]
  },
  {
   "cell_type": "code",
   "execution_count": null,
   "metadata": {},
   "outputs": [],
   "source": [
    "# results_df = pd.concat([\n",
    "#     results_df.drop(['param_sim_options'], axis=1), \n",
    "#     results_df['param_sim_options'].apply(pd.Series)\n",
    "#     ], axis=1)"
   ]
  },
  {
   "cell_type": "code",
   "execution_count": 13,
   "metadata": {},
   "outputs": [],
   "source": [
    "# results_df.to_csv('als_results_cleaned.csv')"
   ]
  },
  {
   "cell_type": "code",
   "execution_count": 14,
   "metadata": {},
   "outputs": [],
   "source": [
    "results_df = pd.read_csv('als_results_cleaned.csv', index_col=0)\n",
    "results_df.columns="
   ]
  },
  {
   "cell_type": "code",
   "execution_count": 15,
   "metadata": {},
   "outputs": [
    {
     "data": {
      "text/html": [
       "<div>\n",
       "<style scoped>\n",
       "    .dataframe tbody tr th:only-of-type {\n",
       "        vertical-align: middle;\n",
       "    }\n",
       "\n",
       "    .dataframe tbody tr th {\n",
       "        vertical-align: top;\n",
       "    }\n",
       "\n",
       "    .dataframe thead th {\n",
       "        text-align: right;\n",
       "    }\n",
       "</style>\n",
       "<table border=\"1\" class=\"dataframe\">\n",
       "  <thead>\n",
       "    <tr style=\"text-align: right;\">\n",
       "      <th></th>\n",
       "      <th>split0_test_rmse</th>\n",
       "      <th>rank_test_rmse</th>\n",
       "      <th>params</th>\n",
       "      <th>param_k</th>\n",
       "      <th>0</th>\n",
       "      <th>0.1</th>\n",
       "    </tr>\n",
       "  </thead>\n",
       "  <tbody>\n",
       "    <tr>\n",
       "      <th>177</th>\n",
       "      <td>1.663016</td>\n",
       "      <td>1</td>\n",
       "      <td>{'bsl_options': {'method': 'sgd', 'n_epochs': ...</td>\n",
       "      <td>20</td>\n",
       "      <td>{'method': 'sgd', 'n_epochs': 10}</td>\n",
       "      <td>{'name': 'cosine', 'min_support': 1, 'user_bas...</td>\n",
       "    </tr>\n",
       "    <tr>\n",
       "      <th>241</th>\n",
       "      <td>1.663016</td>\n",
       "      <td>2</td>\n",
       "      <td>{'bsl_options': {'method': 'sgd', 'n_epochs': ...</td>\n",
       "      <td>20</td>\n",
       "      <td>{'method': 'sgd', 'n_epochs': 20}</td>\n",
       "      <td>{'name': 'cosine', 'min_support': 1, 'user_bas...</td>\n",
       "    </tr>\n",
       "    <tr>\n",
       "      <th>49</th>\n",
       "      <td>1.663016</td>\n",
       "      <td>3</td>\n",
       "      <td>{'bsl_options': {'method': 'als', 'n_epochs': ...</td>\n",
       "      <td>20</td>\n",
       "      <td>{'method': 'als', 'n_epochs': 10}</td>\n",
       "      <td>{'name': 'cosine', 'min_support': 1, 'user_bas...</td>\n",
       "    </tr>\n",
       "    <tr>\n",
       "      <th>113</th>\n",
       "      <td>1.663016</td>\n",
       "      <td>4</td>\n",
       "      <td>{'bsl_options': {'method': 'als', 'n_epochs': ...</td>\n",
       "      <td>20</td>\n",
       "      <td>{'method': 'als', 'n_epochs': 20}</td>\n",
       "      <td>{'name': 'cosine', 'min_support': 1, 'user_bas...</td>\n",
       "    </tr>\n",
       "    <tr>\n",
       "      <th>161</th>\n",
       "      <td>1.668153</td>\n",
       "      <td>5</td>\n",
       "      <td>{'bsl_options': {'method': 'sgd', 'n_epochs': ...</td>\n",
       "      <td>10</td>\n",
       "      <td>{'method': 'sgd', 'n_epochs': 10}</td>\n",
       "      <td>{'name': 'cosine', 'min_support': 1, 'user_bas...</td>\n",
       "    </tr>\n",
       "  </tbody>\n",
       "</table>\n",
       "</div>"
      ],
      "text/plain": [
       "     split0_test_rmse  rank_test_rmse  \\\n",
       "177          1.663016               1   \n",
       "241          1.663016               2   \n",
       "49           1.663016               3   \n",
       "113          1.663016               4   \n",
       "161          1.668153               5   \n",
       "\n",
       "                                                params  param_k  \\\n",
       "177  {'bsl_options': {'method': 'sgd', 'n_epochs': ...       20   \n",
       "241  {'bsl_options': {'method': 'sgd', 'n_epochs': ...       20   \n",
       "49   {'bsl_options': {'method': 'als', 'n_epochs': ...       20   \n",
       "113  {'bsl_options': {'method': 'als', 'n_epochs': ...       20   \n",
       "161  {'bsl_options': {'method': 'sgd', 'n_epochs': ...       10   \n",
       "\n",
       "                                     0  \\\n",
       "177  {'method': 'sgd', 'n_epochs': 10}   \n",
       "241  {'method': 'sgd', 'n_epochs': 20}   \n",
       "49   {'method': 'als', 'n_epochs': 10}   \n",
       "113  {'method': 'als', 'n_epochs': 20}   \n",
       "161  {'method': 'sgd', 'n_epochs': 10}   \n",
       "\n",
       "                                                   0.1  \n",
       "177  {'name': 'cosine', 'min_support': 1, 'user_bas...  \n",
       "241  {'name': 'cosine', 'min_support': 1, 'user_bas...  \n",
       "49   {'name': 'cosine', 'min_support': 1, 'user_bas...  \n",
       "113  {'name': 'cosine', 'min_support': 1, 'user_bas...  \n",
       "161  {'name': 'cosine', 'min_support': 1, 'user_bas...  "
      ]
     },
     "execution_count": 15,
     "metadata": {},
     "output_type": "execute_result"
    }
   ],
   "source": [
    "results_df.sort_values(by='rank_test_rmse')[:5]"
   ]
  },
  {
   "cell_type": "code",
   "execution_count": 3,
   "metadata": {},
   "outputs": [
    {
     "data": {
      "image/png": "[encoded data removed]",
      "text/plain": [
       "<Figure size 432x288 with 1 Axes>"
      ]
     },
     "metadata": {
      "needs_background": "light"
     },
     "output_type": "display_data"
    }
   ],
   "source": [
    "sns.barplot(x=results_df['user_based'], y=results_df['split0_test_rmse'], palette='Blues')\n",
    "plt.yscale('log')"
   ]
  },
  {
   "cell_type": "code",
   "execution_count": 5,
   "metadata": {},
   "outputs": [
    {
     "data": {
      "image/png": "[encoded data removed]",
      "text/plain": [
       "<Figure size 432x288 with 1 Axes>"
      ]
     },
     "metadata": {
      "needs_background": "light"
     },
     "output_type": "display_data"
    }
   ],
   "source": [
    "sns.barplot(x=results_df['min_support'], y=results_df['split0_test_rmse'], palette='Blues')\n",
    "plt.yscale('log')"
   ]
  },
  {
   "cell_type": "code",
   "execution_count": 6,
   "metadata": {},
   "outputs": [
    {
     "data": {
      "image/png": "[encoded data removed]",
      "text/plain": [
       "<Figure size 432x288 with 1 Axes>"
      ]
     },
     "metadata": {
      "needs_background": "light"
     },
     "output_type": "display_data"
    }
   ],
   "source": [
    "sns.barplot(x=results_df['name'], y=results_df['split0_test_rmse'], palette='Blues')\n",
    "plt.yscale('log')"
   ]
  },
  {
   "cell_type": "code",
   "execution_count": null,
   "metadata": {},
   "outputs": [],
   "source": [
    "sns.barplot(x=results_df['n_epochs'], y=results_df['split0_test_rmse'], palette='Blues')\n",
    "plt.yscale('log')"
   ]
  },
  {
   "cell_type": "code",
   "execution_count": 28,
   "metadata": {},
   "outputs": [
    {
     "data": {
      "text/plain": [
       "<matplotlib.axes._subplots.AxesSubplot at 0x131845160>"
      ]
     },
     "execution_count": 28,
     "metadata": {},
     "output_type": "execute_result"
    },
    {
     "data": {
      "image/png": "[encoded data removed]",
      "text/plain": [
       "<Figure size 432x288 with 1 Axes>"
      ]
     },
     "metadata": {
      "needs_background": "light"
     },
     "output_type": "display_data"
    }
   ],
   "source": [
    "sns.barplot(x=results_df['method'], y=results_df['split0_test_rmse'], palette='Blues_r')"
   ]
  },
  {
   "cell_type": "code",
   "execution_count": 29,
   "metadata": {},
   "outputs": [
    {
     "data": {
      "text/plain": [
       "<matplotlib.axes._subplots.AxesSubplot at 0x1326fe520>"
      ]
     },
     "execution_count": 29,
     "metadata": {},
     "output_type": "execute_result"
    },
    {
     "data": {
      "image/png": "[encoded data removed]",
      "text/plain": [
       "<Figure size 432x288 with 1 Axes>"
      ]
     },
     "metadata": {
      "needs_background": "light"
     },
     "output_type": "display_data"
    }
   ],
   "source": [
    "sns.barplot(x=results_df['param_k'], y=results_df['split0_test_rmse'], palette='Blues_r')"
   ]
  },
  {
   "cell_type": "code",
   "execution_count": 30,
   "metadata": {},
   "outputs": [
    {
     "data": {
      "text/html": [
       "<div>\n",
       "<style scoped>\n",
       "    .dataframe tbody tr th:only-of-type {\n",
       "        vertical-align: middle;\n",
       "    }\n",
       "\n",
       "    .dataframe tbody tr th {\n",
       "        vertical-align: top;\n",
       "    }\n",
       "\n",
       "    .dataframe thead th {\n",
       "        text-align: right;\n",
       "    }\n",
       "</style>\n",
       "<table border=\"1\" class=\"dataframe\">\n",
       "  <thead>\n",
       "    <tr style=\"text-align: right;\">\n",
       "      <th></th>\n",
       "      <th>split0_test_rmse</th>\n",
       "      <th>rank_test_rmse</th>\n",
       "      <th>params</th>\n",
       "      <th>param_k</th>\n",
       "      <th>method</th>\n",
       "      <th>n_epochs</th>\n",
       "      <th>name</th>\n",
       "      <th>min_support</th>\n",
       "      <th>user_based</th>\n",
       "    </tr>\n",
       "  </thead>\n",
       "  <tbody>\n",
       "    <tr>\n",
       "      <th>177</th>\n",
       "      <td>1.663016</td>\n",
       "      <td>1</td>\n",
       "      <td>{'bsl_options': {'method': 'sgd', 'n_epochs': ...</td>\n",
       "      <td>20</td>\n",
       "      <td>sgd</td>\n",
       "      <td>10</td>\n",
       "      <td>cosine</td>\n",
       "      <td>1</td>\n",
       "      <td>False</td>\n",
       "    </tr>\n",
       "    <tr>\n",
       "      <th>241</th>\n",
       "      <td>1.663016</td>\n",
       "      <td>2</td>\n",
       "      <td>{'bsl_options': {'method': 'sgd', 'n_epochs': ...</td>\n",
       "      <td>20</td>\n",
       "      <td>sgd</td>\n",
       "      <td>20</td>\n",
       "      <td>cosine</td>\n",
       "      <td>1</td>\n",
       "      <td>False</td>\n",
       "    </tr>\n",
       "    <tr>\n",
       "      <th>49</th>\n",
       "      <td>1.663016</td>\n",
       "      <td>3</td>\n",
       "      <td>{'bsl_options': {'method': 'als', 'n_epochs': ...</td>\n",
       "      <td>20</td>\n",
       "      <td>als</td>\n",
       "      <td>10</td>\n",
       "      <td>cosine</td>\n",
       "      <td>1</td>\n",
       "      <td>False</td>\n",
       "    </tr>\n",
       "  </tbody>\n",
       "</table>\n",
       "</div>"
      ],
      "text/plain": [
       "     split0_test_rmse  rank_test_rmse  \\\n",
       "177          1.663016               1   \n",
       "241          1.663016               2   \n",
       "49           1.663016               3   \n",
       "\n",
       "                                                params  param_k method  \\\n",
       "177  {'bsl_options': {'method': 'sgd', 'n_epochs': ...       20    sgd   \n",
       "241  {'bsl_options': {'method': 'sgd', 'n_epochs': ...       20    sgd   \n",
       "49   {'bsl_options': {'method': 'als', 'n_epochs': ...       20    als   \n",
       "\n",
       "     n_epochs    name  min_support  user_based  \n",
       "177        10  cosine            1       False  \n",
       "241        20  cosine            1       False  \n",
       "49         10  cosine            1       False  "
      ]
     },
     "execution_count": 30,
     "metadata": {},
     "output_type": "execute_result"
    }
   ],
   "source": [
    "results_df.sort_values(by='rank_test_rmse')[:3]"
   ]
  },
  {
   "cell_type": "code",
   "execution_count": null,
   "metadata": {},
   "outputs": [],
   "source": []
  },
  {
   "cell_type": "markdown",
   "metadata": {},
   "source": [
    "## get top-N recommendations for each user\n",
    "Source: [documentation](https://surprise.readthedocs.io/en/stable/FAQ.html)"
   ]
  },
  {
   "cell_type": "markdown",
   "metadata": {},
   "source": [
    "We first train an SVD algorithm on the whole dataset, and then predict all the ratings for the pairs (user, item) that are not in the training set. We then retrieve the top-10 prediction for each user."
   ]
  },
  {
   "cell_type": "code",
   "execution_count": 31,
   "metadata": {},
   "outputs": [],
   "source": [
    "def get_top_n(predictions, n=10):\n",
    "    # map the predictions to each user.\n",
    "    top_n = defaultdict(list)\n",
    "    for uid, iid, true_r, est, _ in predictions:\n",
    "        top_n[uid].append((iid, est))\n",
    "\n",
    "    # sort the predictions for each user and retrieve the k highest ones.\n",
    "    for uid, user_ratings in top_n.items():\n",
    "        user_ratings.sort(key=lambda x: x[1], reverse=True)\n",
    "        top_n[uid] = user_ratings[:n]\n",
    "\n",
    "    return top_n"
   ]
  },
  {
   "cell_type": "code",
   "execution_count": null,
   "metadata": {},
   "outputs": [],
   "source": []
  },
  {
   "cell_type": "code",
   "execution_count": 32,
   "metadata": {},
   "outputs": [],
   "source": [
    "trainset, testset = train_test_split(data, test_size=.25)"
   ]
  },
  {
   "cell_type": "code",
   "execution_count": 33,
   "metadata": {},
   "outputs": [],
   "source": [
    "algo = KNNWithMeans(k=20, \n",
    "                    bsl_options={'method':'als', 'n_epochs':10}, \n",
    "                    sim_options={'name':'cosine', 'min_support':1, \n",
    "                                 'user_based':False})"
   ]
  },
  {
   "cell_type": "code",
   "execution_count": 34,
   "metadata": {},
   "outputs": [
    {
     "name": "stdout",
     "output_type": "stream",
     "text": [
      "Computing the cosine similarity matrix...\n"
     ]
    },
    {
     "name": "stderr",
     "output_type": "stream",
     "text": [
      "/Library/Frameworks/Python.framework/Versions/3.8/lib/python3.8/site-packages/surprise/prediction_algorithms/algo_base.py:249: RuntimeWarning: invalid value encountered in double_scalars\n",
      "  sim = construction_func[name](*args)\n"
     ]
    },
    {
     "name": "stdout",
     "output_type": "stream",
     "text": [
      "Done computing similarity matrix.\n"
     ]
    }
   ],
   "source": [
    "predictions = algo.fit(trainset).test(testset)"
   ]
  },
  {
   "cell_type": "code",
   "execution_count": null,
   "metadata": {},
   "outputs": [],
   "source": []
  },
  {
   "cell_type": "code",
   "execution_count": 35,
   "metadata": {},
   "outputs": [],
   "source": [
    "#top_10 = get_top_n(predictions, n=10)"
   ]
  },
  {
   "cell_type": "code",
   "execution_count": 36,
   "metadata": {},
   "outputs": [],
   "source": [
    "# # Print the recommended items for each user\n",
    "# for uid, user_ratings in top_10.items():\n",
    "#     pass\n",
    "#     #print(uid, [bid for (bid, _) in user_ratings])"
   ]
  },
  {
   "cell_type": "code",
   "execution_count": 37,
   "metadata": {},
   "outputs": [
    {
     "data": {
      "text/html": [
       "<div>\n",
       "<style scoped>\n",
       "    .dataframe tbody tr th:only-of-type {\n",
       "        vertical-align: middle;\n",
       "    }\n",
       "\n",
       "    .dataframe tbody tr th {\n",
       "        vertical-align: top;\n",
       "    }\n",
       "\n",
       "    .dataframe thead th {\n",
       "        text-align: right;\n",
       "    }\n",
       "</style>\n",
       "<table border=\"1\" class=\"dataframe\">\n",
       "  <thead>\n",
       "    <tr style=\"text-align: right;\">\n",
       "      <th></th>\n",
       "      <th>uid</th>\n",
       "      <th>bid</th>\n",
       "      <th>rating</th>\n",
       "    </tr>\n",
       "  </thead>\n",
       "  <tbody>\n",
       "    <tr>\n",
       "      <th>0</th>\n",
       "      <td>131027</td>\n",
       "      <td>044661095X</td>\n",
       "      <td>0.0</td>\n",
       "    </tr>\n",
       "    <tr>\n",
       "      <th>1</th>\n",
       "      <td>11676</td>\n",
       "      <td>0679753338</td>\n",
       "      <td>0.0</td>\n",
       "    </tr>\n",
       "    <tr>\n",
       "      <th>2</th>\n",
       "      <td>128835</td>\n",
       "      <td>0345370775</td>\n",
       "      <td>8.0</td>\n",
       "    </tr>\n",
       "  </tbody>\n",
       "</table>\n",
       "</div>"
      ],
      "text/plain": [
       "      uid         bid  rating\n",
       "0  131027  044661095X     0.0\n",
       "1   11676  0679753338     0.0\n",
       "2  128835  0345370775     8.0"
      ]
     },
     "execution_count": 37,
     "metadata": {},
     "output_type": "execute_result"
    }
   ],
   "source": [
    "test_df = pd.DataFrame(testset, columns=['uid', 'bid', 'rating'])\n",
    "test_df.head(3)"
   ]
  },
  {
   "cell_type": "code",
   "execution_count": 38,
   "metadata": {},
   "outputs": [
    {
     "data": {
      "text/plain": [
       "111649    0805059555\n",
       "104405    0553284789\n",
       "39013     0743225325\n",
       "67349     0553280341\n",
       "86128     0064401103\n",
       "89804     0590353403\n",
       "21784     0312195516\n",
       "8260      0805036504\n",
       "93291     0679426159\n",
       "15939     059035342X\n",
       "Name: bid, dtype: object"
      ]
     },
     "execution_count": 38,
     "metadata": {},
     "output_type": "execute_result"
    }
   ],
   "source": [
    "test_df[(test_df['uid']==30735)].sort_values(by='rating', ascending=False)[:10]['bid']"
   ]
  },
  {
   "cell_type": "code",
   "execution_count": 39,
   "metadata": {},
   "outputs": [],
   "source": [
    "top_10 = get_top_n(predictions, n=10)"
   ]
  },
  {
   "cell_type": "code",
   "execution_count": 40,
   "metadata": {},
   "outputs": [
    {
     "data": {
      "text/plain": [
       "[('0590353403', 10),\n",
       " ('0971263906', 9.677777777777777),\n",
       " ('0425173097', 8.86552512540561),\n",
       " ('044651747X', 8.854945054945055),\n",
       " ('0064401103', 8.568078959460262),\n",
       " ('0805059555', 8.541186179665477),\n",
       " ('0061056014', 8.384615384615385),\n",
       " ('0064408582', 8.184615384615386),\n",
       " ('0425178005', 8.058049970126204),\n",
       " ('0446604100', 7.244131455399061)]"
      ]
     },
     "execution_count": 40,
     "metadata": {},
     "output_type": "execute_result"
    }
   ],
   "source": [
    "top_10[30735]"
   ]
  },
  {
   "cell_type": "code",
   "execution_count": 41,
   "metadata": {},
   "outputs": [
    {
     "data": {
      "text/plain": [
       "{'0064401103', '0590353403', '0805059555'}"
      ]
     },
     "execution_count": 41,
     "metadata": {},
     "output_type": "execute_result"
    }
   ],
   "source": [
    "bought = set(test_df[test_df['uid']==30735].sort_values(by='rating', ascending=False)[:10]['bid'])\n",
    "predicted = set([bid for bid, rating in top_10[30735]])\n",
    "bought.intersection(predicted)"
   ]
  },
  {
   "cell_type": "code",
   "execution_count": 42,
   "metadata": {},
   "outputs": [
    {
     "data": {
      "text/plain": [
       "0.3"
      ]
     },
     "execution_count": 42,
     "metadata": {},
     "output_type": "execute_result"
    }
   ],
   "source": [
    "# whether our top n recommended books is user's top n rating\n",
    "len(bought.intersection(predicted)) / len(predicted)"
   ]
  },
  {
   "cell_type": "code",
   "execution_count": null,
   "metadata": {},
   "outputs": [],
   "source": []
  },
  {
   "cell_type": "code",
   "execution_count": 43,
   "metadata": {},
   "outputs": [
    {
     "name": "stdout",
     "output_type": "stream",
     "text": [
      "0.9184002529244383\n"
     ]
    }
   ],
   "source": [
    "n = 10\n",
    "top_n = get_top_n(predictions, n=n)\n",
    "accuracy = []\n",
    "\n",
    "# Print the recommended items for each user\n",
    "for uid, user_ratings in top_n.items():\n",
    "    bought = set(test_df[test_df['uid']==uid].sort_values(\n",
    "        by='rating', ascending=False)[:n]['bid'])\n",
    "    predicted = set([bid for bid, rating in user_ratings])\n",
    "    rate = len(bought.intersection(predicted)) / len(predicted)\n",
    "    accuracy.append(rate)\n",
    "print(sum(accuracy)/len(accuracy))"
   ]
  },
  {
   "cell_type": "code",
   "execution_count": 44,
   "metadata": {},
   "outputs": [
    {
     "data": {
      "image/png": "[encoded data removed]",
      "text/plain": [
       "<Figure size 432x288 with 1 Axes>"
      ]
     },
     "metadata": {
      "needs_background": "light"
     },
     "output_type": "display_data"
    }
   ],
   "source": [
    "plt.hist(accuracy)\n",
    "plt.show()"
   ]
  },
  {
   "cell_type": "code",
   "execution_count": null,
   "metadata": {},
   "outputs": [],
   "source": []
  },
  {
   "cell_type": "code",
   "execution_count": 45,
   "metadata": {},
   "outputs": [],
   "source": [
    "n = np.arange(1,21,1)\n",
    "avg_accuracy = []\n",
    "\n",
    "for i in n:\n",
    "    top_n = get_top_n(predictions, n=i)\n",
    "    accuracy = []\n",
    "    \n",
    "    for uid, user_ratings in top_n.items():\n",
    "        bought = set(test_df[test_df['uid']==uid].sort_values(\n",
    "            by='rating', ascending=False)[:i]['bid'])\n",
    "        predicted = set([bid for bid, rating in user_ratings])\n",
    "        rate = len(bought.intersection(predicted)) / len(predicted)\n",
    "        accuracy.append(rate)\n",
    "    \n",
    "    avg_accuracy.append(sum(accuracy)/len(accuracy))"
   ]
  },
  {
   "cell_type": "code",
   "execution_count": 46,
   "metadata": {},
   "outputs": [
    {
     "data": {
      "image/png": "[encoded data removed]",
      "text/plain": [
       "<Figure size 432x288 with 1 Axes>"
      ]
     },
     "metadata": {
      "needs_background": "light"
     },
     "output_type": "display_data"
    }
   ],
   "source": [
    "plt.plot(avg_accuracy)\n",
    "plt.xticks(np.arange(0,20,1),n)\n",
    "plt.show()"
   ]
  },
  {
   "cell_type": "markdown",
   "metadata": {},
   "source": [
    "Obviously, our top predictions are more accurate when we recommend more items."
   ]
  },
  {
   "cell_type": "code",
   "execution_count": null,
   "metadata": {},
   "outputs": [],
   "source": []
  },
  {
   "cell_type": "markdown",
   "metadata": {},
   "source": [
    "### precision-recall rate"
   ]
  },
  {
   "cell_type": "markdown",
   "metadata": {},
   "source": [
    "$$accuracy = \\frac{(TP+TN)}{(TP+TN+FP+FN)}$$\n",
    "\n",
    "$$precision = \\frac{TP}{(TP+FP)}$$\n",
    "\n",
    "$$recall = \\frac{TP}{(TP+FN)}$$"
   ]
  },
  {
   "cell_type": "code",
   "execution_count": 51,
   "metadata": {},
   "outputs": [],
   "source": [
    "def precision_recall_at_k(predictions, k=10, threshold=3.5):\n",
    "    \n",
    "    # map the predictions to each user.\n",
    "    user_est_true = defaultdict(list)\n",
    "    for uid, _, true_r, est, _ in predictions:\n",
    "        user_est_true[uid].append((est, true_r))\n",
    "\n",
    "    precisions = dict()\n",
    "    recalls = dict()\n",
    "    for uid, user_ratings in user_est_true.items():\n",
    "\n",
    "        # sort user ratings by estimated value\n",
    "        user_ratings.sort(key=lambda x: x[0], reverse=True)\n",
    "\n",
    "        # number of relevant items\n",
    "        n_rel = sum((true_r >= threshold) for (_, true_r) in user_ratings)\n",
    "\n",
    "        # number of recommended items in top k\n",
    "        n_rec_k = sum((est >= threshold) for (est, _) in user_ratings[:k])\n",
    "\n",
    "        # number of relevant and recommended items in top k\n",
    "        n_rel_and_rec_k = sum(((true_r >= threshold) and (est >= threshold))\n",
    "                              for (est, true_r) in user_ratings[:k])\n",
    "\n",
    "        # precision@K: proportion of recommended items that are relevant\n",
    "        # When n_rec_k is 0, Precision is undefined. We here set it to 0.\n",
    "\n",
    "        precisions[uid] = n_rel_and_rec_k / n_rec_k if n_rec_k != 0 else 0\n",
    "\n",
    "        # recall@K: proportion of relevant items that are recommended\n",
    "        # When n_rel is 0, Recall is undefined. We here set it to 0.\n",
    "\n",
    "        recalls[uid] = n_rel_and_rec_k / n_rel if n_rel != 0 else 0\n",
    "\n",
    "    return precisions, recalls"
   ]
  },
  {
   "cell_type": "code",
   "execution_count": null,
   "metadata": {},
   "outputs": [],
   "source": []
  },
  {
   "cell_type": "code",
   "execution_count": 53,
   "metadata": {},
   "outputs": [],
   "source": [
    "kf = KFold(n_splits=5)"
   ]
  },
  {
   "cell_type": "code",
   "execution_count": 54,
   "metadata": {},
   "outputs": [
    {
     "name": "stdout",
     "output_type": "stream",
     "text": [
      "Computing the cosine similarity matrix...\n"
     ]
    },
    {
     "name": "stderr",
     "output_type": "stream",
     "text": [
      "/Library/Frameworks/Python.framework/Versions/3.8/lib/python3.8/site-packages/surprise/prediction_algorithms/algo_base.py:249: RuntimeWarning: invalid value encountered in double_scalars\n",
      "  sim = construction_func[name](*args)\n"
     ]
    },
    {
     "name": "stdout",
     "output_type": "stream",
     "text": [
      "Done computing similarity matrix.\n",
      "0.3413810791327009\n",
      "0.2900936388344395\n",
      "Computing the cosine similarity matrix...\n",
      "Done computing similarity matrix.\n",
      "0.34099529346622376\n",
      "0.28938230692438927\n",
      "Computing the cosine similarity matrix...\n",
      "Done computing similarity matrix.\n",
      "0.3402371805578752\n",
      "0.2902925004714414\n",
      "Computing the cosine similarity matrix...\n",
      "Done computing similarity matrix.\n",
      "0.34427662517289054\n",
      "0.2947645144507903\n",
      "Computing the cosine similarity matrix...\n",
      "Done computing similarity matrix.\n",
      "0.3416140904311249\n",
      "0.2926908581944796\n"
     ]
    }
   ],
   "source": [
    "for trainset, testset in kf.split(data):\n",
    "    algo.fit(trainset)\n",
    "    predictions = algo.test(testset)\n",
    "    precisions, recalls = precision_recall_at_k(predictions, k=5, threshold=4)\n",
    "\n",
    "    # Precision and recall can then be averaged over all users\n",
    "    print(sum(prec for prec in precisions.values()) / len(precisions))\n",
    "    print(sum(rec for rec in recalls.values()) / len(recalls))"
   ]
  },
  {
   "cell_type": "markdown",
   "metadata": {},
   "source": [
    "We have an average `0.34` precision rate and `0.29` recall rate. "
   ]
  },
  {
   "cell_type": "code",
   "execution_count": null,
   "metadata": {},
   "outputs": [],
   "source": []
  },
  {
   "cell_type": "markdown",
   "metadata": {},
   "source": [
    "## Issues in collaborative filtering\n",
    "\n",
    "* Sparseness in user-item matrix (sparsity=$1-|R|/|I|*|U|$)\n",
    "* Cold start for users and items\n",
    "\n",
    "Next, we would try to resolve these issues using matrix factorization."
   ]
  },
  {
   "cell_type": "code",
   "execution_count": null,
   "metadata": {},
   "outputs": [],
   "source": []
  }
 ],
 "metadata": {
  "kernelspec": {
   "display_name": "Python 3.8.1 64-bit",
   "language": "python",
   "name": "python38164bit0209044da7c742dab8314e0953beb93b"
  },
  "language_info": {
   "codemirror_mode": {
    "name": "ipython",
    "version": 3
   },
   "file_extension": ".py",
   "mimetype": "text/x-python",
   "name": "python",
   "nbconvert_exporter": "python",
   "pygments_lexer": "ipython3",
   "version": "3.8.1"
  }
 },
 "nbformat": 4,
 "nbformat_minor": 4
}
