{
 "cells": [
  {
   "cell_type": "code",
   "execution_count": null,
   "metadata": {},
   "outputs": [],
   "source": []
  },
  {
   "cell_type": "code",
   "execution_count": 28,
   "metadata": {},
   "outputs": [],
   "source": [
    "import pandas as pd\n",
    "import numpy as np\n",
    "import matplotlib.pyplot as plt\n",
    "from collections import Counter\n",
    "from collections import defaultdict\n",
    "\n",
    "from surprise import Dataset\n",
    "from surprise import Reader\n",
    "from surprise import SVD\n",
    "from surprise import KNNWithMeans\n",
    "from surprise import accuracy\n",
    "from surprise.model_selection import KFold\n",
    "from surprise.model_selection import train_test_split"
   ]
  },
  {
   "cell_type": "code",
   "execution_count": null,
   "metadata": {},
   "outputs": [],
   "source": []
  },
  {
   "cell_type": "code",
   "execution_count": 3,
   "metadata": {},
   "outputs": [
    {
     "data": {
      "text/html": [
       "<div>\n",
       "<style scoped>\n",
       "    .dataframe tbody tr th:only-of-type {\n",
       "        vertical-align: middle;\n",
       "    }\n",
       "\n",
       "    .dataframe tbody tr th {\n",
       "        vertical-align: top;\n",
       "    }\n",
       "\n",
       "    .dataframe thead th {\n",
       "        text-align: right;\n",
       "    }\n",
       "</style>\n",
       "<table border=\"1\" class=\"dataframe\">\n",
       "  <thead>\n",
       "    <tr style=\"text-align: right;\">\n",
       "      <th></th>\n",
       "      <th>customer_unique_id</th>\n",
       "      <th>product_id</th>\n",
       "      <th>review_score</th>\n",
       "    </tr>\n",
       "  </thead>\n",
       "  <tbody>\n",
       "    <tr>\n",
       "      <th>0</th>\n",
       "      <td>861eff4711a542e4b93843c6dd7febb0</td>\n",
       "      <td>a9516a079e37a9c9c36b9b78b10169e8</td>\n",
       "      <td>4</td>\n",
       "    </tr>\n",
       "    <tr>\n",
       "      <th>9</th>\n",
       "      <td>9afe194fb833f79e300e37e580171f22</td>\n",
       "      <td>78efe838c04bbc568be034082200ac20</td>\n",
       "      <td>5</td>\n",
       "    </tr>\n",
       "    <tr>\n",
       "      <th>18</th>\n",
       "      <td>7f3a72e8f988c6e735ba118d54f47458</td>\n",
       "      <td>99a4788cb24856965c36a24e339b6058</td>\n",
       "      <td>3</td>\n",
       "    </tr>\n",
       "  </tbody>\n",
       "</table>\n",
       "</div>"
      ],
      "text/plain": [
       "                  customer_unique_id                        product_id  \\\n",
       "0   861eff4711a542e4b93843c6dd7febb0  a9516a079e37a9c9c36b9b78b10169e8   \n",
       "9   9afe194fb833f79e300e37e580171f22  78efe838c04bbc568be034082200ac20   \n",
       "18  7f3a72e8f988c6e735ba118d54f47458  99a4788cb24856965c36a24e339b6058   \n",
       "\n",
       "    review_score  \n",
       "0              4  \n",
       "9              5  \n",
       "18             3  "
      ]
     },
     "execution_count": 3,
     "metadata": {},
     "output_type": "execute_result"
    }
   ],
   "source": [
    "df = pd.read_csv('recommender.csv', index_col=0)\n",
    "df.head(3)"
   ]
  },
  {
   "cell_type": "code",
   "execution_count": 5,
   "metadata": {},
   "outputs": [
    {
     "data": {
      "image/png": "[encoded data removed]",
      "text/plain": [
       "<Figure size 432x288 with 1 Axes>"
      ]
     },
     "metadata": {
      "needs_background": "light"
     },
     "output_type": "display_data"
    }
   ],
   "source": [
    "plt.hist(df['review_score'])\n",
    "plt.xticks(np.arange(1,6))\n",
    "plt.show()"
   ]
  },
  {
   "cell_type": "code",
   "execution_count": null,
   "metadata": {},
   "outputs": [],
   "source": []
  },
  {
   "cell_type": "code",
   "execution_count": 6,
   "metadata": {},
   "outputs": [],
   "source": [
    "# reading the dataset\n",
    "reader = Reader(rating_scale=(1, 5))\n",
    "data = Dataset.load_from_df(df, reader)"
   ]
  },
  {
   "cell_type": "code",
   "execution_count": 7,
   "metadata": {},
   "outputs": [],
   "source": [
    "# splitting the dataset\n",
    "trainset, testset = train_test_split(data, test_size=0.3, random_state=10)"
   ]
  },
  {
   "cell_type": "code",
   "execution_count": null,
   "metadata": {},
   "outputs": [],
   "source": []
  },
  {
   "cell_type": "markdown",
   "metadata": {},
   "source": [
    "### item-based"
   ]
  },
  {
   "cell_type": "code",
   "execution_count": 8,
   "metadata": {},
   "outputs": [
    {
     "name": "stdout",
     "output_type": "stream",
     "text": [
      "Estimating biases using als...\n",
      "Computing the pearson_baseline similarity matrix...\n",
      "Done computing similarity matrix.\n"
     ]
    },
    {
     "data": {
      "text/plain": [
       "<surprise.prediction_algorithms.knns.KNNWithMeans at 0x10857bc70>"
      ]
     },
     "execution_count": 8,
     "metadata": {},
     "output_type": "execute_result"
    }
   ],
   "source": [
    "# use user_based true/false to switch between user-based or item-based collaborative filtering\n",
    "algo = KNNWithMeans(k=5, sim_options={'name': 'pearson_baseline', 'user_based': False})\n",
    "algo.fit(trainset)"
   ]
  },
  {
   "cell_type": "code",
   "execution_count": 9,
   "metadata": {},
   "outputs": [],
   "source": [
    "# run the trained model against the testset\n",
    "test_pred = algo.test(testset)\n",
    "#test_pred"
   ]
  },
  {
   "cell_type": "code",
   "execution_count": 10,
   "metadata": {},
   "outputs": [
    {
     "name": "stdout",
     "output_type": "stream",
     "text": [
      "Item-based Model : Test Set\n",
      "RMSE: 1.2124\n"
     ]
    },
    {
     "data": {
      "text/plain": [
       "1.2123907430521894"
      ]
     },
     "execution_count": 10,
     "metadata": {},
     "output_type": "execute_result"
    }
   ],
   "source": [
    "# get RMSE\n",
    "print(\"Item-based Model : Test Set\")\n",
    "accuracy.rmse(test_pred, verbose=True)"
   ]
  },
  {
   "cell_type": "code",
   "execution_count": 11,
   "metadata": {},
   "outputs": [
    {
     "name": "stdout",
     "output_type": "stream",
     "text": [
      "MSE: 1.4699\n"
     ]
    },
    {
     "data": {
      "text/plain": [
       "1.4698913138386398"
      ]
     },
     "execution_count": 11,
     "metadata": {},
     "output_type": "execute_result"
    }
   ],
   "source": [
    "accuracy.mse(test_pred, verbose=True)"
   ]
  },
  {
   "cell_type": "code",
   "execution_count": 12,
   "metadata": {},
   "outputs": [
    {
     "name": "stdout",
     "output_type": "stream",
     "text": [
      "MAE:  0.8776\n"
     ]
    },
    {
     "data": {
      "text/plain": [
       "0.8776054738944616"
      ]
     },
     "execution_count": 12,
     "metadata": {},
     "output_type": "execute_result"
    }
   ],
   "source": [
    "accuracy.mae(test_pred, verbose=True)"
   ]
  },
  {
   "cell_type": "code",
   "execution_count": null,
   "metadata": {},
   "outputs": [],
   "source": []
  },
  {
   "cell_type": "code",
   "execution_count": 13,
   "metadata": {},
   "outputs": [
    {
     "data": {
      "text/plain": [
       "5667"
      ]
     },
     "execution_count": 13,
     "metadata": {},
     "output_type": "execute_result"
    }
   ],
   "source": [
    "len(test_pred)"
   ]
  },
  {
   "cell_type": "code",
   "execution_count": 14,
   "metadata": {},
   "outputs": [
    {
     "data": {
      "text/plain": [
       "4656"
      ]
     },
     "execution_count": 14,
     "metadata": {},
     "output_type": "execute_result"
    }
   ],
   "source": [
    "count = 0\n",
    "for i in range(len(test_pred)):\n",
    "    if test_pred[i][4]['was_impossible'] == True:\n",
    "        count += 1\n",
    "count"
   ]
  },
  {
   "cell_type": "code",
   "execution_count": 15,
   "metadata": {},
   "outputs": [
    {
     "data": {
      "text/plain": [
       "0.8215987294865008"
      ]
     },
     "execution_count": 15,
     "metadata": {},
     "output_type": "execute_result"
    }
   ],
   "source": [
    "4656/5667"
   ]
  },
  {
   "cell_type": "code",
   "execution_count": null,
   "metadata": {},
   "outputs": [],
   "source": []
  },
  {
   "cell_type": "markdown",
   "metadata": {},
   "source": [
    "### user-based"
   ]
  },
  {
   "cell_type": "code",
   "execution_count": 16,
   "metadata": {},
   "outputs": [
    {
     "name": "stdout",
     "output_type": "stream",
     "text": [
      "Estimating biases using als...\n",
      "Computing the pearson_baseline similarity matrix...\n",
      "Done computing similarity matrix.\n"
     ]
    },
    {
     "data": {
      "text/plain": [
       "<surprise.prediction_algorithms.knns.KNNWithMeans at 0x11c635af0>"
      ]
     },
     "execution_count": 16,
     "metadata": {},
     "output_type": "execute_result"
    }
   ],
   "source": [
    "# use user_based true/false to switch between user-based or item-based collaborative filtering\n",
    "algo2 = KNNWithMeans(k=5, sim_options={'name': 'pearson_baseline', 'user_based': True})\n",
    "algo2.fit(trainset)"
   ]
  },
  {
   "cell_type": "code",
   "execution_count": 17,
   "metadata": {},
   "outputs": [],
   "source": [
    "# run the trained model against the testset\n",
    "test_pred2 = algo2.test(testset)\n",
    "#test_pred2"
   ]
  },
  {
   "cell_type": "code",
   "execution_count": 18,
   "metadata": {},
   "outputs": [
    {
     "name": "stdout",
     "output_type": "stream",
     "text": [
      "Item-based Model : Test Set\n",
      "RMSE: 1.2052\n"
     ]
    },
    {
     "data": {
      "text/plain": [
       "1.2051953085409994"
      ]
     },
     "execution_count": 18,
     "metadata": {},
     "output_type": "execute_result"
    }
   ],
   "source": [
    "# get RMSE\n",
    "print(\"Item-based Model : Test Set\")\n",
    "accuracy.rmse(test_pred2, verbose=True)"
   ]
  },
  {
   "cell_type": "code",
   "execution_count": 19,
   "metadata": {},
   "outputs": [
    {
     "name": "stdout",
     "output_type": "stream",
     "text": [
      "MAE:  0.8681\n"
     ]
    },
    {
     "data": {
      "text/plain": [
       "0.8681141577161164"
      ]
     },
     "execution_count": 19,
     "metadata": {},
     "output_type": "execute_result"
    }
   ],
   "source": [
    "accuracy.mae(test_pred2, verbose=True)"
   ]
  },
  {
   "cell_type": "code",
   "execution_count": null,
   "metadata": {},
   "outputs": [],
   "source": []
  },
  {
   "cell_type": "code",
   "execution_count": null,
   "metadata": {},
   "outputs": [],
   "source": []
  },
  {
   "cell_type": "markdown",
   "metadata": {},
   "source": [
    "### model-based (item)"
   ]
  },
  {
   "cell_type": "code",
   "execution_count": 21,
   "metadata": {},
   "outputs": [],
   "source": [
    "def get_top_n(predictions, n=10):\n",
    "    \"\"\"Return the top-N recommendation for each user from a set of predictions.\n",
    "\n",
    "    Args:\n",
    "        predictions(list of Prediction objects): The list of predictions, as\n",
    "            returned by the test method of an algorithm.\n",
    "        n(int): The number of recommendation to output for each user. Default\n",
    "            is 10.\n",
    "\n",
    "    Returns:\n",
    "    A dict where keys are user (raw) ids and values are lists of tuples:\n",
    "        [(raw item id, rating estimation), ...] of size n.\n",
    "    \"\"\"\n",
    "\n",
    "    # First map the predictions to each user.\n",
    "    top_n = defaultdict(list)\n",
    "    for uid, iid, true_r, est, _ in predictions:\n",
    "        top_n[uid].append((iid, est))\n",
    "\n",
    "    # Then sort the predictions for each user and retrieve the k highest ones.\n",
    "    for uid, user_ratings in top_n.items():\n",
    "        user_ratings.sort(key=lambda x: x[1], reverse=True)\n",
    "        top_n[uid] = user_ratings[:n]\n",
    "\n",
    "    return top_n"
   ]
  },
  {
   "cell_type": "code",
   "execution_count": 22,
   "metadata": {},
   "outputs": [
    {
     "data": {
      "text/plain": [
       "<surprise.prediction_algorithms.matrix_factorization.SVD at 0x11c635d30>"
      ]
     },
     "execution_count": 22,
     "metadata": {},
     "output_type": "execute_result"
    }
   ],
   "source": [
    "# First train an SVD algorithm on the dataset.\n",
    "algo3 = SVD()\n",
    "algo3.fit(trainset)"
   ]
  },
  {
   "cell_type": "code",
   "execution_count": 30,
   "metadata": {},
   "outputs": [],
   "source": [
    "# Than predict ratings for all pairs (u, i) that are NOT in the training set.\n",
    "testset = trainset.build_anti_testset()\n",
    "predictions = algo3.test(testset)"
   ]
  },
  {
   "cell_type": "code",
   "execution_count": 31,
   "metadata": {},
   "outputs": [],
   "source": [
    "top_n = get_top_n(predictions, n=10)"
   ]
  },
  {
   "cell_type": "code",
   "execution_count": 32,
   "metadata": {},
   "outputs": [],
   "source": [
    "# Print the recommended items for each user\n",
    "for uid, user_ratings in top_n.items():\n",
    "    pass\n",
    "    #print(uid, [iid for (iid, _) in user_ratings])"
   ]
  },
  {
   "cell_type": "code",
   "execution_count": null,
   "metadata": {},
   "outputs": [],
   "source": []
  },
  {
   "cell_type": "markdown",
   "metadata": {},
   "source": [
    "### How to compute precision@k and recall@k"
   ]
  },
  {
   "cell_type": "markdown",
   "metadata": {},
   "source": [
    "$Precision@k=\\frac{|{Recommended items that are relevant}|}{|{Recommended items}|}$\n",
    "\n",
    "$Recall@k=\\frac{|{Recommended items that are relevant}|}{|{Relevant items}|}$"
   ]
  },
  {
   "cell_type": "markdown",
   "metadata": {},
   "source": [
    "An item is considered relevant if its true rating $r_{ui}$ is greater than a given threshold. An item is considered recommended if its estimated rating $\\hat{r}_{ui}$ is greater than the threshold, and if it is among the k highest estimated ratings."
   ]
  },
  {
   "cell_type": "code",
   "execution_count": 29,
   "metadata": {},
   "outputs": [],
   "source": [
    "def precision_recall_at_k(predictions, k=10, threshold=3.5):\n",
    "    \"\"\"Return precision and recall at k metrics for each user\"\"\"\n",
    "\n",
    "    # First map the predictions to each user.\n",
    "    user_est_true = defaultdict(list)\n",
    "    for uid, _, true_r, est, _ in predictions:\n",
    "        user_est_true[uid].append((est, true_r))\n",
    "\n",
    "    precisions = dict()\n",
    "    recalls = dict()\n",
    "    for uid, user_ratings in user_est_true.items():\n",
    "\n",
    "        # Sort user ratings by estimated value\n",
    "        user_ratings.sort(key=lambda x: x[0], reverse=True)\n",
    "\n",
    "        # Number of relevant items\n",
    "        n_rel = sum((true_r >= threshold) for (_, true_r) in user_ratings)\n",
    "\n",
    "        # Number of recommended items in top k\n",
    "        n_rec_k = sum((est >= threshold) for (est, _) in user_ratings[:k])\n",
    "\n",
    "        # Number of relevant and recommended items in top k\n",
    "        n_rel_and_rec_k = sum(((true_r >= threshold) and (est >= threshold))\n",
    "                              for (est, true_r) in user_ratings[:k])\n",
    "\n",
    "        # Precision@K: Proportion of recommended items that are relevant\n",
    "        # When n_rec_k is 0, Precision is undefined. We here set it to 0.\n",
    "\n",
    "        precisions[uid] = n_rel_and_rec_k / n_rec_k if n_rec_k != 0 else 0\n",
    "\n",
    "        # Recall@K: Proportion of relevant items that are recommended\n",
    "        # When n_rel is 0, Recall is undefined. We here set it to 0.\n",
    "\n",
    "        recalls[uid] = n_rel_and_rec_k / n_rel if n_rel != 0 else 0\n",
    "\n",
    "    return precisions, recalls"
   ]
  },
  {
   "cell_type": "code",
   "execution_count": 33,
   "metadata": {},
   "outputs": [],
   "source": [
    "kf = KFold(n_splits=5)\n",
    "#algo3 = SVD()"
   ]
  },
  {
   "cell_type": "code",
   "execution_count": 34,
   "metadata": {},
   "outputs": [
    {
     "name": "stdout",
     "output_type": "stream",
     "text": [
      "0.5498489425981873\n",
      "0.5497116176874485\n",
      "0.5430593607305936\n",
      "0.5431050228310502\n",
      "0.5262940528634361\n",
      "0.5259400566393959\n",
      "0.5572973964063073\n",
      "0.5574807480748075\n",
      "0.5362159184797577\n",
      "0.5358716606995318\n"
     ]
    }
   ],
   "source": [
    "for trainset, testset in kf.split(data):\n",
    "    algo3.fit(trainset)\n",
    "    predictions = algo3.test(testset)\n",
    "    precisions, recalls = precision_recall_at_k(predictions, k=5, threshold=4)\n",
    "\n",
    "    # Precision and recall can then be averaged over all users\n",
    "    print(sum(prec for prec in precisions.values()) / len(precisions))\n",
    "    print(sum(rec for rec in recalls.values()) / len(recalls))"
   ]
  },
  {
   "cell_type": "code",
   "execution_count": 35,
   "metadata": {},
   "outputs": [],
   "source": [
    "# plot precision-recall curve"
   ]
  },
  {
   "cell_type": "code",
   "execution_count": null,
   "metadata": {},
   "outputs": [],
   "source": []
  },
  {
   "cell_type": "code",
   "execution_count": null,
   "metadata": {},
   "outputs": [],
   "source": []
  },
  {
   "cell_type": "code",
   "execution_count": 41,
   "metadata": {},
   "outputs": [
    {
     "data": {
      "text/html": [
       "<div>\n",
       "<style scoped>\n",
       "    .dataframe tbody tr th:only-of-type {\n",
       "        vertical-align: middle;\n",
       "    }\n",
       "\n",
       "    .dataframe tbody tr th {\n",
       "        vertical-align: top;\n",
       "    }\n",
       "\n",
       "    .dataframe thead th {\n",
       "        text-align: right;\n",
       "    }\n",
       "</style>\n",
       "<table border=\"1\" class=\"dataframe\">\n",
       "  <thead>\n",
       "    <tr style=\"text-align: right;\">\n",
       "      <th>product_id</th>\n",
       "      <th>0152f69b6cf919bcdaf117aa8c43e5a2</th>\n",
       "      <th>054515fd15bc1a2029f10de97ffa9120</th>\n",
       "      <th>06c6e01186af8b98ee1fc9e01f9471e9</th>\n",
       "      <th>06edb72f1e0c64b14c5b79353f7abea3</th>\n",
       "      <th>08574b074924071f4e201e151b152b4e</th>\n",
       "      <th>0a57f7d2c983bcf8188589a5fea4a8da</th>\n",
       "      <th>0aabfb375647d9738ad0f7b4ea3653b1</th>\n",
       "      <th>0bcc3eeca39e1064258aa1e932269894</th>\n",
       "      <th>0d85c435fd60b277ffb9e9b0f88f927a</th>\n",
       "      <th>11875b30b49585209e608f40e8082e65</th>\n",
       "      <th>...</th>\n",
       "      <th>f35927953ed82e19d06ad3aac2f06353</th>\n",
       "      <th>f40876e0ef3cd5f9132b1f16b04b1346</th>\n",
       "      <th>f4f67ccaece962d013a4e1d7dc3a61f7</th>\n",
       "      <th>f71973c922ccaab05514a36a8bc741b8</th>\n",
       "      <th>f71f42e2381752836563b70beb542f80</th>\n",
       "      <th>f7a17d2c51d9df89a4f1711c4ac17f33</th>\n",
       "      <th>fb55982be901439613a95940feefd9ee</th>\n",
       "      <th>fbc1488c1a1e72ba175f53ab29a248e8</th>\n",
       "      <th>fbce4c4cb307679d89a3bf3d3bb353b9</th>\n",
       "      <th>fc1d8637c0268af3db482c14b7ef8e75</th>\n",
       "    </tr>\n",
       "    <tr>\n",
       "      <th>customer_unique_id</th>\n",
       "      <th></th>\n",
       "      <th></th>\n",
       "      <th></th>\n",
       "      <th></th>\n",
       "      <th></th>\n",
       "      <th></th>\n",
       "      <th></th>\n",
       "      <th></th>\n",
       "      <th></th>\n",
       "      <th></th>\n",
       "      <th></th>\n",
       "      <th></th>\n",
       "      <th></th>\n",
       "      <th></th>\n",
       "      <th></th>\n",
       "      <th></th>\n",
       "      <th></th>\n",
       "      <th></th>\n",
       "      <th></th>\n",
       "      <th></th>\n",
       "      <th></th>\n",
       "    </tr>\n",
       "  </thead>\n",
       "  <tbody>\n",
       "    <tr>\n",
       "      <th>000ed48ceeb6f4bf8ad021a10a3c7b43</th>\n",
       "      <td>0.0</td>\n",
       "      <td>0</td>\n",
       "      <td>0</td>\n",
       "      <td>0</td>\n",
       "      <td>0</td>\n",
       "      <td>0</td>\n",
       "      <td>0</td>\n",
       "      <td>0.0</td>\n",
       "      <td>0</td>\n",
       "      <td>0</td>\n",
       "      <td>...</td>\n",
       "      <td>0</td>\n",
       "      <td>0</td>\n",
       "      <td>0</td>\n",
       "      <td>0</td>\n",
       "      <td>0</td>\n",
       "      <td>0</td>\n",
       "      <td>0</td>\n",
       "      <td>0</td>\n",
       "      <td>0</td>\n",
       "      <td>0</td>\n",
       "    </tr>\n",
       "    <tr>\n",
       "      <th>001926cef41060fae572e2e7b30bd2a4</th>\n",
       "      <td>0.0</td>\n",
       "      <td>0</td>\n",
       "      <td>0</td>\n",
       "      <td>0</td>\n",
       "      <td>0</td>\n",
       "      <td>0</td>\n",
       "      <td>0</td>\n",
       "      <td>0.0</td>\n",
       "      <td>0</td>\n",
       "      <td>0</td>\n",
       "      <td>...</td>\n",
       "      <td>0</td>\n",
       "      <td>0</td>\n",
       "      <td>0</td>\n",
       "      <td>0</td>\n",
       "      <td>0</td>\n",
       "      <td>0</td>\n",
       "      <td>0</td>\n",
       "      <td>0</td>\n",
       "      <td>0</td>\n",
       "      <td>0</td>\n",
       "    </tr>\n",
       "    <tr>\n",
       "      <th>00196c4c9a3af7dd2ad10eade69c926f</th>\n",
       "      <td>0.0</td>\n",
       "      <td>0</td>\n",
       "      <td>0</td>\n",
       "      <td>0</td>\n",
       "      <td>0</td>\n",
       "      <td>0</td>\n",
       "      <td>0</td>\n",
       "      <td>0.0</td>\n",
       "      <td>0</td>\n",
       "      <td>0</td>\n",
       "      <td>...</td>\n",
       "      <td>0</td>\n",
       "      <td>0</td>\n",
       "      <td>0</td>\n",
       "      <td>0</td>\n",
       "      <td>0</td>\n",
       "      <td>0</td>\n",
       "      <td>0</td>\n",
       "      <td>0</td>\n",
       "      <td>0</td>\n",
       "      <td>0</td>\n",
       "    </tr>\n",
       "  </tbody>\n",
       "</table>\n",
       "<p>3 rows × 176 columns</p>\n",
       "</div>"
      ],
      "text/plain": [
       "product_id                        0152f69b6cf919bcdaf117aa8c43e5a2  \\\n",
       "customer_unique_id                                                   \n",
       "000ed48ceeb6f4bf8ad021a10a3c7b43                               0.0   \n",
       "001926cef41060fae572e2e7b30bd2a4                               0.0   \n",
       "00196c4c9a3af7dd2ad10eade69c926f                               0.0   \n",
       "\n",
       "product_id                        054515fd15bc1a2029f10de97ffa9120  \\\n",
       "customer_unique_id                                                   \n",
       "000ed48ceeb6f4bf8ad021a10a3c7b43                                 0   \n",
       "001926cef41060fae572e2e7b30bd2a4                                 0   \n",
       "00196c4c9a3af7dd2ad10eade69c926f                                 0   \n",
       "\n",
       "product_id                        06c6e01186af8b98ee1fc9e01f9471e9  \\\n",
       "customer_unique_id                                                   \n",
       "000ed48ceeb6f4bf8ad021a10a3c7b43                                 0   \n",
       "001926cef41060fae572e2e7b30bd2a4                                 0   \n",
       "00196c4c9a3af7dd2ad10eade69c926f                                 0   \n",
       "\n",
       "product_id                        06edb72f1e0c64b14c5b79353f7abea3  \\\n",
       "customer_unique_id                                                   \n",
       "000ed48ceeb6f4bf8ad021a10a3c7b43                                 0   \n",
       "001926cef41060fae572e2e7b30bd2a4                                 0   \n",
       "00196c4c9a3af7dd2ad10eade69c926f                                 0   \n",
       "\n",
       "product_id                        08574b074924071f4e201e151b152b4e  \\\n",
       "customer_unique_id                                                   \n",
       "000ed48ceeb6f4bf8ad021a10a3c7b43                                 0   \n",
       "001926cef41060fae572e2e7b30bd2a4                                 0   \n",
       "00196c4c9a3af7dd2ad10eade69c926f                                 0   \n",
       "\n",
       "product_id                        0a57f7d2c983bcf8188589a5fea4a8da  \\\n",
       "customer_unique_id                                                   \n",
       "000ed48ceeb6f4bf8ad021a10a3c7b43                                 0   \n",
       "001926cef41060fae572e2e7b30bd2a4                                 0   \n",
       "00196c4c9a3af7dd2ad10eade69c926f                                 0   \n",
       "\n",
       "product_id                        0aabfb375647d9738ad0f7b4ea3653b1  \\\n",
       "customer_unique_id                                                   \n",
       "000ed48ceeb6f4bf8ad021a10a3c7b43                                 0   \n",
       "001926cef41060fae572e2e7b30bd2a4                                 0   \n",
       "00196c4c9a3af7dd2ad10eade69c926f                                 0   \n",
       "\n",
       "product_id                        0bcc3eeca39e1064258aa1e932269894  \\\n",
       "customer_unique_id                                                   \n",
       "000ed48ceeb6f4bf8ad021a10a3c7b43                               0.0   \n",
       "001926cef41060fae572e2e7b30bd2a4                               0.0   \n",
       "00196c4c9a3af7dd2ad10eade69c926f                               0.0   \n",
       "\n",
       "product_id                        0d85c435fd60b277ffb9e9b0f88f927a  \\\n",
       "customer_unique_id                                                   \n",
       "000ed48ceeb6f4bf8ad021a10a3c7b43                                 0   \n",
       "001926cef41060fae572e2e7b30bd2a4                                 0   \n",
       "00196c4c9a3af7dd2ad10eade69c926f                                 0   \n",
       "\n",
       "product_id                        11875b30b49585209e608f40e8082e65  ...  \\\n",
       "customer_unique_id                                                  ...   \n",
       "000ed48ceeb6f4bf8ad021a10a3c7b43                                 0  ...   \n",
       "001926cef41060fae572e2e7b30bd2a4                                 0  ...   \n",
       "00196c4c9a3af7dd2ad10eade69c926f                                 0  ...   \n",
       "\n",
       "product_id                        f35927953ed82e19d06ad3aac2f06353  \\\n",
       "customer_unique_id                                                   \n",
       "000ed48ceeb6f4bf8ad021a10a3c7b43                                 0   \n",
       "001926cef41060fae572e2e7b30bd2a4                                 0   \n",
       "00196c4c9a3af7dd2ad10eade69c926f                                 0   \n",
       "\n",
       "product_id                        f40876e0ef3cd5f9132b1f16b04b1346  \\\n",
       "customer_unique_id                                                   \n",
       "000ed48ceeb6f4bf8ad021a10a3c7b43                                 0   \n",
       "001926cef41060fae572e2e7b30bd2a4                                 0   \n",
       "00196c4c9a3af7dd2ad10eade69c926f                                 0   \n",
       "\n",
       "product_id                        f4f67ccaece962d013a4e1d7dc3a61f7  \\\n",
       "customer_unique_id                                                   \n",
       "000ed48ceeb6f4bf8ad021a10a3c7b43                                 0   \n",
       "001926cef41060fae572e2e7b30bd2a4                                 0   \n",
       "00196c4c9a3af7dd2ad10eade69c926f                                 0   \n",
       "\n",
       "product_id                        f71973c922ccaab05514a36a8bc741b8  \\\n",
       "customer_unique_id                                                   \n",
       "000ed48ceeb6f4bf8ad021a10a3c7b43                                 0   \n",
       "001926cef41060fae572e2e7b30bd2a4                                 0   \n",
       "00196c4c9a3af7dd2ad10eade69c926f                                 0   \n",
       "\n",
       "product_id                        f71f42e2381752836563b70beb542f80  \\\n",
       "customer_unique_id                                                   \n",
       "000ed48ceeb6f4bf8ad021a10a3c7b43                                 0   \n",
       "001926cef41060fae572e2e7b30bd2a4                                 0   \n",
       "00196c4c9a3af7dd2ad10eade69c926f                                 0   \n",
       "\n",
       "product_id                        f7a17d2c51d9df89a4f1711c4ac17f33  \\\n",
       "customer_unique_id                                                   \n",
       "000ed48ceeb6f4bf8ad021a10a3c7b43                                 0   \n",
       "001926cef41060fae572e2e7b30bd2a4                                 0   \n",
       "00196c4c9a3af7dd2ad10eade69c926f                                 0   \n",
       "\n",
       "product_id                        fb55982be901439613a95940feefd9ee  \\\n",
       "customer_unique_id                                                   \n",
       "000ed48ceeb6f4bf8ad021a10a3c7b43                                 0   \n",
       "001926cef41060fae572e2e7b30bd2a4                                 0   \n",
       "00196c4c9a3af7dd2ad10eade69c926f                                 0   \n",
       "\n",
       "product_id                        fbc1488c1a1e72ba175f53ab29a248e8  \\\n",
       "customer_unique_id                                                   \n",
       "000ed48ceeb6f4bf8ad021a10a3c7b43                                 0   \n",
       "001926cef41060fae572e2e7b30bd2a4                                 0   \n",
       "00196c4c9a3af7dd2ad10eade69c926f                                 0   \n",
       "\n",
       "product_id                        fbce4c4cb307679d89a3bf3d3bb353b9  \\\n",
       "customer_unique_id                                                   \n",
       "000ed48ceeb6f4bf8ad021a10a3c7b43                                 0   \n",
       "001926cef41060fae572e2e7b30bd2a4                                 0   \n",
       "00196c4c9a3af7dd2ad10eade69c926f                                 0   \n",
       "\n",
       "product_id                        fc1d8637c0268af3db482c14b7ef8e75  \n",
       "customer_unique_id                                                  \n",
       "000ed48ceeb6f4bf8ad021a10a3c7b43                                 0  \n",
       "001926cef41060fae572e2e7b30bd2a4                                 0  \n",
       "00196c4c9a3af7dd2ad10eade69c926f                                 0  \n",
       "\n",
       "[3 rows x 176 columns]"
      ]
     },
     "execution_count": 41,
     "metadata": {},
     "output_type": "execute_result"
    }
   ],
   "source": [
    "ratings_matrix = df.pivot_table(values='review_score', index='customer_unique_id', columns='product_id', fill_value=0)\n",
    "ratings_matrix.head(3)"
   ]
  },
  {
   "cell_type": "code",
   "execution_count": 42,
   "metadata": {},
   "outputs": [
    {
     "data": {
      "text/plain": [
       "(16443, 176)"
      ]
     },
     "execution_count": 42,
     "metadata": {},
     "output_type": "execute_result"
    }
   ],
   "source": [
    "ratings_matrix.shape"
   ]
  },
  {
   "cell_type": "code",
   "execution_count": 43,
   "metadata": {},
   "outputs": [
    {
     "data": {
      "text/html": [
       "<div>\n",
       "<style scoped>\n",
       "    .dataframe tbody tr th:only-of-type {\n",
       "        vertical-align: middle;\n",
       "    }\n",
       "\n",
       "    .dataframe tbody tr th {\n",
       "        vertical-align: top;\n",
       "    }\n",
       "\n",
       "    .dataframe thead th {\n",
       "        text-align: right;\n",
       "    }\n",
       "</style>\n",
       "<table border=\"1\" class=\"dataframe\">\n",
       "  <thead>\n",
       "    <tr style=\"text-align: right;\">\n",
       "      <th>customer_unique_id</th>\n",
       "      <th>000ed48ceeb6f4bf8ad021a10a3c7b43</th>\n",
       "      <th>001926cef41060fae572e2e7b30bd2a4</th>\n",
       "      <th>00196c4c9a3af7dd2ad10eade69c926f</th>\n",
       "      <th>001ae5a1788703d64536c30362503e49</th>\n",
       "      <th>002ae492472e45ad6ebeb7a625409392</th>\n",
       "      <th>002bdeb33da5b1b3ce8b9c822f749c82</th>\n",
       "      <th>002cdf87d4c03f08f7eb4551a923affc</th>\n",
       "      <th>002d71b244beb91ca7030b15ab526446</th>\n",
       "      <th>002ed12115742033f015cb3c269ccf68</th>\n",
       "      <th>002ef00822613c94613e60e03b169fef</th>\n",
       "      <th>...</th>\n",
       "      <th>ffe6305176b9431a3eda3cf8904d7eb7</th>\n",
       "      <th>ffe6efca3c7e6a06bad0a6a883280a93</th>\n",
       "      <th>ffe96c782a5bc522bd8bad3bc638981a</th>\n",
       "      <th>ffe9be10b9a58c5464d833e8b1b2c632</th>\n",
       "      <th>ffe9e41fbd14db4a7361347c56af5447</th>\n",
       "      <th>ffee94d548cef05b146d825a7648dab4</th>\n",
       "      <th>ffeefd086fc667aaf6595c8fe3d22d54</th>\n",
       "      <th>fff1afc79f6b5db1e235a4a6c30ceda7</th>\n",
       "      <th>ffff5962728ec6157033ef9805bacc48</th>\n",
       "      <th>ffffd2657e2aad2907e67c3e9daecbeb</th>\n",
       "    </tr>\n",
       "    <tr>\n",
       "      <th>product_id</th>\n",
       "      <th></th>\n",
       "      <th></th>\n",
       "      <th></th>\n",
       "      <th></th>\n",
       "      <th></th>\n",
       "      <th></th>\n",
       "      <th></th>\n",
       "      <th></th>\n",
       "      <th></th>\n",
       "      <th></th>\n",
       "      <th></th>\n",
       "      <th></th>\n",
       "      <th></th>\n",
       "      <th></th>\n",
       "      <th></th>\n",
       "      <th></th>\n",
       "      <th></th>\n",
       "      <th></th>\n",
       "      <th></th>\n",
       "      <th></th>\n",
       "      <th></th>\n",
       "    </tr>\n",
       "  </thead>\n",
       "  <tbody>\n",
       "    <tr>\n",
       "      <th>0152f69b6cf919bcdaf117aa8c43e5a2</th>\n",
       "      <td>0.0</td>\n",
       "      <td>0.0</td>\n",
       "      <td>0.0</td>\n",
       "      <td>0.0</td>\n",
       "      <td>0.0</td>\n",
       "      <td>0.0</td>\n",
       "      <td>0.0</td>\n",
       "      <td>0.0</td>\n",
       "      <td>0.0</td>\n",
       "      <td>0.0</td>\n",
       "      <td>...</td>\n",
       "      <td>0.0</td>\n",
       "      <td>0.0</td>\n",
       "      <td>0.0</td>\n",
       "      <td>0.0</td>\n",
       "      <td>0.0</td>\n",
       "      <td>0.0</td>\n",
       "      <td>0.0</td>\n",
       "      <td>0.0</td>\n",
       "      <td>0.0</td>\n",
       "      <td>0.0</td>\n",
       "    </tr>\n",
       "    <tr>\n",
       "      <th>054515fd15bc1a2029f10de97ffa9120</th>\n",
       "      <td>0.0</td>\n",
       "      <td>0.0</td>\n",
       "      <td>0.0</td>\n",
       "      <td>0.0</td>\n",
       "      <td>0.0</td>\n",
       "      <td>0.0</td>\n",
       "      <td>0.0</td>\n",
       "      <td>0.0</td>\n",
       "      <td>0.0</td>\n",
       "      <td>0.0</td>\n",
       "      <td>...</td>\n",
       "      <td>0.0</td>\n",
       "      <td>0.0</td>\n",
       "      <td>0.0</td>\n",
       "      <td>0.0</td>\n",
       "      <td>0.0</td>\n",
       "      <td>0.0</td>\n",
       "      <td>0.0</td>\n",
       "      <td>0.0</td>\n",
       "      <td>0.0</td>\n",
       "      <td>0.0</td>\n",
       "    </tr>\n",
       "    <tr>\n",
       "      <th>06c6e01186af8b98ee1fc9e01f9471e9</th>\n",
       "      <td>0.0</td>\n",
       "      <td>0.0</td>\n",
       "      <td>0.0</td>\n",
       "      <td>0.0</td>\n",
       "      <td>0.0</td>\n",
       "      <td>0.0</td>\n",
       "      <td>0.0</td>\n",
       "      <td>0.0</td>\n",
       "      <td>0.0</td>\n",
       "      <td>0.0</td>\n",
       "      <td>...</td>\n",
       "      <td>0.0</td>\n",
       "      <td>0.0</td>\n",
       "      <td>0.0</td>\n",
       "      <td>0.0</td>\n",
       "      <td>0.0</td>\n",
       "      <td>0.0</td>\n",
       "      <td>0.0</td>\n",
       "      <td>0.0</td>\n",
       "      <td>0.0</td>\n",
       "      <td>0.0</td>\n",
       "    </tr>\n",
       "  </tbody>\n",
       "</table>\n",
       "<p>3 rows × 16443 columns</p>\n",
       "</div>"
      ],
      "text/plain": [
       "customer_unique_id                000ed48ceeb6f4bf8ad021a10a3c7b43  \\\n",
       "product_id                                                           \n",
       "0152f69b6cf919bcdaf117aa8c43e5a2                               0.0   \n",
       "054515fd15bc1a2029f10de97ffa9120                               0.0   \n",
       "06c6e01186af8b98ee1fc9e01f9471e9                               0.0   \n",
       "\n",
       "customer_unique_id                001926cef41060fae572e2e7b30bd2a4  \\\n",
       "product_id                                                           \n",
       "0152f69b6cf919bcdaf117aa8c43e5a2                               0.0   \n",
       "054515fd15bc1a2029f10de97ffa9120                               0.0   \n",
       "06c6e01186af8b98ee1fc9e01f9471e9                               0.0   \n",
       "\n",
       "customer_unique_id                00196c4c9a3af7dd2ad10eade69c926f  \\\n",
       "product_id                                                           \n",
       "0152f69b6cf919bcdaf117aa8c43e5a2                               0.0   \n",
       "054515fd15bc1a2029f10de97ffa9120                               0.0   \n",
       "06c6e01186af8b98ee1fc9e01f9471e9                               0.0   \n",
       "\n",
       "customer_unique_id                001ae5a1788703d64536c30362503e49  \\\n",
       "product_id                                                           \n",
       "0152f69b6cf919bcdaf117aa8c43e5a2                               0.0   \n",
       "054515fd15bc1a2029f10de97ffa9120                               0.0   \n",
       "06c6e01186af8b98ee1fc9e01f9471e9                               0.0   \n",
       "\n",
       "customer_unique_id                002ae492472e45ad6ebeb7a625409392  \\\n",
       "product_id                                                           \n",
       "0152f69b6cf919bcdaf117aa8c43e5a2                               0.0   \n",
       "054515fd15bc1a2029f10de97ffa9120                               0.0   \n",
       "06c6e01186af8b98ee1fc9e01f9471e9                               0.0   \n",
       "\n",
       "customer_unique_id                002bdeb33da5b1b3ce8b9c822f749c82  \\\n",
       "product_id                                                           \n",
       "0152f69b6cf919bcdaf117aa8c43e5a2                               0.0   \n",
       "054515fd15bc1a2029f10de97ffa9120                               0.0   \n",
       "06c6e01186af8b98ee1fc9e01f9471e9                               0.0   \n",
       "\n",
       "customer_unique_id                002cdf87d4c03f08f7eb4551a923affc  \\\n",
       "product_id                                                           \n",
       "0152f69b6cf919bcdaf117aa8c43e5a2                               0.0   \n",
       "054515fd15bc1a2029f10de97ffa9120                               0.0   \n",
       "06c6e01186af8b98ee1fc9e01f9471e9                               0.0   \n",
       "\n",
       "customer_unique_id                002d71b244beb91ca7030b15ab526446  \\\n",
       "product_id                                                           \n",
       "0152f69b6cf919bcdaf117aa8c43e5a2                               0.0   \n",
       "054515fd15bc1a2029f10de97ffa9120                               0.0   \n",
       "06c6e01186af8b98ee1fc9e01f9471e9                               0.0   \n",
       "\n",
       "customer_unique_id                002ed12115742033f015cb3c269ccf68  \\\n",
       "product_id                                                           \n",
       "0152f69b6cf919bcdaf117aa8c43e5a2                               0.0   \n",
       "054515fd15bc1a2029f10de97ffa9120                               0.0   \n",
       "06c6e01186af8b98ee1fc9e01f9471e9                               0.0   \n",
       "\n",
       "customer_unique_id                002ef00822613c94613e60e03b169fef  ...  \\\n",
       "product_id                                                          ...   \n",
       "0152f69b6cf919bcdaf117aa8c43e5a2                               0.0  ...   \n",
       "054515fd15bc1a2029f10de97ffa9120                               0.0  ...   \n",
       "06c6e01186af8b98ee1fc9e01f9471e9                               0.0  ...   \n",
       "\n",
       "customer_unique_id                ffe6305176b9431a3eda3cf8904d7eb7  \\\n",
       "product_id                                                           \n",
       "0152f69b6cf919bcdaf117aa8c43e5a2                               0.0   \n",
       "054515fd15bc1a2029f10de97ffa9120                               0.0   \n",
       "06c6e01186af8b98ee1fc9e01f9471e9                               0.0   \n",
       "\n",
       "customer_unique_id                ffe6efca3c7e6a06bad0a6a883280a93  \\\n",
       "product_id                                                           \n",
       "0152f69b6cf919bcdaf117aa8c43e5a2                               0.0   \n",
       "054515fd15bc1a2029f10de97ffa9120                               0.0   \n",
       "06c6e01186af8b98ee1fc9e01f9471e9                               0.0   \n",
       "\n",
       "customer_unique_id                ffe96c782a5bc522bd8bad3bc638981a  \\\n",
       "product_id                                                           \n",
       "0152f69b6cf919bcdaf117aa8c43e5a2                               0.0   \n",
       "054515fd15bc1a2029f10de97ffa9120                               0.0   \n",
       "06c6e01186af8b98ee1fc9e01f9471e9                               0.0   \n",
       "\n",
       "customer_unique_id                ffe9be10b9a58c5464d833e8b1b2c632  \\\n",
       "product_id                                                           \n",
       "0152f69b6cf919bcdaf117aa8c43e5a2                               0.0   \n",
       "054515fd15bc1a2029f10de97ffa9120                               0.0   \n",
       "06c6e01186af8b98ee1fc9e01f9471e9                               0.0   \n",
       "\n",
       "customer_unique_id                ffe9e41fbd14db4a7361347c56af5447  \\\n",
       "product_id                                                           \n",
       "0152f69b6cf919bcdaf117aa8c43e5a2                               0.0   \n",
       "054515fd15bc1a2029f10de97ffa9120                               0.0   \n",
       "06c6e01186af8b98ee1fc9e01f9471e9                               0.0   \n",
       "\n",
       "customer_unique_id                ffee94d548cef05b146d825a7648dab4  \\\n",
       "product_id                                                           \n",
       "0152f69b6cf919bcdaf117aa8c43e5a2                               0.0   \n",
       "054515fd15bc1a2029f10de97ffa9120                               0.0   \n",
       "06c6e01186af8b98ee1fc9e01f9471e9                               0.0   \n",
       "\n",
       "customer_unique_id                ffeefd086fc667aaf6595c8fe3d22d54  \\\n",
       "product_id                                                           \n",
       "0152f69b6cf919bcdaf117aa8c43e5a2                               0.0   \n",
       "054515fd15bc1a2029f10de97ffa9120                               0.0   \n",
       "06c6e01186af8b98ee1fc9e01f9471e9                               0.0   \n",
       "\n",
       "customer_unique_id                fff1afc79f6b5db1e235a4a6c30ceda7  \\\n",
       "product_id                                                           \n",
       "0152f69b6cf919bcdaf117aa8c43e5a2                               0.0   \n",
       "054515fd15bc1a2029f10de97ffa9120                               0.0   \n",
       "06c6e01186af8b98ee1fc9e01f9471e9                               0.0   \n",
       "\n",
       "customer_unique_id                ffff5962728ec6157033ef9805bacc48  \\\n",
       "product_id                                                           \n",
       "0152f69b6cf919bcdaf117aa8c43e5a2                               0.0   \n",
       "054515fd15bc1a2029f10de97ffa9120                               0.0   \n",
       "06c6e01186af8b98ee1fc9e01f9471e9                               0.0   \n",
       "\n",
       "customer_unique_id                ffffd2657e2aad2907e67c3e9daecbeb  \n",
       "product_id                                                          \n",
       "0152f69b6cf919bcdaf117aa8c43e5a2                               0.0  \n",
       "054515fd15bc1a2029f10de97ffa9120                               0.0  \n",
       "06c6e01186af8b98ee1fc9e01f9471e9                               0.0  \n",
       "\n",
       "[3 rows x 16443 columns]"
      ]
     },
     "execution_count": 43,
     "metadata": {},
     "output_type": "execute_result"
    }
   ],
   "source": [
    "X1 = ratings_matrix.T\n",
    "X1.head(3)"
   ]
  },
  {
   "cell_type": "code",
   "execution_count": 44,
   "metadata": {},
   "outputs": [
    {
     "data": {
      "text/plain": [
       "(176, 16443)"
      ]
     },
     "execution_count": 44,
     "metadata": {},
     "output_type": "execute_result"
    }
   ],
   "source": [
    "X1.shape"
   ]
  },
  {
   "cell_type": "code",
   "execution_count": null,
   "metadata": {},
   "outputs": [],
   "source": []
  },
  {
   "cell_type": "code",
   "execution_count": 45,
   "metadata": {},
   "outputs": [
    {
     "data": {
      "text/plain": [
       "(176, 10)"
      ]
     },
     "execution_count": 45,
     "metadata": {},
     "output_type": "execute_result"
    }
   ],
   "source": [
    "# decomposing the Matrix\n",
    "from sklearn.decomposition import TruncatedSVD\n",
    "SVD = TruncatedSVD(n_components=10)\n",
    "decomposed_matrix = SVD.fit_transform(X1)\n",
    "decomposed_matrix.shape"
   ]
  },
  {
   "cell_type": "code",
   "execution_count": 46,
   "metadata": {},
   "outputs": [
    {
     "data": {
      "text/plain": [
       "(176, 176)"
      ]
     },
     "execution_count": 46,
     "metadata": {},
     "output_type": "execute_result"
    }
   ],
   "source": [
    "# correlation Matrix\n",
    "correlation_matrix = np.corrcoef(decomposed_matrix)\n",
    "correlation_matrix.shape"
   ]
  },
  {
   "cell_type": "code",
   "execution_count": 47,
   "metadata": {},
   "outputs": [
    {
     "data": {
      "text/plain": [
       "'6c3effec7c8ddba466d4f03f982c7aa3'"
      ]
     },
     "execution_count": 47,
     "metadata": {},
     "output_type": "execute_result"
    }
   ],
   "source": [
    "X1.index[75]"
   ]
  },
  {
   "cell_type": "markdown",
   "metadata": {},
   "source": [
    "Index # of product ID purchased by customer"
   ]
  },
  {
   "cell_type": "code",
   "execution_count": 48,
   "metadata": {},
   "outputs": [
    {
     "data": {
      "text/plain": [
       "75"
      ]
     },
     "execution_count": 48,
     "metadata": {},
     "output_type": "execute_result"
    }
   ],
   "source": [
    "i = X1.index[75]\n",
    "\n",
    "product_names = list(X1.index)\n",
    "product_ID = product_names.index(i)\n",
    "product_ID"
   ]
  },
  {
   "cell_type": "markdown",
   "metadata": {},
   "source": [
    "Correlation for all items with the item purchased by this customer based on items rated by other customers people who bought the same product"
   ]
  },
  {
   "cell_type": "code",
   "execution_count": 49,
   "metadata": {},
   "outputs": [
    {
     "data": {
      "text/plain": [
       "(176,)"
      ]
     },
     "execution_count": 49,
     "metadata": {},
     "output_type": "execute_result"
    }
   ],
   "source": [
    "correlation_product_ID = correlation_matrix[product_ID]\n",
    "correlation_product_ID.shape"
   ]
  },
  {
   "cell_type": "markdown",
   "metadata": {},
   "source": [
    "Recommending top 25 highly correlated products in sequence"
   ]
  },
  {
   "cell_type": "code",
   "execution_count": 50,
   "metadata": {},
   "outputs": [
    {
     "data": {
      "text/plain": [
       "['0aabfb375647d9738ad0f7b4ea3653b1',\n",
       " '0d85c435fd60b277ffb9e9b0f88f927a',\n",
       " '2a2d22ae30e026f1893083c8405ca522',\n",
       " '3eef0cb94ba82de806bb30ab743c7655',\n",
       " '4298b7e67dc399c200662b569563a2b2',\n",
       " '44a34214a57dc373dcd80f54c919d006',\n",
       " '5a848e4ab52fd5445cdc07aab1c40e48',\n",
       " '656e0eca68dcecf6a31b8ececfabe3e8',\n",
       " '73326828aa5efe1ba096223de496f596',\n",
       " '7e0dc102074f8285580c9777f79c90cf',\n",
       " '89b121bee266dcd25688a1ba72eefb61',\n",
       " 'a9516a079e37a9c9c36b9b78b10169e8',\n",
       " 'af51d485dc5255ba2e18b21b550156e6',\n",
       " 'b5e13c9a353102f79c6206ff5cb61a50',\n",
       " 'c4baedd846ed09b85f78a781b522f126',\n",
       " 'cac9e5692471a0700418aa3400b9b2b1',\n",
       " 'cd48f265a63e13b762601f5f794c5fca',\n",
       " 'd017a2151d543a9885604dc62a3d9dcc',\n",
       " 'd3c044bd42d84a79e3b0c42662806a48',\n",
       " 'd5991653e037ccb7af6ed7d94246b249',\n",
       " 'e59dd207c69d86e890febadc796d1078',\n",
       " 'e9a69340883a438c3f91739d14d3a56d',\n",
       " 'ee406bf28024d97771c4b1e8b7e8e219']"
      ]
     },
     "execution_count": 50,
     "metadata": {},
     "output_type": "execute_result"
    }
   ],
   "source": [
    "Recommend = list(X1.index[correlation_product_ID > 0.65])\n",
    "\n",
    "# Removes the item already bought by the customer\n",
    "Recommend.remove(i) \n",
    "\n",
    "Recommend[0:24]"
   ]
  },
  {
   "cell_type": "markdown",
   "metadata": {},
   "source": [
    "Here are the top 10 products to be displayed by the recommendation system to the above customer based on the purchase history of other customers in the website."
   ]
  },
  {
   "cell_type": "code",
   "execution_count": null,
   "metadata": {},
   "outputs": [],
   "source": []
  },
  {
   "cell_type": "code",
   "execution_count": null,
   "metadata": {},
   "outputs": [],
   "source": []
  },
  {
   "cell_type": "markdown",
   "metadata": {},
   "source": [
    "### How to get the top-N recommendations for each user"
   ]
  },
  {
   "cell_type": "code",
   "execution_count": null,
   "metadata": {},
   "outputs": [],
   "source": []
  },
  {
   "cell_type": "code",
   "execution_count": null,
   "metadata": {},
   "outputs": [],
   "source": []
  },
  {
   "cell_type": "code",
   "execution_count": null,
   "metadata": {},
   "outputs": [],
   "source": []
  },
  {
   "cell_type": "code",
   "execution_count": null,
   "metadata": {},
   "outputs": [],
   "source": []
  }
 ],
 "metadata": {
  "kernelspec": {
   "display_name": "Python 3.8.1 64-bit",
   "language": "python",
   "name": "python38164bit0209044da7c742dab8314e0953beb93b"
  },
  "language_info": {
   "codemirror_mode": {
    "name": "ipython",
    "version": 3
   },
   "file_extension": ".py",
   "mimetype": "text/x-python",
   "name": "python",
   "nbconvert_exporter": "python",
   "pygments_lexer": "ipython3",
   "version": "3.8.1"
  }
 },
 "nbformat": 4,
 "nbformat_minor": 4
}
