{
 "cells": [
  {
   "cell_type": "code",
   "execution_count": 1,
   "metadata": {},
   "outputs": [],
   "source": [
    "import pandas as pd\n",
    "import numpy as np\n",
    "import matplotlib.pyplot as plt\n",
    "from collections import Counter\n",
    "\n",
    "from surprise import KNNWithMeans\n",
    "from surprise import Dataset\n",
    "from surprise import accuracy\n",
    "from surprise import Reader\n",
    "import os\n",
    "from surprise.model_selection import train_test_split"
   ]
  },
  {
   "cell_type": "code",
   "execution_count": 3,
   "metadata": {},
   "outputs": [
    {
     "name": "stdout",
     "output_type": "stream",
     "text": [
      "<class 'pandas.core.frame.DataFrame'>\n",
      "RangeIndex: 99441 entries, 0 to 99440\n",
      "Data columns (total 8 columns):\n",
      " #   Column                         Non-Null Count  Dtype \n",
      "---  ------                         --------------  ----- \n",
      " 0   order_id                       99441 non-null  object\n",
      " 1   customer_id                    99441 non-null  object\n",
      " 2   order_status                   99441 non-null  object\n",
      " 3   order_purchase_timestamp       99441 non-null  object\n",
      " 4   order_approved_at              99281 non-null  object\n",
      " 5   order_delivered_carrier_date   97658 non-null  object\n",
      " 6   order_delivered_customer_date  96476 non-null  object\n",
      " 7   order_estimated_delivery_date  99441 non-null  object\n",
      "dtypes: object(8)\n",
      "memory usage: 6.1+ MB\n"
     ]
    }
   ],
   "source": [
    "# split by time\n",
    "df2 = pd.read_csv('ecommerce/olist_orders_dataset.csv')\n",
    "df2.info()"
   ]
  },
  {
   "cell_type": "code",
   "execution_count": 12,
   "metadata": {},
   "outputs": [
    {
     "data": {
      "text/plain": [
       "2018-06-01 13:39:44    3\n",
       "2018-08-02 12:06:07    3\n",
       "2018-08-02 12:05:26    3\n",
       "2018-07-28 13:11:22    3\n",
       "2018-02-19 15:37:47    3\n",
       "                      ..\n",
       "2018-07-03 22:19:03    1\n",
       "2017-07-11 11:50:22    1\n",
       "2018-07-17 15:03:18    1\n",
       "2017-03-13 17:03:55    1\n",
       "2018-08-06 22:04:22    1\n",
       "Name: order_purchase_timestamp, Length: 98875, dtype: int64"
      ]
     },
     "execution_count": 12,
     "metadata": {},
     "output_type": "execute_result"
    }
   ],
   "source": [
    "df2['order_purchase_timestamp'].value_counts()"
   ]
  },
  {
   "cell_type": "code",
   "execution_count": 13,
   "metadata": {},
   "outputs": [
    {
     "data": {
      "text/plain": [
       "0    2017-10-02 10:56:33\n",
       "1    2018-07-24 20:41:37\n",
       "2    2018-08-08 08:38:49\n",
       "3    2017-11-18 19:28:06\n",
       "4    2018-02-13 21:18:39\n",
       "Name: order_purchase_timestamp, dtype: object"
      ]
     },
     "execution_count": 13,
     "metadata": {},
     "output_type": "execute_result"
    }
   ],
   "source": [
    "df2['order_purchase_timestamp'].head()"
   ]
  },
  {
   "cell_type": "code",
   "execution_count": 22,
   "metadata": {},
   "outputs": [
    {
     "data": {
      "text/html": [
       "<div>\n",
       "<style scoped>\n",
       "    .dataframe tbody tr th:only-of-type {\n",
       "        vertical-align: middle;\n",
       "    }\n",
       "\n",
       "    .dataframe tbody tr th {\n",
       "        vertical-align: top;\n",
       "    }\n",
       "\n",
       "    .dataframe thead th {\n",
       "        text-align: right;\n",
       "    }\n",
       "</style>\n",
       "<table border=\"1\" class=\"dataframe\">\n",
       "  <thead>\n",
       "    <tr style=\"text-align: right;\">\n",
       "      <th></th>\n",
       "      <th>order_purchase_timestamp</th>\n",
       "    </tr>\n",
       "  </thead>\n",
       "  <tbody>\n",
       "    <tr>\n",
       "      <th>0</th>\n",
       "      <td>2017-10-02 10:56:33</td>\n",
       "    </tr>\n",
       "    <tr>\n",
       "      <th>1</th>\n",
       "      <td>2018-07-24 20:41:37</td>\n",
       "    </tr>\n",
       "    <tr>\n",
       "      <th>2</th>\n",
       "      <td>2018-08-08 08:38:49</td>\n",
       "    </tr>\n",
       "    <tr>\n",
       "      <th>3</th>\n",
       "      <td>2017-11-18 19:28:06</td>\n",
       "    </tr>\n",
       "    <tr>\n",
       "      <th>4</th>\n",
       "      <td>2018-02-13 21:18:39</td>\n",
       "    </tr>\n",
       "    <tr>\n",
       "      <th>...</th>\n",
       "      <td>...</td>\n",
       "    </tr>\n",
       "    <tr>\n",
       "      <th>99436</th>\n",
       "      <td>2017-03-09 09:54:05</td>\n",
       "    </tr>\n",
       "    <tr>\n",
       "      <th>99437</th>\n",
       "      <td>2018-02-06 12:58:58</td>\n",
       "    </tr>\n",
       "    <tr>\n",
       "      <th>99438</th>\n",
       "      <td>2017-08-27 14:46:43</td>\n",
       "    </tr>\n",
       "    <tr>\n",
       "      <th>99439</th>\n",
       "      <td>2018-01-08 21:28:27</td>\n",
       "    </tr>\n",
       "    <tr>\n",
       "      <th>99440</th>\n",
       "      <td>2018-03-08 20:57:30</td>\n",
       "    </tr>\n",
       "  </tbody>\n",
       "</table>\n",
       "<p>99441 rows × 1 columns</p>\n",
       "</div>"
      ],
      "text/plain": [
       "      order_purchase_timestamp\n",
       "0          2017-10-02 10:56:33\n",
       "1          2018-07-24 20:41:37\n",
       "2          2018-08-08 08:38:49\n",
       "3          2017-11-18 19:28:06\n",
       "4          2018-02-13 21:18:39\n",
       "...                        ...\n",
       "99436      2017-03-09 09:54:05\n",
       "99437      2018-02-06 12:58:58\n",
       "99438      2017-08-27 14:46:43\n",
       "99439      2018-01-08 21:28:27\n",
       "99440      2018-03-08 20:57:30\n",
       "\n",
       "[99441 rows x 1 columns]"
      ]
     },
     "execution_count": 22,
     "metadata": {},
     "output_type": "execute_result"
    }
   ],
   "source": [
    "df2_purchase_time = df2.loc[:, ['order_purchase_timestamp']]\n",
    "df2_purchase_time"
   ]
  },
  {
   "cell_type": "code",
   "execution_count": 95,
   "metadata": {},
   "outputs": [],
   "source": [
    "from datetime import datetime  # 将日期+时间转化成数字以进行split\n",
    "time_series = []\n",
    "for i in range(99441):\n",
    "    time_string = str(df2_purchase_time.iloc[i])[28:47]      # 单独分出年-月-日-时-分-秒\n",
    "    time_numerical = datetime.fromisoformat(time_string).timestamp()     # 转成数字\n",
    "    time_series.append(time_numerical)      "
   ]
  },
  {
   "cell_type": "code",
   "execution_count": 64,
   "metadata": {},
   "outputs": [],
   "source": [
    "#[28:47]可行，以下方法验证，slice出来的全部是年月日+时分秒\n",
    "#for i in range(9090, 10040):\n",
    "#    print(str(df2_purchase_time.iloc[i])[28:47])"
   ]
  },
  {
   "cell_type": "code",
   "execution_count": 99,
   "metadata": {},
   "outputs": [],
   "source": [
    "time_series.sort()       # 升序排列"
   ]
  },
  {
   "cell_type": "code",
   "execution_count": 107,
   "metadata": {},
   "outputs": [
    {
     "name": "stdout",
     "output_type": "stream",
     "text": [
      "1516287876.0\n"
     ]
    }
   ],
   "source": [
    "import statistics        # 中位数在此\n",
    "med = statistics.median(time_series)\n",
    "print(med)"
   ]
  },
  {
   "cell_type": "code",
   "execution_count": 109,
   "metadata": {},
   "outputs": [
    {
     "name": "stdout",
     "output_type": "stream",
     "text": [
      "25th percentile of timeseries :  1505198779.0\n",
      "50th percentile of timeseries :  1516287876.0\n",
      "75th percentile of timeseries :  1525419736.0\n"
     ]
    }
   ],
   "source": [
    "print(\"25th percentile of timeseries : \", np.percentile(time_series, 25))\n",
    "print(\"50th percentile of timeseries : \", np.percentile(time_series, 50))\n",
    "print(\"75th percentile of timeseries : \", np.percentile(time_series, 75))"
   ]
  },
  {
   "cell_type": "code",
   "execution_count": 110,
   "metadata": {},
   "outputs": [],
   "source": [
    "# now define train_set and test_set, set at 50th percentile"
   ]
  },
  {
   "cell_type": "code",
   "execution_count": 113,
   "metadata": {},
   "outputs": [],
   "source": [
    "train_set = time_series[:len(time_series)//2]\n",
    "test_set = time_series[len(time_series)//2:]"
   ]
  },
  {
   "cell_type": "code",
   "execution_count": null,
   "metadata": {},
   "outputs": [],
   "source": [
    "#然后卡壳"
   ]
  }
 ],
 "metadata": {
  "kernelspec": {
   "display_name": "Python 3",
   "language": "python",
   "name": "python3"
  },
  "language_info": {
   "codemirror_mode": {
    "name": "ipython",
    "version": 3
   },
   "file_extension": ".py",
   "mimetype": "text/x-python",
   "name": "python",
   "nbconvert_exporter": "python",
   "pygments_lexer": "ipython3",
   "version": "3.8.3"
  }
 },
 "nbformat": 4,
 "nbformat_minor": 4
}
