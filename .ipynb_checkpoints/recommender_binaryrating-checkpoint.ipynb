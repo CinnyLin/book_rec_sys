{
 "cells": [
  {
   "cell_type": "code",
   "execution_count": null,
   "metadata": {},
   "outputs": [],
   "source": []
  },
  {
   "cell_type": "code",
   "execution_count": 44,
   "metadata": {},
   "outputs": [],
   "source": [
    "import pandas as pd\n",
    "import numpy as np\n",
    "import matplotlib.pyplot as plt\n",
    "from collections import Counter\n",
    "\n",
    "from surprise import KNNWithMeans\n",
    "from surprise import Dataset\n",
    "from surprise import accuracy\n",
    "from surprise import Reader\n",
    "import os\n",
    "from surprise.model_selection import train_test_split"
   ]
  },
  {
   "cell_type": "code",
   "execution_count": 10,
   "metadata": {},
   "outputs": [
    {
     "data": {
      "text/html": [
       "<div>\n",
       "<style scoped>\n",
       "    .dataframe tbody tr th:only-of-type {\n",
       "        vertical-align: middle;\n",
       "    }\n",
       "\n",
       "    .dataframe tbody tr th {\n",
       "        vertical-align: top;\n",
       "    }\n",
       "\n",
       "    .dataframe thead th {\n",
       "        text-align: right;\n",
       "    }\n",
       "</style>\n",
       "<table border=\"1\" class=\"dataframe\">\n",
       "  <thead>\n",
       "    <tr style=\"text-align: right;\">\n",
       "      <th></th>\n",
       "      <th>customer_unique_id</th>\n",
       "      <th>product_id</th>\n",
       "      <th>review_score</th>\n",
       "    </tr>\n",
       "  </thead>\n",
       "  <tbody>\n",
       "    <tr>\n",
       "      <th>0</th>\n",
       "      <td>861eff4711a542e4b93843c6dd7febb0</td>\n",
       "      <td>a9516a079e37a9c9c36b9b78b10169e8</td>\n",
       "      <td>4</td>\n",
       "    </tr>\n",
       "    <tr>\n",
       "      <th>9</th>\n",
       "      <td>9afe194fb833f79e300e37e580171f22</td>\n",
       "      <td>78efe838c04bbc568be034082200ac20</td>\n",
       "      <td>5</td>\n",
       "    </tr>\n",
       "    <tr>\n",
       "      <th>18</th>\n",
       "      <td>7f3a72e8f988c6e735ba118d54f47458</td>\n",
       "      <td>99a4788cb24856965c36a24e339b6058</td>\n",
       "      <td>3</td>\n",
       "    </tr>\n",
       "  </tbody>\n",
       "</table>\n",
       "</div>"
      ],
      "text/plain": [
       "                  customer_unique_id                        product_id  \\\n",
       "0   861eff4711a542e4b93843c6dd7febb0  a9516a079e37a9c9c36b9b78b10169e8   \n",
       "9   9afe194fb833f79e300e37e580171f22  78efe838c04bbc568be034082200ac20   \n",
       "18  7f3a72e8f988c6e735ba118d54f47458  99a4788cb24856965c36a24e339b6058   \n",
       "\n",
       "    review_score  \n",
       "0              4  \n",
       "9              5  \n",
       "18             3  "
      ]
     },
     "execution_count": 10,
     "metadata": {},
     "output_type": "execute_result"
    }
   ],
   "source": [
    "# products which has had 50 or more ratings\n",
    "df = pd.read_csv('recommender.csv', index_col=0)\n",
    "df.head(3)"
   ]
  },
  {
   "cell_type": "code",
   "execution_count": 11,
   "metadata": {},
   "outputs": [
    {
     "data": {
      "image/png": "[encoded data removed]",
      "text/plain": [
       "<Figure size 432x288 with 1 Axes>"
      ]
     },
     "metadata": {
      "needs_background": "light"
     },
     "output_type": "display_data"
    }
   ],
   "source": [
    "plt.hist(df['review_score'])\n",
    "plt.xticks([1,2,3,4,5])\n",
    "plt.show()"
   ]
  },
  {
   "cell_type": "code",
   "execution_count": null,
   "metadata": {},
   "outputs": [],
   "source": []
  },
  {
   "cell_type": "markdown",
   "metadata": {},
   "source": [
    "For this task, I don't want to predict rating, but simply want to predict whether someone will buy a product or not. My intuition is that if I set all review scores to be `1`, when I fill out the matrix all the ones that do not have review score will be 0. The output would probably be the probability whether someone would buy a product (becuase range is 0-1). And that compared to the input binary matrix we can use the differnce to calculate how accurate our model was."
   ]
  },
  {
   "cell_type": "code",
   "execution_count": 12,
   "metadata": {},
   "outputs": [
    {
     "data": {
      "text/html": [
       "<div>\n",
       "<style scoped>\n",
       "    .dataframe tbody tr th:only-of-type {\n",
       "        vertical-align: middle;\n",
       "    }\n",
       "\n",
       "    .dataframe tbody tr th {\n",
       "        vertical-align: top;\n",
       "    }\n",
       "\n",
       "    .dataframe thead th {\n",
       "        text-align: right;\n",
       "    }\n",
       "</style>\n",
       "<table border=\"1\" class=\"dataframe\">\n",
       "  <thead>\n",
       "    <tr style=\"text-align: right;\">\n",
       "      <th></th>\n",
       "      <th>customer_unique_id</th>\n",
       "      <th>product_id</th>\n",
       "      <th>review_score</th>\n",
       "    </tr>\n",
       "  </thead>\n",
       "  <tbody>\n",
       "    <tr>\n",
       "      <th>0</th>\n",
       "      <td>861eff4711a542e4b93843c6dd7febb0</td>\n",
       "      <td>a9516a079e37a9c9c36b9b78b10169e8</td>\n",
       "      <td>1</td>\n",
       "    </tr>\n",
       "    <tr>\n",
       "      <th>9</th>\n",
       "      <td>9afe194fb833f79e300e37e580171f22</td>\n",
       "      <td>78efe838c04bbc568be034082200ac20</td>\n",
       "      <td>1</td>\n",
       "    </tr>\n",
       "    <tr>\n",
       "      <th>18</th>\n",
       "      <td>7f3a72e8f988c6e735ba118d54f47458</td>\n",
       "      <td>99a4788cb24856965c36a24e339b6058</td>\n",
       "      <td>1</td>\n",
       "    </tr>\n",
       "  </tbody>\n",
       "</table>\n",
       "</div>"
      ],
      "text/plain": [
       "                  customer_unique_id                        product_id  \\\n",
       "0   861eff4711a542e4b93843c6dd7febb0  a9516a079e37a9c9c36b9b78b10169e8   \n",
       "9   9afe194fb833f79e300e37e580171f22  78efe838c04bbc568be034082200ac20   \n",
       "18  7f3a72e8f988c6e735ba118d54f47458  99a4788cb24856965c36a24e339b6058   \n",
       "\n",
       "    review_score  \n",
       "0              1  \n",
       "9              1  \n",
       "18             1  "
      ]
     },
     "execution_count": 12,
     "metadata": {},
     "output_type": "execute_result"
    }
   ],
   "source": [
    "# set all review_score to 1 to indicate they bought the product before\n",
    "df['review_score'] = 1\n",
    "df.head(3)"
   ]
  },
  {
   "cell_type": "code",
   "execution_count": null,
   "metadata": {},
   "outputs": [],
   "source": []
  },
  {
   "cell_type": "code",
   "execution_count": 13,
   "metadata": {},
   "outputs": [],
   "source": [
    "# reading the dataset\n",
    "reader = Reader(rating_scale=(0, 1))\n",
    "data = Dataset.load_from_df(df, reader)"
   ]
  },
  {
   "cell_type": "code",
   "execution_count": 14,
   "metadata": {},
   "outputs": [],
   "source": [
    "# splitting the dataset\n",
    "trainset, testset = train_test_split(data, test_size=0.3, random_state=10)"
   ]
  },
  {
   "cell_type": "code",
   "execution_count": null,
   "metadata": {},
   "outputs": [],
   "source": []
  },
  {
   "cell_type": "markdown",
   "metadata": {},
   "source": [
    "### item-based"
   ]
  },
  {
   "cell_type": "code",
   "execution_count": 24,
   "metadata": {},
   "outputs": [
    {
     "name": "stdout",
     "output_type": "stream",
     "text": [
      "Computing the pearson similarity matrix...\n",
      "Done computing similarity matrix.\n"
     ]
    },
    {
     "data": {
      "text/plain": [
       "<surprise.prediction_algorithms.knns.KNNWithMeans at 0x1185aed00>"
      ]
     },
     "execution_count": 24,
     "metadata": {},
     "output_type": "execute_result"
    }
   ],
   "source": [
    "# use user_based true/false to switch between user-based or item-based collaborative filtering\n",
    "algo = KNNWithMeans(k=5, sim_options={'name': 'pearson', 'user_based': False})\n",
    "algo.fit(trainset)"
   ]
  },
  {
   "cell_type": "code",
   "execution_count": 25,
   "metadata": {},
   "outputs": [],
   "source": [
    "# run the trained model against the testset\n",
    "test_pred = algo.test(testset)\n",
    "#test_pred"
   ]
  },
  {
   "cell_type": "code",
   "execution_count": 26,
   "metadata": {},
   "outputs": [
    {
     "name": "stdout",
     "output_type": "stream",
     "text": [
      "Item-based Model : Test Set\n",
      "RMSE: 0.0000\n"
     ]
    },
    {
     "data": {
      "text/plain": [
       "0.0"
      ]
     },
     "execution_count": 26,
     "metadata": {},
     "output_type": "execute_result"
    }
   ],
   "source": [
    "# get RMSE\n",
    "print(\"Item-based Model : Test Set\")\n",
    "accuracy.rmse(test_pred, verbose=True)"
   ]
  },
  {
   "cell_type": "code",
   "execution_count": 27,
   "metadata": {},
   "outputs": [
    {
     "name": "stdout",
     "output_type": "stream",
     "text": [
      "MSE: 0.0000\n"
     ]
    },
    {
     "data": {
      "text/plain": [
       "0.0"
      ]
     },
     "execution_count": 27,
     "metadata": {},
     "output_type": "execute_result"
    }
   ],
   "source": [
    "accuracy.mse(test_pred, verbose=True)"
   ]
  },
  {
   "cell_type": "code",
   "execution_count": 28,
   "metadata": {},
   "outputs": [
    {
     "name": "stdout",
     "output_type": "stream",
     "text": [
      "MAE:  0.0000\n"
     ]
    },
    {
     "data": {
      "text/plain": [
       "0.0"
      ]
     },
     "execution_count": 28,
     "metadata": {},
     "output_type": "execute_result"
    }
   ],
   "source": [
    "accuracy.mae(test_pred, verbose=True)"
   ]
  },
  {
   "cell_type": "code",
   "execution_count": null,
   "metadata": {},
   "outputs": [],
   "source": []
  },
  {
   "cell_type": "markdown",
   "metadata": {},
   "source": [
    "### user-based"
   ]
  },
  {
   "cell_type": "code",
   "execution_count": 30,
   "metadata": {},
   "outputs": [
    {
     "name": "stdout",
     "output_type": "stream",
     "text": [
      "Computing the pearson similarity matrix...\n",
      "Done computing similarity matrix.\n"
     ]
    },
    {
     "data": {
      "text/plain": [
       "<surprise.prediction_algorithms.knns.KNNWithMeans at 0x1185aed60>"
      ]
     },
     "execution_count": 30,
     "metadata": {},
     "output_type": "execute_result"
    }
   ],
   "source": [
    "# use user_based true/false to switch between user-based or item-based collaborative filtering\n",
    "algo2 = KNNWithMeans(k=5, sim_options={'name': 'pearson', 'user_based': True})\n",
    "algo2.fit(trainset)"
   ]
  },
  {
   "cell_type": "code",
   "execution_count": 31,
   "metadata": {},
   "outputs": [],
   "source": [
    "# run the trained model against the testset\n",
    "test_pred2 = algo2.test(testset)\n",
    "#test_pred2"
   ]
  },
  {
   "cell_type": "code",
   "execution_count": 32,
   "metadata": {},
   "outputs": [
    {
     "name": "stdout",
     "output_type": "stream",
     "text": [
      "Item-based Model : Test Set\n",
      "RMSE: 0.0000\n"
     ]
    },
    {
     "data": {
      "text/plain": [
       "0.0"
      ]
     },
     "execution_count": 32,
     "metadata": {},
     "output_type": "execute_result"
    }
   ],
   "source": [
    "# get RMSE\n",
    "print(\"User-based Model : Test Set\")\n",
    "accuracy.rmse(test_pred2, verbose=True)"
   ]
  },
  {
   "cell_type": "code",
   "execution_count": 33,
   "metadata": {},
   "outputs": [
    {
     "name": "stdout",
     "output_type": "stream",
     "text": [
      "MAE:  0.0000\n"
     ]
    },
    {
     "data": {
      "text/plain": [
       "0.0"
      ]
     },
     "execution_count": 33,
     "metadata": {},
     "output_type": "execute_result"
    }
   ],
   "source": [
    "accuracy.mae(test_pred2, verbose=True)"
   ]
  },
  {
   "cell_type": "code",
   "execution_count": null,
   "metadata": {},
   "outputs": [],
   "source": []
  },
  {
   "cell_type": "markdown",
   "metadata": {},
   "source": [
    "The reason why the model is 100% accurate is because the only blanks the model needs to fill in are the ones that were originally 1. The model does not need to fill in the 0. Also, there is no non-integer values for input."
   ]
  },
  {
   "cell_type": "code",
   "execution_count": null,
   "metadata": {},
   "outputs": [],
   "source": []
  },
  {
   "cell_type": "code",
   "execution_count": null,
   "metadata": {},
   "outputs": [],
   "source": []
  },
  {
   "cell_type": "markdown",
   "metadata": {},
   "source": [
    "### model-based (item)"
   ]
  },
  {
   "cell_type": "code",
   "execution_count": 50,
   "metadata": {},
   "outputs": [],
   "source": [
    "from surprise import SVD\n",
    "from surprise import SVDpp\n",
    "from surprise import NMF"
   ]
  },
  {
   "cell_type": "code",
   "execution_count": null,
   "metadata": {},
   "outputs": [],
   "source": []
  },
  {
   "cell_type": "code",
   "execution_count": 45,
   "metadata": {},
   "outputs": [
    {
     "name": "stdout",
     "output_type": "stream",
     "text": [
      "Model-based Model : Test Set\n",
      "RMSE: 0.0177\n"
     ]
    },
    {
     "data": {
      "text/plain": [
       "0.017676924730237277"
      ]
     },
     "execution_count": 45,
     "metadata": {},
     "output_type": "execute_result"
    }
   ],
   "source": [
    "algo3 = SVD()\n",
    "algo3.fit(trainset)\n",
    "test_pred3 = algo3.test(testset)\n",
    "print(\"Model-based Model : Test Set\")\n",
    "accuracy.rmse(test_pred3, verbose=True)"
   ]
  },
  {
   "cell_type": "code",
   "execution_count": 47,
   "metadata": {},
   "outputs": [
    {
     "name": "stdout",
     "output_type": "stream",
     "text": [
      "MAE:  0.0067\n"
     ]
    },
    {
     "data": {
      "text/plain": [
       "0.006747285738985833"
      ]
     },
     "execution_count": 47,
     "metadata": {},
     "output_type": "execute_result"
    }
   ],
   "source": [
    "accuracy.mae(test_pred3, verbose=True)"
   ]
  },
  {
   "cell_type": "code",
   "execution_count": 48,
   "metadata": {},
   "outputs": [
    {
     "name": "stdout",
     "output_type": "stream",
     "text": [
      "MSE: 0.0003\n"
     ]
    },
    {
     "data": {
      "text/plain": [
       "0.0003124736679184743"
      ]
     },
     "execution_count": 48,
     "metadata": {},
     "output_type": "execute_result"
    }
   ],
   "source": [
    "accuracy.mse(test_pred3, verbose=True)"
   ]
  },
  {
   "cell_type": "code",
   "execution_count": null,
   "metadata": {},
   "outputs": [],
   "source": []
  },
  {
   "cell_type": "code",
   "execution_count": 51,
   "metadata": {},
   "outputs": [
    {
     "name": "stdout",
     "output_type": "stream",
     "text": [
      "Model-based Model : Test Set\n",
      "RMSE: 0.0149\n"
     ]
    },
    {
     "data": {
      "text/plain": [
       "0.014906577733342771"
      ]
     },
     "execution_count": 51,
     "metadata": {},
     "output_type": "execute_result"
    }
   ],
   "source": [
    "algo4 = SVDpp()\n",
    "algo4.fit(trainset)\n",
    "test_pred4 = algo4.test(testset)\n",
    "print(\"Model-based Model : Test Set\")\n",
    "accuracy.rmse(test_pred4, verbose=True)"
   ]
  },
  {
   "cell_type": "code",
   "execution_count": 52,
   "metadata": {},
   "outputs": [
    {
     "name": "stdout",
     "output_type": "stream",
     "text": [
      "MAE:  0.0082\n"
     ]
    },
    {
     "data": {
      "text/plain": [
       "0.008200865314623496"
      ]
     },
     "execution_count": 52,
     "metadata": {},
     "output_type": "execute_result"
    }
   ],
   "source": [
    "accuracy.mae(test_pred4, verbose=True)"
   ]
  },
  {
   "cell_type": "code",
   "execution_count": 53,
   "metadata": {},
   "outputs": [
    {
     "name": "stdout",
     "output_type": "stream",
     "text": [
      "MSE: 0.0002\n"
     ]
    },
    {
     "data": {
      "text/plain": [
       "0.00022220605972019048"
      ]
     },
     "execution_count": 53,
     "metadata": {},
     "output_type": "execute_result"
    }
   ],
   "source": [
    "accuracy.mse(test_pred4, verbose=True)"
   ]
  },
  {
   "cell_type": "code",
   "execution_count": null,
   "metadata": {},
   "outputs": [],
   "source": []
  },
  {
   "cell_type": "code",
   "execution_count": 54,
   "metadata": {},
   "outputs": [
    {
     "name": "stdout",
     "output_type": "stream",
     "text": [
      "Model-based Model : Test Set\n",
      "RMSE: 0.0326\n"
     ]
    },
    {
     "data": {
      "text/plain": [
       "0.03260275767601255"
      ]
     },
     "execution_count": 54,
     "metadata": {},
     "output_type": "execute_result"
    }
   ],
   "source": [
    "algo5 = NMF()\n",
    "algo5.fit(trainset)\n",
    "test_pred5 = algo5.test(testset)\n",
    "print(\"Model-based Model : Test Set\")\n",
    "accuracy.rmse(test_pred5, verbose=True)"
   ]
  },
  {
   "cell_type": "code",
   "execution_count": 55,
   "metadata": {},
   "outputs": [
    {
     "name": "stdout",
     "output_type": "stream",
     "text": [
      "MAE:  0.0125\n"
     ]
    },
    {
     "data": {
      "text/plain": [
       "0.012470759219833679"
      ]
     },
     "execution_count": 55,
     "metadata": {},
     "output_type": "execute_result"
    }
   ],
   "source": [
    "accuracy.mae(test_pred5, verbose=True)"
   ]
  },
  {
   "cell_type": "code",
   "execution_count": 58,
   "metadata": {},
   "outputs": [
    {
     "name": "stdout",
     "output_type": "stream",
     "text": [
      "MSE: 0.0011\n"
     ]
    },
    {
     "data": {
      "text/plain": [
       "0.001062939808080795"
      ]
     },
     "execution_count": 58,
     "metadata": {},
     "output_type": "execute_result"
    }
   ],
   "source": [
    "accuracy.mse(test_pred5, verbose=True)"
   ]
  },
  {
   "cell_type": "code",
   "execution_count": null,
   "metadata": {},
   "outputs": [],
   "source": []
  },
  {
   "cell_type": "markdown",
   "metadata": {},
   "source": [
    "SVDpp is the best."
   ]
  },
  {
   "cell_type": "code",
   "execution_count": 59,
   "metadata": {},
   "outputs": [
    {
     "ename": "AttributeError",
     "evalue": "'Trainset' object has no attribute 'raw_ratings'",
     "output_type": "error",
     "traceback": [
      "\u001b[0;31m---------------------------------------------------------------------------\u001b[0m",
      "\u001b[0;31mAttributeError\u001b[0m                            Traceback (most recent call last)",
      "\u001b[0;32m<ipython-input-59-b7901a2bfcb8>\u001b[0m in \u001b[0;36m<module>\u001b[0;34m\u001b[0m\n\u001b[1;32m      8\u001b[0m \u001b[0;34m\u001b[0m\u001b[0m\n\u001b[1;32m      9\u001b[0m \u001b[0mgs\u001b[0m \u001b[0;34m=\u001b[0m \u001b[0mGridSearchCV\u001b[0m\u001b[0;34m(\u001b[0m\u001b[0mSVDpp\u001b[0m\u001b[0;34m,\u001b[0m \u001b[0mparam_grid\u001b[0m\u001b[0;34m,\u001b[0m \u001b[0mmeasures\u001b[0m\u001b[0;34m=\u001b[0m\u001b[0;34m[\u001b[0m\u001b[0;34m\"rmse\"\u001b[0m\u001b[0;34m,\u001b[0m \u001b[0;34m\"mae\"\u001b[0m\u001b[0;34m]\u001b[0m\u001b[0;34m,\u001b[0m \u001b[0mcv\u001b[0m\u001b[0;34m=\u001b[0m\u001b[0;36m5\u001b[0m\u001b[0;34m)\u001b[0m\u001b[0;34m\u001b[0m\u001b[0;34m\u001b[0m\u001b[0m\n\u001b[0;32m---> 10\u001b[0;31m \u001b[0mgs\u001b[0m\u001b[0;34m.\u001b[0m\u001b[0mfit\u001b[0m\u001b[0;34m(\u001b[0m\u001b[0mtrainset\u001b[0m\u001b[0;34m)\u001b[0m\u001b[0;34m\u001b[0m\u001b[0;34m\u001b[0m\u001b[0m\n\u001b[0m",
      "\u001b[0;32m/Library/Frameworks/Python.framework/Versions/3.8/lib/python3.8/site-packages/surprise/model_selection/search.py\u001b[0m in \u001b[0;36mfit\u001b[0;34m(self, data)\u001b[0m\n\u001b[1;32m     83\u001b[0m                                    \u001b[0mtestset\u001b[0m\u001b[0;34m,\u001b[0m \u001b[0mself\u001b[0m\u001b[0;34m.\u001b[0m\u001b[0mmeasures\u001b[0m\u001b[0;34m,\u001b[0m\u001b[0;34m\u001b[0m\u001b[0;34m\u001b[0m\u001b[0m\n\u001b[1;32m     84\u001b[0m                                    self.return_train_measures)\n\u001b[0;32m---> 85\u001b[0;31m             for params, (trainset, testset) in product(self.param_combinations,\n\u001b[0m\u001b[1;32m     86\u001b[0m                                                        cv.split(data))\n\u001b[1;32m     87\u001b[0m         )\n",
      "\u001b[0;32m/Library/Frameworks/Python.framework/Versions/3.8/lib/python3.8/site-packages/surprise/model_selection/split.py\u001b[0m in \u001b[0;36msplit\u001b[0;34m(self, data)\u001b[0m\n\u001b[1;32m     93\u001b[0m         \"\"\"\n\u001b[1;32m     94\u001b[0m \u001b[0;34m\u001b[0m\u001b[0m\n\u001b[0;32m---> 95\u001b[0;31m         \u001b[0;32mif\u001b[0m \u001b[0mself\u001b[0m\u001b[0;34m.\u001b[0m\u001b[0mn_splits\u001b[0m \u001b[0;34m>\u001b[0m \u001b[0mlen\u001b[0m\u001b[0;34m(\u001b[0m\u001b[0mdata\u001b[0m\u001b[0;34m.\u001b[0m\u001b[0mraw_ratings\u001b[0m\u001b[0;34m)\u001b[0m \u001b[0;32mor\u001b[0m \u001b[0mself\u001b[0m\u001b[0;34m.\u001b[0m\u001b[0mn_splits\u001b[0m \u001b[0;34m<\u001b[0m \u001b[0;36m2\u001b[0m\u001b[0;34m:\u001b[0m\u001b[0;34m\u001b[0m\u001b[0;34m\u001b[0m\u001b[0m\n\u001b[0m\u001b[1;32m     96\u001b[0m             raise ValueError('Incorrect value for n_splits={0}. '\n\u001b[1;32m     97\u001b[0m                              \u001b[0;34m'Must be >=2 and less than the number '\u001b[0m\u001b[0;34m\u001b[0m\u001b[0;34m\u001b[0m\u001b[0m\n",
      "\u001b[0;31mAttributeError\u001b[0m: 'Trainset' object has no attribute 'raw_ratings'"
     ]
    }
   ],
   "source": [
    "from surprise.model_selection import GridSearchCV\n",
    "\n",
    "param_grid = {\n",
    "    \"n_epochs\": [5, 10],\n",
    "    \"lr_all\": [0.002, 0.005],\n",
    "    \"reg_all\": [0.4, 0.6]\n",
    "}\n",
    "\n",
    "gs = GridSearchCV(SVDpp, param_grid, measures=[\"rmse\", \"mae\"], cv=5)\n",
    "gs.fit(trainset)"
   ]
  },
  {
   "cell_type": "code",
   "execution_count": null,
   "metadata": {},
   "outputs": [],
   "source": []
  },
  {
   "cell_type": "code",
   "execution_count": null,
   "metadata": {},
   "outputs": [],
   "source": []
  },
  {
   "cell_type": "code",
   "execution_count": null,
   "metadata": {},
   "outputs": [],
   "source": []
  },
  {
   "cell_type": "code",
   "execution_count": null,
   "metadata": {},
   "outputs": [],
   "source": []
  },
  {
   "cell_type": "code",
   "execution_count": null,
   "metadata": {},
   "outputs": [],
   "source": []
  },
  {
   "cell_type": "code",
   "execution_count": null,
   "metadata": {},
   "outputs": [],
   "source": []
  },
  {
   "cell_type": "code",
   "execution_count": null,
   "metadata": {},
   "outputs": [],
   "source": []
  },
  {
   "cell_type": "code",
   "execution_count": null,
   "metadata": {},
   "outputs": [],
   "source": []
  },
  {
   "cell_type": "code",
   "execution_count": 34,
   "metadata": {},
   "outputs": [
    {
     "data": {
      "text/html": [
       "<div>\n",
       "<style scoped>\n",
       "    .dataframe tbody tr th:only-of-type {\n",
       "        vertical-align: middle;\n",
       "    }\n",
       "\n",
       "    .dataframe tbody tr th {\n",
       "        vertical-align: top;\n",
       "    }\n",
       "\n",
       "    .dataframe thead th {\n",
       "        text-align: right;\n",
       "    }\n",
       "</style>\n",
       "<table border=\"1\" class=\"dataframe\">\n",
       "  <thead>\n",
       "    <tr style=\"text-align: right;\">\n",
       "      <th>product_id</th>\n",
       "      <th>0152f69b6cf919bcdaf117aa8c43e5a2</th>\n",
       "      <th>054515fd15bc1a2029f10de97ffa9120</th>\n",
       "      <th>06c6e01186af8b98ee1fc9e01f9471e9</th>\n",
       "      <th>06edb72f1e0c64b14c5b79353f7abea3</th>\n",
       "      <th>08574b074924071f4e201e151b152b4e</th>\n",
       "      <th>0a57f7d2c983bcf8188589a5fea4a8da</th>\n",
       "      <th>0aabfb375647d9738ad0f7b4ea3653b1</th>\n",
       "      <th>0bcc3eeca39e1064258aa1e932269894</th>\n",
       "      <th>0d85c435fd60b277ffb9e9b0f88f927a</th>\n",
       "      <th>11875b30b49585209e608f40e8082e65</th>\n",
       "      <th>...</th>\n",
       "      <th>f35927953ed82e19d06ad3aac2f06353</th>\n",
       "      <th>f40876e0ef3cd5f9132b1f16b04b1346</th>\n",
       "      <th>f4f67ccaece962d013a4e1d7dc3a61f7</th>\n",
       "      <th>f71973c922ccaab05514a36a8bc741b8</th>\n",
       "      <th>f71f42e2381752836563b70beb542f80</th>\n",
       "      <th>f7a17d2c51d9df89a4f1711c4ac17f33</th>\n",
       "      <th>fb55982be901439613a95940feefd9ee</th>\n",
       "      <th>fbc1488c1a1e72ba175f53ab29a248e8</th>\n",
       "      <th>fbce4c4cb307679d89a3bf3d3bb353b9</th>\n",
       "      <th>fc1d8637c0268af3db482c14b7ef8e75</th>\n",
       "    </tr>\n",
       "    <tr>\n",
       "      <th>customer_unique_id</th>\n",
       "      <th></th>\n",
       "      <th></th>\n",
       "      <th></th>\n",
       "      <th></th>\n",
       "      <th></th>\n",
       "      <th></th>\n",
       "      <th></th>\n",
       "      <th></th>\n",
       "      <th></th>\n",
       "      <th></th>\n",
       "      <th></th>\n",
       "      <th></th>\n",
       "      <th></th>\n",
       "      <th></th>\n",
       "      <th></th>\n",
       "      <th></th>\n",
       "      <th></th>\n",
       "      <th></th>\n",
       "      <th></th>\n",
       "      <th></th>\n",
       "      <th></th>\n",
       "    </tr>\n",
       "  </thead>\n",
       "  <tbody>\n",
       "    <tr>\n",
       "      <th>000ed48ceeb6f4bf8ad021a10a3c7b43</th>\n",
       "      <td>0</td>\n",
       "      <td>0</td>\n",
       "      <td>0</td>\n",
       "      <td>0</td>\n",
       "      <td>0</td>\n",
       "      <td>0</td>\n",
       "      <td>0</td>\n",
       "      <td>0</td>\n",
       "      <td>0</td>\n",
       "      <td>0</td>\n",
       "      <td>...</td>\n",
       "      <td>0</td>\n",
       "      <td>0</td>\n",
       "      <td>0</td>\n",
       "      <td>0</td>\n",
       "      <td>0</td>\n",
       "      <td>0</td>\n",
       "      <td>0</td>\n",
       "      <td>0</td>\n",
       "      <td>0</td>\n",
       "      <td>0</td>\n",
       "    </tr>\n",
       "    <tr>\n",
       "      <th>001926cef41060fae572e2e7b30bd2a4</th>\n",
       "      <td>0</td>\n",
       "      <td>0</td>\n",
       "      <td>0</td>\n",
       "      <td>0</td>\n",
       "      <td>0</td>\n",
       "      <td>0</td>\n",
       "      <td>0</td>\n",
       "      <td>0</td>\n",
       "      <td>0</td>\n",
       "      <td>0</td>\n",
       "      <td>...</td>\n",
       "      <td>0</td>\n",
       "      <td>0</td>\n",
       "      <td>0</td>\n",
       "      <td>0</td>\n",
       "      <td>0</td>\n",
       "      <td>0</td>\n",
       "      <td>0</td>\n",
       "      <td>0</td>\n",
       "      <td>0</td>\n",
       "      <td>0</td>\n",
       "    </tr>\n",
       "    <tr>\n",
       "      <th>00196c4c9a3af7dd2ad10eade69c926f</th>\n",
       "      <td>0</td>\n",
       "      <td>0</td>\n",
       "      <td>0</td>\n",
       "      <td>0</td>\n",
       "      <td>0</td>\n",
       "      <td>0</td>\n",
       "      <td>0</td>\n",
       "      <td>0</td>\n",
       "      <td>0</td>\n",
       "      <td>0</td>\n",
       "      <td>...</td>\n",
       "      <td>0</td>\n",
       "      <td>0</td>\n",
       "      <td>0</td>\n",
       "      <td>0</td>\n",
       "      <td>0</td>\n",
       "      <td>0</td>\n",
       "      <td>0</td>\n",
       "      <td>0</td>\n",
       "      <td>0</td>\n",
       "      <td>0</td>\n",
       "    </tr>\n",
       "  </tbody>\n",
       "</table>\n",
       "<p>3 rows × 176 columns</p>\n",
       "</div>"
      ],
      "text/plain": [
       "product_id                        0152f69b6cf919bcdaf117aa8c43e5a2  \\\n",
       "customer_unique_id                                                   \n",
       "000ed48ceeb6f4bf8ad021a10a3c7b43                                 0   \n",
       "001926cef41060fae572e2e7b30bd2a4                                 0   \n",
       "00196c4c9a3af7dd2ad10eade69c926f                                 0   \n",
       "\n",
       "product_id                        054515fd15bc1a2029f10de97ffa9120  \\\n",
       "customer_unique_id                                                   \n",
       "000ed48ceeb6f4bf8ad021a10a3c7b43                                 0   \n",
       "001926cef41060fae572e2e7b30bd2a4                                 0   \n",
       "00196c4c9a3af7dd2ad10eade69c926f                                 0   \n",
       "\n",
       "product_id                        06c6e01186af8b98ee1fc9e01f9471e9  \\\n",
       "customer_unique_id                                                   \n",
       "000ed48ceeb6f4bf8ad021a10a3c7b43                                 0   \n",
       "001926cef41060fae572e2e7b30bd2a4                                 0   \n",
       "00196c4c9a3af7dd2ad10eade69c926f                                 0   \n",
       "\n",
       "product_id                        06edb72f1e0c64b14c5b79353f7abea3  \\\n",
       "customer_unique_id                                                   \n",
       "000ed48ceeb6f4bf8ad021a10a3c7b43                                 0   \n",
       "001926cef41060fae572e2e7b30bd2a4                                 0   \n",
       "00196c4c9a3af7dd2ad10eade69c926f                                 0   \n",
       "\n",
       "product_id                        08574b074924071f4e201e151b152b4e  \\\n",
       "customer_unique_id                                                   \n",
       "000ed48ceeb6f4bf8ad021a10a3c7b43                                 0   \n",
       "001926cef41060fae572e2e7b30bd2a4                                 0   \n",
       "00196c4c9a3af7dd2ad10eade69c926f                                 0   \n",
       "\n",
       "product_id                        0a57f7d2c983bcf8188589a5fea4a8da  \\\n",
       "customer_unique_id                                                   \n",
       "000ed48ceeb6f4bf8ad021a10a3c7b43                                 0   \n",
       "001926cef41060fae572e2e7b30bd2a4                                 0   \n",
       "00196c4c9a3af7dd2ad10eade69c926f                                 0   \n",
       "\n",
       "product_id                        0aabfb375647d9738ad0f7b4ea3653b1  \\\n",
       "customer_unique_id                                                   \n",
       "000ed48ceeb6f4bf8ad021a10a3c7b43                                 0   \n",
       "001926cef41060fae572e2e7b30bd2a4                                 0   \n",
       "00196c4c9a3af7dd2ad10eade69c926f                                 0   \n",
       "\n",
       "product_id                        0bcc3eeca39e1064258aa1e932269894  \\\n",
       "customer_unique_id                                                   \n",
       "000ed48ceeb6f4bf8ad021a10a3c7b43                                 0   \n",
       "001926cef41060fae572e2e7b30bd2a4                                 0   \n",
       "00196c4c9a3af7dd2ad10eade69c926f                                 0   \n",
       "\n",
       "product_id                        0d85c435fd60b277ffb9e9b0f88f927a  \\\n",
       "customer_unique_id                                                   \n",
       "000ed48ceeb6f4bf8ad021a10a3c7b43                                 0   \n",
       "001926cef41060fae572e2e7b30bd2a4                                 0   \n",
       "00196c4c9a3af7dd2ad10eade69c926f                                 0   \n",
       "\n",
       "product_id                        11875b30b49585209e608f40e8082e65  ...  \\\n",
       "customer_unique_id                                                  ...   \n",
       "000ed48ceeb6f4bf8ad021a10a3c7b43                                 0  ...   \n",
       "001926cef41060fae572e2e7b30bd2a4                                 0  ...   \n",
       "00196c4c9a3af7dd2ad10eade69c926f                                 0  ...   \n",
       "\n",
       "product_id                        f35927953ed82e19d06ad3aac2f06353  \\\n",
       "customer_unique_id                                                   \n",
       "000ed48ceeb6f4bf8ad021a10a3c7b43                                 0   \n",
       "001926cef41060fae572e2e7b30bd2a4                                 0   \n",
       "00196c4c9a3af7dd2ad10eade69c926f                                 0   \n",
       "\n",
       "product_id                        f40876e0ef3cd5f9132b1f16b04b1346  \\\n",
       "customer_unique_id                                                   \n",
       "000ed48ceeb6f4bf8ad021a10a3c7b43                                 0   \n",
       "001926cef41060fae572e2e7b30bd2a4                                 0   \n",
       "00196c4c9a3af7dd2ad10eade69c926f                                 0   \n",
       "\n",
       "product_id                        f4f67ccaece962d013a4e1d7dc3a61f7  \\\n",
       "customer_unique_id                                                   \n",
       "000ed48ceeb6f4bf8ad021a10a3c7b43                                 0   \n",
       "001926cef41060fae572e2e7b30bd2a4                                 0   \n",
       "00196c4c9a3af7dd2ad10eade69c926f                                 0   \n",
       "\n",
       "product_id                        f71973c922ccaab05514a36a8bc741b8  \\\n",
       "customer_unique_id                                                   \n",
       "000ed48ceeb6f4bf8ad021a10a3c7b43                                 0   \n",
       "001926cef41060fae572e2e7b30bd2a4                                 0   \n",
       "00196c4c9a3af7dd2ad10eade69c926f                                 0   \n",
       "\n",
       "product_id                        f71f42e2381752836563b70beb542f80  \\\n",
       "customer_unique_id                                                   \n",
       "000ed48ceeb6f4bf8ad021a10a3c7b43                                 0   \n",
       "001926cef41060fae572e2e7b30bd2a4                                 0   \n",
       "00196c4c9a3af7dd2ad10eade69c926f                                 0   \n",
       "\n",
       "product_id                        f7a17d2c51d9df89a4f1711c4ac17f33  \\\n",
       "customer_unique_id                                                   \n",
       "000ed48ceeb6f4bf8ad021a10a3c7b43                                 0   \n",
       "001926cef41060fae572e2e7b30bd2a4                                 0   \n",
       "00196c4c9a3af7dd2ad10eade69c926f                                 0   \n",
       "\n",
       "product_id                        fb55982be901439613a95940feefd9ee  \\\n",
       "customer_unique_id                                                   \n",
       "000ed48ceeb6f4bf8ad021a10a3c7b43                                 0   \n",
       "001926cef41060fae572e2e7b30bd2a4                                 0   \n",
       "00196c4c9a3af7dd2ad10eade69c926f                                 0   \n",
       "\n",
       "product_id                        fbc1488c1a1e72ba175f53ab29a248e8  \\\n",
       "customer_unique_id                                                   \n",
       "000ed48ceeb6f4bf8ad021a10a3c7b43                                 0   \n",
       "001926cef41060fae572e2e7b30bd2a4                                 0   \n",
       "00196c4c9a3af7dd2ad10eade69c926f                                 0   \n",
       "\n",
       "product_id                        fbce4c4cb307679d89a3bf3d3bb353b9  \\\n",
       "customer_unique_id                                                   \n",
       "000ed48ceeb6f4bf8ad021a10a3c7b43                                 0   \n",
       "001926cef41060fae572e2e7b30bd2a4                                 0   \n",
       "00196c4c9a3af7dd2ad10eade69c926f                                 0   \n",
       "\n",
       "product_id                        fc1d8637c0268af3db482c14b7ef8e75  \n",
       "customer_unique_id                                                  \n",
       "000ed48ceeb6f4bf8ad021a10a3c7b43                                 0  \n",
       "001926cef41060fae572e2e7b30bd2a4                                 0  \n",
       "00196c4c9a3af7dd2ad10eade69c926f                                 0  \n",
       "\n",
       "[3 rows x 176 columns]"
      ]
     },
     "execution_count": 34,
     "metadata": {},
     "output_type": "execute_result"
    }
   ],
   "source": [
    "ratings_matrix = df.pivot_table(values='review_score', index='customer_unique_id', columns='product_id', fill_value=0)\n",
    "ratings_matrix.head(3)"
   ]
  },
  {
   "cell_type": "code",
   "execution_count": 35,
   "metadata": {},
   "outputs": [
    {
     "data": {
      "text/plain": [
       "(16443, 176)"
      ]
     },
     "execution_count": 35,
     "metadata": {},
     "output_type": "execute_result"
    }
   ],
   "source": [
    "ratings_matrix.shape"
   ]
  },
  {
   "cell_type": "code",
   "execution_count": 36,
   "metadata": {},
   "outputs": [
    {
     "data": {
      "text/html": [
       "<div>\n",
       "<style scoped>\n",
       "    .dataframe tbody tr th:only-of-type {\n",
       "        vertical-align: middle;\n",
       "    }\n",
       "\n",
       "    .dataframe tbody tr th {\n",
       "        vertical-align: top;\n",
       "    }\n",
       "\n",
       "    .dataframe thead th {\n",
       "        text-align: right;\n",
       "    }\n",
       "</style>\n",
       "<table border=\"1\" class=\"dataframe\">\n",
       "  <thead>\n",
       "    <tr style=\"text-align: right;\">\n",
       "      <th>customer_unique_id</th>\n",
       "      <th>000ed48ceeb6f4bf8ad021a10a3c7b43</th>\n",
       "      <th>001926cef41060fae572e2e7b30bd2a4</th>\n",
       "      <th>00196c4c9a3af7dd2ad10eade69c926f</th>\n",
       "      <th>001ae5a1788703d64536c30362503e49</th>\n",
       "      <th>002ae492472e45ad6ebeb7a625409392</th>\n",
       "      <th>002bdeb33da5b1b3ce8b9c822f749c82</th>\n",
       "      <th>002cdf87d4c03f08f7eb4551a923affc</th>\n",
       "      <th>002d71b244beb91ca7030b15ab526446</th>\n",
       "      <th>002ed12115742033f015cb3c269ccf68</th>\n",
       "      <th>002ef00822613c94613e60e03b169fef</th>\n",
       "      <th>...</th>\n",
       "      <th>ffe6305176b9431a3eda3cf8904d7eb7</th>\n",
       "      <th>ffe6efca3c7e6a06bad0a6a883280a93</th>\n",
       "      <th>ffe96c782a5bc522bd8bad3bc638981a</th>\n",
       "      <th>ffe9be10b9a58c5464d833e8b1b2c632</th>\n",
       "      <th>ffe9e41fbd14db4a7361347c56af5447</th>\n",
       "      <th>ffee94d548cef05b146d825a7648dab4</th>\n",
       "      <th>ffeefd086fc667aaf6595c8fe3d22d54</th>\n",
       "      <th>fff1afc79f6b5db1e235a4a6c30ceda7</th>\n",
       "      <th>ffff5962728ec6157033ef9805bacc48</th>\n",
       "      <th>ffffd2657e2aad2907e67c3e9daecbeb</th>\n",
       "    </tr>\n",
       "    <tr>\n",
       "      <th>product_id</th>\n",
       "      <th></th>\n",
       "      <th></th>\n",
       "      <th></th>\n",
       "      <th></th>\n",
       "      <th></th>\n",
       "      <th></th>\n",
       "      <th></th>\n",
       "      <th></th>\n",
       "      <th></th>\n",
       "      <th></th>\n",
       "      <th></th>\n",
       "      <th></th>\n",
       "      <th></th>\n",
       "      <th></th>\n",
       "      <th></th>\n",
       "      <th></th>\n",
       "      <th></th>\n",
       "      <th></th>\n",
       "      <th></th>\n",
       "      <th></th>\n",
       "      <th></th>\n",
       "    </tr>\n",
       "  </thead>\n",
       "  <tbody>\n",
       "    <tr>\n",
       "      <th>0152f69b6cf919bcdaf117aa8c43e5a2</th>\n",
       "      <td>0</td>\n",
       "      <td>0</td>\n",
       "      <td>0</td>\n",
       "      <td>0</td>\n",
       "      <td>0</td>\n",
       "      <td>0</td>\n",
       "      <td>0</td>\n",
       "      <td>0</td>\n",
       "      <td>0</td>\n",
       "      <td>0</td>\n",
       "      <td>...</td>\n",
       "      <td>0</td>\n",
       "      <td>0</td>\n",
       "      <td>0</td>\n",
       "      <td>0</td>\n",
       "      <td>0</td>\n",
       "      <td>0</td>\n",
       "      <td>0</td>\n",
       "      <td>0</td>\n",
       "      <td>0</td>\n",
       "      <td>0</td>\n",
       "    </tr>\n",
       "    <tr>\n",
       "      <th>054515fd15bc1a2029f10de97ffa9120</th>\n",
       "      <td>0</td>\n",
       "      <td>0</td>\n",
       "      <td>0</td>\n",
       "      <td>0</td>\n",
       "      <td>0</td>\n",
       "      <td>0</td>\n",
       "      <td>0</td>\n",
       "      <td>0</td>\n",
       "      <td>0</td>\n",
       "      <td>0</td>\n",
       "      <td>...</td>\n",
       "      <td>0</td>\n",
       "      <td>0</td>\n",
       "      <td>0</td>\n",
       "      <td>0</td>\n",
       "      <td>0</td>\n",
       "      <td>0</td>\n",
       "      <td>0</td>\n",
       "      <td>0</td>\n",
       "      <td>0</td>\n",
       "      <td>0</td>\n",
       "    </tr>\n",
       "    <tr>\n",
       "      <th>06c6e01186af8b98ee1fc9e01f9471e9</th>\n",
       "      <td>0</td>\n",
       "      <td>0</td>\n",
       "      <td>0</td>\n",
       "      <td>0</td>\n",
       "      <td>0</td>\n",
       "      <td>0</td>\n",
       "      <td>0</td>\n",
       "      <td>0</td>\n",
       "      <td>0</td>\n",
       "      <td>0</td>\n",
       "      <td>...</td>\n",
       "      <td>0</td>\n",
       "      <td>0</td>\n",
       "      <td>0</td>\n",
       "      <td>0</td>\n",
       "      <td>0</td>\n",
       "      <td>0</td>\n",
       "      <td>0</td>\n",
       "      <td>0</td>\n",
       "      <td>0</td>\n",
       "      <td>0</td>\n",
       "    </tr>\n",
       "  </tbody>\n",
       "</table>\n",
       "<p>3 rows × 16443 columns</p>\n",
       "</div>"
      ],
      "text/plain": [
       "customer_unique_id                000ed48ceeb6f4bf8ad021a10a3c7b43  \\\n",
       "product_id                                                           \n",
       "0152f69b6cf919bcdaf117aa8c43e5a2                                 0   \n",
       "054515fd15bc1a2029f10de97ffa9120                                 0   \n",
       "06c6e01186af8b98ee1fc9e01f9471e9                                 0   \n",
       "\n",
       "customer_unique_id                001926cef41060fae572e2e7b30bd2a4  \\\n",
       "product_id                                                           \n",
       "0152f69b6cf919bcdaf117aa8c43e5a2                                 0   \n",
       "054515fd15bc1a2029f10de97ffa9120                                 0   \n",
       "06c6e01186af8b98ee1fc9e01f9471e9                                 0   \n",
       "\n",
       "customer_unique_id                00196c4c9a3af7dd2ad10eade69c926f  \\\n",
       "product_id                                                           \n",
       "0152f69b6cf919bcdaf117aa8c43e5a2                                 0   \n",
       "054515fd15bc1a2029f10de97ffa9120                                 0   \n",
       "06c6e01186af8b98ee1fc9e01f9471e9                                 0   \n",
       "\n",
       "customer_unique_id                001ae5a1788703d64536c30362503e49  \\\n",
       "product_id                                                           \n",
       "0152f69b6cf919bcdaf117aa8c43e5a2                                 0   \n",
       "054515fd15bc1a2029f10de97ffa9120                                 0   \n",
       "06c6e01186af8b98ee1fc9e01f9471e9                                 0   \n",
       "\n",
       "customer_unique_id                002ae492472e45ad6ebeb7a625409392  \\\n",
       "product_id                                                           \n",
       "0152f69b6cf919bcdaf117aa8c43e5a2                                 0   \n",
       "054515fd15bc1a2029f10de97ffa9120                                 0   \n",
       "06c6e01186af8b98ee1fc9e01f9471e9                                 0   \n",
       "\n",
       "customer_unique_id                002bdeb33da5b1b3ce8b9c822f749c82  \\\n",
       "product_id                                                           \n",
       "0152f69b6cf919bcdaf117aa8c43e5a2                                 0   \n",
       "054515fd15bc1a2029f10de97ffa9120                                 0   \n",
       "06c6e01186af8b98ee1fc9e01f9471e9                                 0   \n",
       "\n",
       "customer_unique_id                002cdf87d4c03f08f7eb4551a923affc  \\\n",
       "product_id                                                           \n",
       "0152f69b6cf919bcdaf117aa8c43e5a2                                 0   \n",
       "054515fd15bc1a2029f10de97ffa9120                                 0   \n",
       "06c6e01186af8b98ee1fc9e01f9471e9                                 0   \n",
       "\n",
       "customer_unique_id                002d71b244beb91ca7030b15ab526446  \\\n",
       "product_id                                                           \n",
       "0152f69b6cf919bcdaf117aa8c43e5a2                                 0   \n",
       "054515fd15bc1a2029f10de97ffa9120                                 0   \n",
       "06c6e01186af8b98ee1fc9e01f9471e9                                 0   \n",
       "\n",
       "customer_unique_id                002ed12115742033f015cb3c269ccf68  \\\n",
       "product_id                                                           \n",
       "0152f69b6cf919bcdaf117aa8c43e5a2                                 0   \n",
       "054515fd15bc1a2029f10de97ffa9120                                 0   \n",
       "06c6e01186af8b98ee1fc9e01f9471e9                                 0   \n",
       "\n",
       "customer_unique_id                002ef00822613c94613e60e03b169fef  ...  \\\n",
       "product_id                                                          ...   \n",
       "0152f69b6cf919bcdaf117aa8c43e5a2                                 0  ...   \n",
       "054515fd15bc1a2029f10de97ffa9120                                 0  ...   \n",
       "06c6e01186af8b98ee1fc9e01f9471e9                                 0  ...   \n",
       "\n",
       "customer_unique_id                ffe6305176b9431a3eda3cf8904d7eb7  \\\n",
       "product_id                                                           \n",
       "0152f69b6cf919bcdaf117aa8c43e5a2                                 0   \n",
       "054515fd15bc1a2029f10de97ffa9120                                 0   \n",
       "06c6e01186af8b98ee1fc9e01f9471e9                                 0   \n",
       "\n",
       "customer_unique_id                ffe6efca3c7e6a06bad0a6a883280a93  \\\n",
       "product_id                                                           \n",
       "0152f69b6cf919bcdaf117aa8c43e5a2                                 0   \n",
       "054515fd15bc1a2029f10de97ffa9120                                 0   \n",
       "06c6e01186af8b98ee1fc9e01f9471e9                                 0   \n",
       "\n",
       "customer_unique_id                ffe96c782a5bc522bd8bad3bc638981a  \\\n",
       "product_id                                                           \n",
       "0152f69b6cf919bcdaf117aa8c43e5a2                                 0   \n",
       "054515fd15bc1a2029f10de97ffa9120                                 0   \n",
       "06c6e01186af8b98ee1fc9e01f9471e9                                 0   \n",
       "\n",
       "customer_unique_id                ffe9be10b9a58c5464d833e8b1b2c632  \\\n",
       "product_id                                                           \n",
       "0152f69b6cf919bcdaf117aa8c43e5a2                                 0   \n",
       "054515fd15bc1a2029f10de97ffa9120                                 0   \n",
       "06c6e01186af8b98ee1fc9e01f9471e9                                 0   \n",
       "\n",
       "customer_unique_id                ffe9e41fbd14db4a7361347c56af5447  \\\n",
       "product_id                                                           \n",
       "0152f69b6cf919bcdaf117aa8c43e5a2                                 0   \n",
       "054515fd15bc1a2029f10de97ffa9120                                 0   \n",
       "06c6e01186af8b98ee1fc9e01f9471e9                                 0   \n",
       "\n",
       "customer_unique_id                ffee94d548cef05b146d825a7648dab4  \\\n",
       "product_id                                                           \n",
       "0152f69b6cf919bcdaf117aa8c43e5a2                                 0   \n",
       "054515fd15bc1a2029f10de97ffa9120                                 0   \n",
       "06c6e01186af8b98ee1fc9e01f9471e9                                 0   \n",
       "\n",
       "customer_unique_id                ffeefd086fc667aaf6595c8fe3d22d54  \\\n",
       "product_id                                                           \n",
       "0152f69b6cf919bcdaf117aa8c43e5a2                                 0   \n",
       "054515fd15bc1a2029f10de97ffa9120                                 0   \n",
       "06c6e01186af8b98ee1fc9e01f9471e9                                 0   \n",
       "\n",
       "customer_unique_id                fff1afc79f6b5db1e235a4a6c30ceda7  \\\n",
       "product_id                                                           \n",
       "0152f69b6cf919bcdaf117aa8c43e5a2                                 0   \n",
       "054515fd15bc1a2029f10de97ffa9120                                 0   \n",
       "06c6e01186af8b98ee1fc9e01f9471e9                                 0   \n",
       "\n",
       "customer_unique_id                ffff5962728ec6157033ef9805bacc48  \\\n",
       "product_id                                                           \n",
       "0152f69b6cf919bcdaf117aa8c43e5a2                                 0   \n",
       "054515fd15bc1a2029f10de97ffa9120                                 0   \n",
       "06c6e01186af8b98ee1fc9e01f9471e9                                 0   \n",
       "\n",
       "customer_unique_id                ffffd2657e2aad2907e67c3e9daecbeb  \n",
       "product_id                                                          \n",
       "0152f69b6cf919bcdaf117aa8c43e5a2                                 0  \n",
       "054515fd15bc1a2029f10de97ffa9120                                 0  \n",
       "06c6e01186af8b98ee1fc9e01f9471e9                                 0  \n",
       "\n",
       "[3 rows x 16443 columns]"
      ]
     },
     "execution_count": 36,
     "metadata": {},
     "output_type": "execute_result"
    }
   ],
   "source": [
    "X1 = ratings_matrix.T\n",
    "X1.head(3)"
   ]
  },
  {
   "cell_type": "code",
   "execution_count": 37,
   "metadata": {},
   "outputs": [
    {
     "data": {
      "text/plain": [
       "(176, 16443)"
      ]
     },
     "execution_count": 37,
     "metadata": {},
     "output_type": "execute_result"
    }
   ],
   "source": [
    "X1.shape"
   ]
  },
  {
   "cell_type": "code",
   "execution_count": null,
   "metadata": {},
   "outputs": [],
   "source": []
  },
  {
   "cell_type": "code",
   "execution_count": 38,
   "metadata": {},
   "outputs": [
    {
     "data": {
      "text/plain": [
       "(176, 10)"
      ]
     },
     "execution_count": 38,
     "metadata": {},
     "output_type": "execute_result"
    }
   ],
   "source": [
    "# decomposing the Matrix\n",
    "from sklearn.decomposition import TruncatedSVD\n",
    "SVD = TruncatedSVD(n_components=10)\n",
    "decomposed_matrix = SVD.fit_transform(X1)\n",
    "decomposed_matrix.shape"
   ]
  },
  {
   "cell_type": "code",
   "execution_count": 39,
   "metadata": {},
   "outputs": [
    {
     "data": {
      "text/plain": [
       "(176, 176)"
      ]
     },
     "execution_count": 39,
     "metadata": {},
     "output_type": "execute_result"
    }
   ],
   "source": [
    "# correlation Matrix\n",
    "correlation_matrix = np.corrcoef(decomposed_matrix)\n",
    "correlation_matrix.shape"
   ]
  },
  {
   "cell_type": "code",
   "execution_count": 40,
   "metadata": {},
   "outputs": [
    {
     "data": {
      "text/plain": [
       "'6c3effec7c8ddba466d4f03f982c7aa3'"
      ]
     },
     "execution_count": 40,
     "metadata": {},
     "output_type": "execute_result"
    }
   ],
   "source": [
    "X1.index[75]"
   ]
  },
  {
   "cell_type": "markdown",
   "metadata": {},
   "source": [
    "Index # of product ID purchased by customer"
   ]
  },
  {
   "cell_type": "code",
   "execution_count": 41,
   "metadata": {},
   "outputs": [
    {
     "data": {
      "text/plain": [
       "75"
      ]
     },
     "execution_count": 41,
     "metadata": {},
     "output_type": "execute_result"
    }
   ],
   "source": [
    "i = X1.index[75]\n",
    "\n",
    "product_names = list(X1.index)\n",
    "product_ID = product_names.index(i)\n",
    "product_ID"
   ]
  },
  {
   "cell_type": "markdown",
   "metadata": {},
   "source": [
    "Correlation for all items with the item purchased by this customer based on items rated by other customers people who bought the same product"
   ]
  },
  {
   "cell_type": "code",
   "execution_count": 42,
   "metadata": {},
   "outputs": [
    {
     "data": {
      "text/plain": [
       "(176,)"
      ]
     },
     "execution_count": 42,
     "metadata": {},
     "output_type": "execute_result"
    }
   ],
   "source": [
    "correlation_product_ID = correlation_matrix[product_ID]\n",
    "correlation_product_ID.shape"
   ]
  },
  {
   "cell_type": "markdown",
   "metadata": {},
   "source": [
    "Recommending top 25 highly correlated products in sequence"
   ]
  },
  {
   "cell_type": "code",
   "execution_count": 43,
   "metadata": {},
   "outputs": [
    {
     "data": {
      "text/plain": [
       "['0152f69b6cf919bcdaf117aa8c43e5a2',\n",
       " '06edb72f1e0c64b14c5b79353f7abea3',\n",
       " '0d85c435fd60b277ffb9e9b0f88f927a',\n",
       " '11875b30b49585209e608f40e8082e65',\n",
       " '1613b819ab5dae53aead2dbb4ebdb378',\n",
       " '18b0e642cbae7251e60a64aa07dd9eb9',\n",
       " '19421075ae0b585f2dc13ff149e2119d',\n",
       " '2136c70bbe723d338fab53da3c03e6dc',\n",
       " '25f86162fee18735fffdb762dcb10d7c',\n",
       " '2a5806f10d0f00e5ad032dd2e3c8806e',\n",
       " '2b4609f8948be18874494203496bc318',\n",
       " '2ffdf10e724b958c0f7ea69e97d32f64',\n",
       " '41c24b8ce92d1a2cac62db5edfd088b2',\n",
       " '4520766ec412348b8d4caa5e8a18c464',\n",
       " '4ae634441e444ca4bc85903cafe98d73',\n",
       " '4fcb3d9a5f4871e8362dfedbdb02b064',\n",
       " '4fe644d766c7566dbc46fb851363cb3b',\n",
       " '5f504b3a1c75b73d6151be81eb05bdc9',\n",
       " '617186c3d97ea56c9c683a8a3974e8c1',\n",
       " '64fb265487de2238627ce43fe8a67efc',\n",
       " '656e0eca68dcecf6a31b8ececfabe3e8',\n",
       " '6a8631b72a2f8729b91514db87e771c0',\n",
       " '703d742887bb9267f89b675608ba7aa0',\n",
       " '73326828aa5efe1ba096223de496f596']"
      ]
     },
     "execution_count": 43,
     "metadata": {},
     "output_type": "execute_result"
    }
   ],
   "source": [
    "Recommend = list(X1.index[correlation_product_ID > 0.65])\n",
    "\n",
    "# Removes the item already bought by the customer\n",
    "Recommend.remove(i) \n",
    "\n",
    "Recommend[0:24]"
   ]
  },
  {
   "cell_type": "markdown",
   "metadata": {},
   "source": [
    "Here are the top 10 products to be displayed by the recommendation system to the above customer based on the purchase history of other customers in the website."
   ]
  },
  {
   "cell_type": "code",
   "execution_count": null,
   "metadata": {},
   "outputs": [],
   "source": []
  },
  {
   "cell_type": "code",
   "execution_count": null,
   "metadata": {},
   "outputs": [],
   "source": []
  },
  {
   "cell_type": "code",
   "execution_count": null,
   "metadata": {},
   "outputs": [],
   "source": []
  },
  {
   "cell_type": "code",
   "execution_count": null,
   "metadata": {},
   "outputs": [],
   "source": []
  },
  {
   "cell_type": "code",
   "execution_count": null,
   "metadata": {},
   "outputs": [],
   "source": []
  }
 ],
 "metadata": {
  "kernelspec": {
   "display_name": "Python 3.8.1 64-bit",
   "language": "python",
   "name": "python38164bit0209044da7c742dab8314e0953beb93b"
  },
  "language_info": {
   "codemirror_mode": {
    "name": "ipython",
    "version": 3
   },
   "file_extension": ".py",
   "mimetype": "text/x-python",
   "name": "python",
   "nbconvert_exporter": "python",
   "pygments_lexer": "ipython3",
   "version": "3.8.1"
  }
 },
 "nbformat": 4,
 "nbformat_minor": 4
}
